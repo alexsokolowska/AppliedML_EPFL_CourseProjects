{
 "cells": [
  {
   "cell_type": "markdown",
   "metadata": {},
   "source": [
    "# Project House Prices\n",
    "\n",
    "Based on data of houses in the city of Ames in Iowa. The task is to create models to predict 500 house prices.\n",
    "1. A \"simple\" model with two variables (three with the target variable) \n",
    "2. An \"intermediate\" model (between 10 and 20 variables).\n",
    "3. A \"complex model\" with all variables."
   ]
  },
  {
   "cell_type": "markdown",
   "metadata": {},
   "source": [
    "## Data cleaning"
   ]
  },
  {
   "cell_type": "code",
   "execution_count": 1,
   "metadata": {
    "collapsed": false,
    "scrolled": true
   },
   "outputs": [],
   "source": [
    "import pandas as pd\n",
    "data = pd.read_csv(\"house-prices.csv\")"
   ]
  },
  {
   "cell_type": "code",
   "execution_count": 2,
   "metadata": {
    "collapsed": false,
    "scrolled": false
   },
   "outputs": [
    {
     "name": "stdout",
     "output_type": "stream",
     "text": [
      "<class 'pandas.core.frame.DataFrame'>\n",
      "RangeIndex: 2430 entries, 0 to 2429\n",
      "Data columns (total 82 columns):\n",
      "Order              2430 non-null int64\n",
      "PID                2430 non-null int64\n",
      "MS SubClass        2430 non-null int64\n",
      "MS Zoning          2430 non-null object\n",
      "Lot Frontage       2010 non-null float64\n",
      "Lot Area           2430 non-null int64\n",
      "Street             2430 non-null object\n",
      "Alley              163 non-null object\n",
      "Lot Shape          2430 non-null object\n",
      "Land Contour       2430 non-null object\n",
      "Utilities          2430 non-null object\n",
      "Lot Config         2430 non-null object\n",
      "Land Slope         2430 non-null object\n",
      "Neighborhood       2430 non-null object\n",
      "Condition 1        2430 non-null object\n",
      "Condition 2        2430 non-null object\n",
      "Bldg Type          2430 non-null object\n",
      "House Style        2430 non-null object\n",
      "Overall Qual       2430 non-null int64\n",
      "Overall Cond       2430 non-null int64\n",
      "Year Built         2430 non-null int64\n",
      "Year Remod/Add     2430 non-null int64\n",
      "Roof Style         2430 non-null object\n",
      "Roof Matl          2430 non-null object\n",
      "Exterior 1st       2430 non-null object\n",
      "Exterior 2nd       2430 non-null object\n",
      "Mas Vnr Type       2410 non-null object\n",
      "Mas Vnr Area       2410 non-null float64\n",
      "Exter Qual         2430 non-null object\n",
      "Exter Cond         2430 non-null object\n",
      "Foundation         2430 non-null object\n",
      "Bsmt Qual          2359 non-null object\n",
      "Bsmt Cond          2359 non-null object\n",
      "Bsmt Exposure      2356 non-null object\n",
      "BsmtFin Type 1     2359 non-null object\n",
      "BsmtFin SF 1       2429 non-null float64\n",
      "BsmtFin Type 2     2358 non-null object\n",
      "BsmtFin SF 2       2429 non-null float64\n",
      "Bsmt Unf SF        2429 non-null float64\n",
      "Total Bsmt SF      2429 non-null float64\n",
      "Heating            2430 non-null object\n",
      "Heating QC         2430 non-null object\n",
      "Central Air        2430 non-null object\n",
      "Electrical         2429 non-null object\n",
      "1st Flr SF         2430 non-null int64\n",
      "2nd Flr SF         2430 non-null int64\n",
      "Low Qual Fin SF    2430 non-null int64\n",
      "Gr Liv Area        2430 non-null int64\n",
      "Bsmt Full Bath     2428 non-null float64\n",
      "Bsmt Half Bath     2428 non-null float64\n",
      "Full Bath          2430 non-null int64\n",
      "Half Bath          2430 non-null int64\n",
      "Bedroom AbvGr      2430 non-null int64\n",
      "Kitchen AbvGr      2430 non-null int64\n",
      "Kitchen Qual       2430 non-null object\n",
      "TotRms AbvGrd      2430 non-null int64\n",
      "Functional         2430 non-null object\n",
      "Fireplaces         2430 non-null int64\n",
      "Fireplace Qu       1244 non-null object\n",
      "Garage Type        2294 non-null object\n",
      "Garage Yr Blt      2292 non-null float64\n",
      "Garage Finish      2292 non-null object\n",
      "Garage Cars        2429 non-null float64\n",
      "Garage Area        2429 non-null float64\n",
      "Garage Qual        2292 non-null object\n",
      "Garage Cond        2292 non-null object\n",
      "Paved Drive        2430 non-null object\n",
      "Wood Deck SF       2430 non-null int64\n",
      "Open Porch SF      2430 non-null int64\n",
      "Enclosed Porch     2430 non-null int64\n",
      "3Ssn Porch         2430 non-null int64\n",
      "Screen Porch       2430 non-null int64\n",
      "Pool Area          2430 non-null int64\n",
      "Pool QC            12 non-null object\n",
      "Fence              489 non-null object\n",
      "Misc Feature       90 non-null object\n",
      "Misc Val           2430 non-null int64\n",
      "Mo Sold            2430 non-null int64\n",
      "Yr Sold            2430 non-null int64\n",
      "Sale Type          2430 non-null object\n",
      "Sale Condition     2430 non-null object\n",
      "SalePrice          2430 non-null int64\n",
      "dtypes: float64(11), int64(28), object(43)\n",
      "memory usage: 1.5+ MB\n"
     ]
    }
   ],
   "source": [
    "data.info()"
   ]
  },
  {
   "cell_type": "code",
   "execution_count": 3,
   "metadata": {
    "collapsed": true,
    "scrolled": true
   },
   "outputs": [],
   "source": [
    "# remove columns with >50% missing values\n",
    "data.drop(['Alley','Pool QC', 'Fence', 'Misc Feature', 'Fireplace Qu'], axis=1, inplace=True)"
   ]
  },
  {
   "cell_type": "code",
   "execution_count": 4,
   "metadata": {
    "collapsed": false,
    "scrolled": false
   },
   "outputs": [
    {
     "name": "stdout",
     "output_type": "stream",
     "text": [
      "Lot Frontage 420 \t\t <class 'numpy.float64'>\n",
      "Mas Vnr Type 20 \t\t <class 'str'>\n",
      "Mas Vnr Area 20 \t\t <class 'numpy.float64'>\n",
      "Bsmt Qual 71 \t\t <class 'str'>\n",
      "Bsmt Cond 71 \t\t <class 'str'>\n",
      "Bsmt Exposure 74 \t\t <class 'str'>\n",
      "BsmtFin Type 1 71 \t\t <class 'str'>\n",
      "BsmtFin SF 1 1 \t\t <class 'numpy.float64'>\n",
      "BsmtFin Type 2 72 \t\t <class 'str'>\n",
      "BsmtFin SF 2 1 \t\t <class 'numpy.float64'>\n",
      "Bsmt Unf SF 1 \t\t <class 'numpy.float64'>\n",
      "Total Bsmt SF 1 \t\t <class 'numpy.float64'>\n",
      "Electrical 1 \t\t <class 'str'>\n",
      "Bsmt Full Bath 2 \t\t <class 'numpy.float64'>\n",
      "Bsmt Half Bath 2 \t\t <class 'numpy.float64'>\n",
      "Garage Type 136 \t\t <class 'str'>\n",
      "Garage Yr Blt 138 \t\t <class 'numpy.float64'>\n",
      "Garage Finish 138 \t\t <class 'str'>\n",
      "Garage Cars 1 \t\t <class 'numpy.float64'>\n",
      "Garage Area 1 \t\t <class 'numpy.float64'>\n",
      "Garage Qual 138 \t\t <class 'str'>\n",
      "Garage Cond 138 \t\t <class 'str'>\n"
     ]
    }
   ],
   "source": [
    "import numpy as np\n",
    "#number of missing values in each feature\n",
    "def missing_values(data):\n",
    "    series = data.isnull().sum()\n",
    "    nans_keys = []\n",
    "    nans_val = []\n",
    "    for key in series.index:\n",
    "        if series.loc[key]!=0:\n",
    "            print(key, series.loc[key], '\\t\\t', type(data[key][0]))\n",
    "            nans_keys.append(key)\n",
    "            nans_val.append(series.loc[key])\n",
    "    return np.array(nans_keys), np.array(nans_val)\n",
    "\n",
    "nans_keys, nans_val = missing_values(data)"
   ]
  },
  {
   "cell_type": "code",
   "execution_count": 5,
   "metadata": {
    "collapsed": false,
    "scrolled": true
   },
   "outputs": [
    {
     "data": {
      "text/plain": [
       "array(['Mas Vnr Type', 'Mas Vnr Area', 'BsmtFin SF 1', 'BsmtFin SF 2',\n",
       "       'Bsmt Unf SF', 'Total Bsmt SF', 'Electrical', 'Bsmt Full Bath',\n",
       "       'Bsmt Half Bath', 'Garage Cars', 'Garage Area'], dtype='<U14')"
      ]
     },
     "execution_count": 5,
     "metadata": {},
     "output_type": "execute_result"
    }
   ],
   "source": [
    "nans_keys[nans_val<21]"
   ]
  },
  {
   "cell_type": "code",
   "execution_count": 6,
   "metadata": {
    "collapsed": true,
    "scrolled": true
   },
   "outputs": [],
   "source": [
    "#remove all nans from columns with up to 20 missing values (a loss we can afford, <1%)\n",
    "data.dropna(subset=nans_keys[nans_val<21], inplace=True)"
   ]
  },
  {
   "cell_type": "code",
   "execution_count": 7,
   "metadata": {
    "collapsed": false,
    "scrolled": false
   },
   "outputs": [
    {
     "name": "stdout",
     "output_type": "stream",
     "text": [
      "Lot Frontage 414 \t\t <class 'numpy.float64'>\n",
      "Bsmt Qual 69 \t\t <class 'str'>\n",
      "Bsmt Cond 69 \t\t <class 'str'>\n",
      "Bsmt Exposure 72 \t\t <class 'str'>\n",
      "BsmtFin Type 1 69 \t\t <class 'str'>\n",
      "BsmtFin Type 2 70 \t\t <class 'str'>\n",
      "Garage Type 135 \t\t <class 'str'>\n",
      "Garage Yr Blt 136 \t\t <class 'numpy.float64'>\n",
      "Garage Finish 136 \t\t <class 'str'>\n",
      "Garage Qual 136 \t\t <class 'str'>\n",
      "Garage Cond 136 \t\t <class 'str'>\n"
     ]
    },
    {
     "data": {
      "text/plain": [
       "(array(['Lot Frontage', 'Bsmt Qual', 'Bsmt Cond', 'Bsmt Exposure',\n",
       "        'BsmtFin Type 1', 'BsmtFin Type 2', 'Garage Type', 'Garage Yr Blt',\n",
       "        'Garage Finish', 'Garage Qual', 'Garage Cond'], dtype='<U14'),\n",
       " array([414,  69,  69,  72,  69,  70, 135, 136, 136, 136, 136]))"
      ]
     },
     "execution_count": 7,
     "metadata": {},
     "output_type": "execute_result"
    }
   ],
   "source": [
    "#what is left\n",
    "missing_values(data)"
   ]
  },
  {
   "cell_type": "code",
   "execution_count": 8,
   "metadata": {
    "collapsed": false,
    "scrolled": false
   },
   "outputs": [
    {
     "name": "stdout",
     "output_type": "stream",
     "text": [
      "Unique values for  Lot Frontage: [ nan  75.  21.  70.  60.  45.  57.  98.  72.  55.  35.  95.  86.  96.\n",
      "  63.  50.  47.  88. 108.  68. 112.  85.  77.  80.  58.  73.  32.  76.\n",
      " 100.  54.  91.  78.  92. 128.  53. 120.  79. 118.  97.  69.  40.  82.\n",
      "  90. 160.  67.  74.  93. 110.  52.  62.  39. 107.  24.  65.  51.  36.\n",
      "  71.  61. 122.  64.  43.  83.  34.  44.  87.  66. 102.  48.  84. 104.\n",
      "  94. 134.  56.  41. 103.  30. 106.  49. 105.  59.  89.  81. 125.  42.\n",
      " 124. 140. 101. 138. 114. 121. 129. 130.  37. 200.  99. 126. 149.  38.\n",
      " 152. 168. 313. 109.  46. 116. 155.  26. 174. 136.  33. 182. 119. 113.\n",
      " 133. 195.  22.  31.  25. 141. 115. 150. 135.] \n",
      "\n",
      "Unique values for  Bsmt Qual: ['Gd' 'TA' 'Ex' nan 'Fa' 'Po'] \n",
      "\n",
      "Unique values for  Bsmt Cond: ['TA' 'Gd' 'Fa' nan 'Ex' 'Po'] \n",
      "\n",
      "Unique values for  Bsmt Exposure: ['No' 'Av' 'Mn' 'Gd' nan] \n",
      "\n",
      "Unique values for  BsmtFin Type 1: ['GLQ' 'Unf' 'Rec' 'LwQ' 'BLQ' 'ALQ' nan] \n",
      "\n",
      "Unique values for  BsmtFin Type 2: ['Unf' 'LwQ' 'BLQ' nan 'Rec' 'ALQ' 'GLQ'] \n",
      "\n",
      "Unique values for  Garage Type: ['BuiltIn' 'Attchd' 'Detchd' nan '2Types' 'Basment' 'CarPort'] \n",
      "\n",
      "Unique values for  Garage Yr Blt: [2000. 1951. 1970. 1959. 1960. 1932. 1940. 1963. 2005. 1993. 2006. 2008.\n",
      " 1961. 2004.   nan 1945. 1967. 1972. 1977. 2001. 1958. 2003. 1973. 1974.\n",
      " 1997. 1979. 1975. 1985. 1998. 1900. 1986. 2007. 2002. 1955. 1920. 1930.\n",
      " 1988. 1950. 1996. 1925. 1999. 1971. 1968. 1926. 1980. 1976. 1916. 1941.\n",
      " 1990. 1978. 1957. 1947. 1966. 1923. 1942. 1992. 1989. 1995. 1962. 1969.\n",
      " 2009. 1937. 1964. 1991. 1965. 1921. 1939. 1956. 1954. 1936. 1994. 1938.\n",
      " 1948. 1987. 1952. 1910. 1981. 1953. 2010. 1984. 1919. 1949. 1927. 1931.\n",
      " 1933. 1982. 1915. 1935. 1928. 1918. 1924. 1929. 1983. 1917. 1922. 1946.\n",
      " 1908. 1943. 1914. 1934. 1896.] \n",
      "\n",
      "Unique values for  Garage Finish: ['Fin' 'Unf' 'RFn' nan] \n",
      "\n",
      "Unique values for  Garage Qual: ['TA' 'Fa' nan 'Gd' 'Ex' 'Po'] \n",
      "\n",
      "Unique values for  Garage Cond: ['TA' nan 'Fa' 'Gd' 'Ex' 'Po'] \n",
      "\n"
     ]
    }
   ],
   "source": [
    "#print unique values so that I can understand better how to replace the missing values\n",
    "series = data.isnull().sum()\n",
    "nans_keys = [] \n",
    "for key in series.index:\n",
    "    if series.loc[key]!=0:\n",
    "        print(\"Unique values for  %s: %s \\n\" %(key, data[key].unique()))"
   ]
  },
  {
   "cell_type": "code",
   "execution_count": 9,
   "metadata": {
    "collapsed": true,
    "scrolled": true
   },
   "outputs": [],
   "source": [
    "#For anything related to basement, NaN has a meaning (no basement), so replacing it with a string\n",
    "for i in ['Bsmt Qual', 'Bsmt Cond', 'Bsmt Exposure','BsmtFin Type 1', 'BsmtFin Type 2']:\n",
    "    data[i].fillna(value=\"NoBasement\", inplace=True)     "
   ]
  },
  {
   "cell_type": "code",
   "execution_count": 10,
   "metadata": {
    "collapsed": false,
    "scrolled": true
   },
   "outputs": [
    {
     "name": "stdout",
     "output_type": "stream",
     "text": [
      "Lot Frontage 414 \t\t <class 'numpy.float64'>\n",
      "Garage Type 135 \t\t <class 'str'>\n",
      "Garage Yr Blt 136 \t\t <class 'numpy.float64'>\n",
      "Garage Finish 136 \t\t <class 'str'>\n",
      "Garage Qual 136 \t\t <class 'str'>\n",
      "Garage Cond 136 \t\t <class 'str'>\n"
     ]
    },
    {
     "data": {
      "text/plain": [
       "(array(['Lot Frontage', 'Garage Type', 'Garage Yr Blt', 'Garage Finish',\n",
       "        'Garage Qual', 'Garage Cond'], dtype='<U13'),\n",
       " array([414, 135, 136, 136, 136, 136]))"
      ]
     },
     "execution_count": 10,
     "metadata": {},
     "output_type": "execute_result"
    }
   ],
   "source": [
    "missing_values(data)"
   ]
  },
  {
   "cell_type": "code",
   "execution_count": 11,
   "metadata": {
    "collapsed": true,
    "scrolled": true
   },
   "outputs": [],
   "source": [
    "#similarly for a garage\n",
    "for i in ['Garage Type','Garage Finish', 'Garage Qual', 'Garage Cond']:\n",
    "    data[i].fillna(value=\"NoGarage\", inplace=True)    "
   ]
  },
  {
   "cell_type": "code",
   "execution_count": 12,
   "metadata": {
    "collapsed": false,
    "scrolled": true
   },
   "outputs": [
    {
     "name": "stdout",
     "output_type": "stream",
     "text": [
      "Lot Frontage 414 \t\t <class 'numpy.float64'>\n",
      "Garage Yr Blt 136 \t\t <class 'numpy.float64'>\n"
     ]
    },
    {
     "data": {
      "text/plain": [
       "(array(['Lot Frontage', 'Garage Yr Blt'], dtype='<U13'), array([414, 136]))"
      ]
     },
     "execution_count": 12,
     "metadata": {},
     "output_type": "execute_result"
    }
   ],
   "source": [
    "missing_values(data)"
   ]
  },
  {
   "cell_type": "code",
   "execution_count": 13,
   "metadata": {
    "collapsed": true,
    "scrolled": true
   },
   "outputs": [],
   "source": [
    "#numerical values left (lot frontage and year built), filling it with the average or the most frequent value\n",
    "data['Lot Frontage'].fillna(value=data['Lot Frontage'].mean(), inplace=True)\n",
    "most_freq = int(data['Garage Yr Blt'].value_counts().index[0])\n",
    "data['Garage Yr Blt'].fillna(value=most_freq, inplace=True)"
   ]
  },
  {
   "cell_type": "code",
   "execution_count": 14,
   "metadata": {
    "collapsed": false,
    "scrolled": true
   },
   "outputs": [
    {
     "data": {
      "text/plain": [
       "(array([], dtype=float64), array([], dtype=float64))"
      ]
     },
     "execution_count": 14,
     "metadata": {},
     "output_type": "execute_result"
    }
   ],
   "source": [
    "missing_values(data)"
   ]
  },
  {
   "cell_type": "code",
   "execution_count": 15,
   "metadata": {
    "collapsed": false,
    "scrolled": true
   },
   "outputs": [
    {
     "data": {
      "text/plain": [
       "0"
      ]
     },
     "execution_count": 15,
     "metadata": {},
     "output_type": "execute_result"
    }
   ],
   "source": [
    "#would remove duplicated rows if present but\n",
    "len(data[data.duplicated(data)==True])"
   ]
  },
  {
   "cell_type": "code",
   "execution_count": 16,
   "metadata": {
    "collapsed": false,
    "scrolled": true
   },
   "outputs": [
    {
     "name": "stdout",
     "output_type": "stream",
     "text": [
      "Order \t 2406 \t [ 484 2586 2289  142 2042] (...)\n",
      "PID \t 2406 \t [528275070 535305120 923228250 535152150 903475060] (...)\n",
      "MS SubClass \t 16 \t [ 60  20 160 190  50] (...)\n",
      "Lot Frontage \t 121 \t [69.14558233 75.         21.         70.         60.        ] (...)\n",
      "Lot Area \t 1679 \t [ 8795 10170  2001 10552 10120] (...)\n",
      "Overall Qual \t 10 \t [7 6 4 5 8] (...)\n",
      "Overall Cond \t 9 \t [5 6 4 8 7] (...)\n",
      "Year Built \t 115 \t [2000 1951 1970 1959 1910] (...)\n",
      "Year Remod/Add \t 61 \t [2000 1951 1970 1959 1950] (...)\n",
      "Mas Vnr Area \t 408 \t [  0. 522.  80. 198. 240.] (...)\n",
      "BsmtFin SF 1 \t 902 \t [ 300.    0. 1018. 1088. 1350.] (...)\n",
      "BsmtFin SF 2 \t 239 \t [  0. 116.  32. 123. 488.] (...)\n",
      "Bsmt Unf SF \t 1038 \t [652. 216. 546. 380. 925.] (...)\n",
      "Total Bsmt SF \t 963 \t [ 952.  216.  546. 1398.  925.] (...)\n",
      "1st Flr SF \t 983 \t [ 980 1575  546 1700  964] (...)\n",
      "2nd Flr SF \t 549 \t [1276    0  546  925  412] (...)\n",
      "Low Qual Fin SF \t 30 \t [  0 120 362 473 481] (...)\n",
      "Gr Liv Area \t 1156 \t [2256 1575 1092 1700 1889] (...)\n",
      "Bsmt Full Bath \t 4 \t [0. 1. 3. 2.] (...)\n",
      "Bsmt Half Bath \t 3 \t [0. 1. 2.] (...)\n",
      "Full Bath \t 5 \t [2 1 3 0 4] (...)\n",
      "Half Bath \t 3 \t [1 0 2] (...)\n",
      "Bedroom AbvGr \t 8 \t [4 2 3 1 5] (...)\n",
      "Kitchen AbvGr \t 4 \t [1 2 3 0] (...)\n",
      "TotRms AbvGrd \t 14 \t [8 5 6 9 7] (...)\n",
      "Fireplaces \t 5 \t [1 0 2 3 4] (...)\n",
      "Garage Yr Blt \t 100 \t [2000. 1951. 1970. 1959. 1960.] (...)\n",
      "Garage Cars \t 5 \t [2. 1. 3. 0. 4.] (...)\n",
      "Garage Area \t 555 \t [554. 400. 286. 447. 308.] (...)\n",
      "Wood Deck SF \t 351 \t [224   0  84  48 172] (...)\n",
      "Open Porch SF \t 233 \t [ 54   0  38 172 116] (...)\n",
      "Enclosed Porch \t 159 \t [  0 264  96  60 244] (...)\n",
      "3Ssn Porch \t 24 \t [  0 144 255  96 153] (...)\n",
      "Screen Porch \t 111 \t [  0 204 256 120 176] (...)\n",
      "Pool Area \t 13 \t [  0 648 555 228 144] (...)\n",
      "Misc Val \t 34 \t [    0   350  6500   400 17000] (...)\n",
      "Mo Sold \t 12 \t [4 6 1 5 9] (...)\n",
      "Yr Sold \t 5 \t [2009 2006 2007 2010 2008] (...)\n",
      "SalePrice \t 895 \t [236000 155000  75000 165500 122000] (...)\n"
     ]
    }
   ],
   "source": [
    "#find numerical values and inspect which are encoded categories (cross-check with the documentation!)\n",
    "numeric = data._get_numeric_data().columns\n",
    "for num in numeric:\n",
    "    print(\"%s \\t %s \\t %s (...)\" %(num, len(data[num].unique()), data[num].unique()[:5]))"
   ]
  },
  {
   "cell_type": "markdown",
   "metadata": {},
   "source": [
    "Handling outliers with z-scores but only for non-categorical columns, which after inspecting the documentation and data, will be identified with regex if the name has Area, Frontage,SF, or Porch in it.\n",
    "\n",
    "Also, the values with a few unique non-categorical results like Pool Area (13) was unfortunately removing too many data points with the z-scores method, so I excluded it, based on this condition."
   ]
  },
  {
   "cell_type": "code",
   "execution_count": 17,
   "metadata": {
    "collapsed": false,
    "scrolled": true
   },
   "outputs": [
    {
     "name": "stdout",
     "output_type": "stream",
     "text": [
      "['Lot Frontage', 'Lot Area', 'Mas Vnr Area', 'BsmtFin SF 1', 'BsmtFin SF 2', 'Bsmt Unf SF', 'Total Bsmt SF', '1st Flr SF', '2nd Flr SF', 'Low Qual Fin SF', 'Gr Liv Area', 'Garage Area', 'Wood Deck SF', 'Open Porch SF', 'Enclosed Porch', '3Ssn Porch', 'Screen Porch']\n"
     ]
    }
   ],
   "source": [
    "out = []\n",
    "for num in numeric:\n",
    "    if (((\"Area\" in num) | (\"Frontage\" in num) | (\"SF\" in num) | (\"Porch\" in num)) & (len(data[num].unique())>20)):\n",
    "        out.append(num)\n",
    "print(out)"
   ]
  },
  {
   "cell_type": "code",
   "execution_count": 18,
   "metadata": {
    "collapsed": true,
    "scrolled": true
   },
   "outputs": [],
   "source": [
    "def z_scores(x):\n",
    "    return (x-x.mean())/x.std()"
   ]
  },
  {
   "cell_type": "code",
   "execution_count": 19,
   "metadata": {
    "collapsed": false,
    "scrolled": true
   },
   "outputs": [
    {
     "name": "stdout",
     "output_type": "stream",
     "text": [
      "2368\n",
      "2326\n",
      "2261\n",
      "2299\n",
      "2145\n",
      "2209\n",
      "2210\n",
      "2200\n",
      "2198\n",
      "2171\n",
      "2155\n",
      "2156\n",
      "2107\n",
      "2055\n",
      "1934\n",
      "1998\n",
      "1836\n"
     ]
    }
   ],
   "source": [
    "#compute z-score per column\n",
    "for num in out:\n",
    "    data = data[(abs(z_scores(data[num]))<3)]\n",
    "    print(len(data[z_scores(data[num])<3]))\n",
    "# remove all rows with outliers"
   ]
  },
  {
   "cell_type": "markdown",
   "metadata": {},
   "source": [
    "Data is cleaned. Now I can remove also Order and PID, being sure the order will be preserved."
   ]
  },
  {
   "cell_type": "code",
   "execution_count": 20,
   "metadata": {
    "collapsed": true,
    "scrolled": true
   },
   "outputs": [],
   "source": [
    "# Add a LogSalePrice variable to the DataFrame\n",
    "data['LogSalePrice'] = np.log10(data['SalePrice'])"
   ]
  },
  {
   "cell_type": "code",
   "execution_count": 21,
   "metadata": {
    "collapsed": true,
    "scrolled": true
   },
   "outputs": [],
   "source": [
    "PID = data.PID\n",
    "y = data.LogSalePrice\n",
    "data.drop(['PID', 'Order', 'SalePrice', 'LogSalePrice'], axis=1, inplace=True)"
   ]
  },
  {
   "cell_type": "code",
   "execution_count": 22,
   "metadata": {
    "collapsed": false,
    "scrolled": true
   },
   "outputs": [
    {
     "data": {
      "text/html": [
       "<div>\n",
       "<style scoped>\n",
       "    .dataframe tbody tr th:only-of-type {\n",
       "        vertical-align: middle;\n",
       "    }\n",
       "\n",
       "    .dataframe tbody tr th {\n",
       "        vertical-align: top;\n",
       "    }\n",
       "\n",
       "    .dataframe thead th {\n",
       "        text-align: right;\n",
       "    }\n",
       "</style>\n",
       "<table border=\"1\" class=\"dataframe\">\n",
       "  <thead>\n",
       "    <tr style=\"text-align: right;\">\n",
       "      <th></th>\n",
       "      <th>MS SubClass</th>\n",
       "      <th>MS Zoning</th>\n",
       "      <th>Lot Frontage</th>\n",
       "      <th>Lot Area</th>\n",
       "      <th>Street</th>\n",
       "      <th>Lot Shape</th>\n",
       "      <th>Land Contour</th>\n",
       "      <th>Utilities</th>\n",
       "      <th>Lot Config</th>\n",
       "      <th>Land Slope</th>\n",
       "      <th>...</th>\n",
       "      <th>Open Porch SF</th>\n",
       "      <th>Enclosed Porch</th>\n",
       "      <th>3Ssn Porch</th>\n",
       "      <th>Screen Porch</th>\n",
       "      <th>Pool Area</th>\n",
       "      <th>Misc Val</th>\n",
       "      <th>Mo Sold</th>\n",
       "      <th>Yr Sold</th>\n",
       "      <th>Sale Type</th>\n",
       "      <th>Sale Condition</th>\n",
       "    </tr>\n",
       "  </thead>\n",
       "  <tbody>\n",
       "    <tr>\n",
       "      <th>0</th>\n",
       "      <td>60</td>\n",
       "      <td>RL</td>\n",
       "      <td>69.145582</td>\n",
       "      <td>8795</td>\n",
       "      <td>Pave</td>\n",
       "      <td>IR1</td>\n",
       "      <td>Lvl</td>\n",
       "      <td>AllPub</td>\n",
       "      <td>Inside</td>\n",
       "      <td>Gtl</td>\n",
       "      <td>...</td>\n",
       "      <td>54</td>\n",
       "      <td>0</td>\n",
       "      <td>0</td>\n",
       "      <td>0</td>\n",
       "      <td>0</td>\n",
       "      <td>0</td>\n",
       "      <td>4</td>\n",
       "      <td>2009</td>\n",
       "      <td>WD</td>\n",
       "      <td>Normal</td>\n",
       "    </tr>\n",
       "  </tbody>\n",
       "</table>\n",
       "<p>1 rows × 74 columns</p>\n",
       "</div>"
      ],
      "text/plain": [
       "   MS SubClass MS Zoning  Lot Frontage  Lot Area Street Lot Shape  \\\n",
       "0           60        RL     69.145582      8795   Pave       IR1   \n",
       "\n",
       "  Land Contour Utilities Lot Config Land Slope      ...       Open Porch SF  \\\n",
       "0          Lvl    AllPub     Inside        Gtl      ...                  54   \n",
       "\n",
       "  Enclosed Porch 3Ssn Porch Screen Porch Pool Area  Misc Val  Mo Sold  \\\n",
       "0              0          0            0         0         0        4   \n",
       "\n",
       "   Yr Sold  Sale Type Sale Condition  \n",
       "0     2009        WD          Normal  \n",
       "\n",
       "[1 rows x 74 columns]"
      ]
     },
     "execution_count": 22,
     "metadata": {},
     "output_type": "execute_result"
    }
   ],
   "source": [
    "data.head(1)"
   ]
  },
  {
   "cell_type": "markdown",
   "metadata": {},
   "source": [
    "# Numerical and one-hot encoding, feature engineering\n",
    "\n",
    "\n",
    "Variables | Encoding\n",
    "-- | --\n",
    "'Lot Shape' | 'Reg':0, 'IR1':1, 'IR2':2, 'IR3':3\n",
    "'Utilities'| 'AllPub':4, 'NoSewr':3, 'NoSeWa':2, 'ELO':1\n",
    "'Land Slope'| 'Gtl':0, 'Mod':1, 'Sev':2\n",
    "'Exter Cond', 'Exter Qual', 'Heating QC', 'Kitchen Qual' | 'Po': 0, 'Fa': 1, 'TA': 2, 'Gd': 3, 'Ex': 4\n",
    "'Garage Qual', 'FireplaceQu', 'Bsmt Qual', 'Bsmt Con'| 'Po': 1, 'Fa': 2, 'TA': 3, 'Gd': 4, 'Ex': 5, 'NA':0\n",
    "'Bsmt Exposure'| 'Gd':4, 'Av':3, 'Mn':2, 'No':1, 'NA':0\n",
    "'BsmtFin Type 1', 'BsmtFinType 2'|'GLQ': 6, 'ALQ':5, 'BLQ':4, 'Rec':3, 'LwQ':2, 'Unf':1, 'NA':0\n",
    "'Garage Finish'| 'Fin':3, 'RFn':2, 'Unf':1, 'NA':0\n",
    "'MS SubClass', 'MS Zoning',  'Street', 'Alley', 'Land Contour', 'Lot Config', 'Neighborhood', 'Condition 1', 'Condition 2', 'Bldg Type', 'House Style', 'Roof Style', 'Roof Matl', 'Exterior 1', 'Exterior 2', 'Foundation', 'Central Air' , 'Garage Type' | one-hot encoding of these nominal variables\n",
    "\n",
    "\n",
    "Your analysis should also include some feature engineering. \n",
    "- create total counts (number of rooms, total surface), indicator variables (year of construction is older than some threshold), transformations (take the logarithm of variables with skewed distributions, add polynomial features), and so on.\n"
   ]
  },
  {
   "cell_type": "code",
   "execution_count": 23,
   "metadata": {
    "collapsed": false,
    "scrolled": false
   },
   "outputs": [
    {
     "name": "stdout",
     "output_type": "stream",
     "text": [
      "{'Reg': 0, 'IR1': 1, 'IR2': 2, 'IR3': 3}\n",
      "['Lot Shape']\n",
      "      Lot Shape\n",
      "0             1\n",
      "1             0\n",
      "2             0\n",
      "3             1\n",
      "5             0\n",
      "6             0\n",
      "8             1\n",
      "9             0\n",
      "10            1\n",
      "11            0\n",
      "12            1\n",
      "13            1\n",
      "14            1\n",
      "15            0\n",
      "16            0\n",
      "17            0\n",
      "20            0\n",
      "21            0\n",
      "22            1\n",
      "23            0\n",
      "24            1\n",
      "25            0\n",
      "27            0\n",
      "28            1\n",
      "29            0\n",
      "30            0\n",
      "31            0\n",
      "32            0\n",
      "33            2\n",
      "35            1\n",
      "...         ...\n",
      "2385          1\n",
      "2386          0\n",
      "2387          0\n",
      "2388          0\n",
      "2390          1\n",
      "2392          0\n",
      "2394          0\n",
      "2395          0\n",
      "2398          2\n",
      "2399          1\n",
      "2400          0\n",
      "2401          1\n",
      "2402          0\n",
      "2404          1\n",
      "2405          0\n",
      "2406          0\n",
      "2407          0\n",
      "2408          0\n",
      "2412          2\n",
      "2414          1\n",
      "2415          0\n",
      "2416          0\n",
      "2418          0\n",
      "2421          1\n",
      "2422          0\n",
      "2423          0\n",
      "2424          1\n",
      "2425          0\n",
      "2426          2\n",
      "2429          0\n",
      "\n",
      "[1924 rows x 1 columns]\n",
      "{'AllPub': 4, 'NoSewr': 3, 'NoSeWa': 2, 'ELO': 1}\n",
      "['Utilities']\n",
      "      Utilities\n",
      "0             4\n",
      "1             4\n",
      "2             4\n",
      "3             4\n",
      "5             4\n",
      "6             4\n",
      "8             4\n",
      "9             4\n",
      "10            4\n",
      "11            4\n",
      "12            4\n",
      "13            4\n",
      "14            4\n",
      "15            4\n",
      "16            4\n",
      "17            4\n",
      "20            4\n",
      "21            4\n",
      "22            4\n",
      "23            4\n",
      "24            4\n",
      "25            4\n",
      "27            4\n",
      "28            4\n",
      "29            4\n",
      "30            4\n",
      "31            4\n",
      "32            4\n",
      "33            4\n",
      "35            4\n",
      "...         ...\n",
      "2385          4\n",
      "2386          4\n",
      "2387          4\n",
      "2388          4\n",
      "2390          4\n",
      "2392          4\n",
      "2394          4\n",
      "2395          4\n",
      "2398          4\n",
      "2399          4\n",
      "2400          4\n",
      "2401          4\n",
      "2402          4\n",
      "2404          4\n",
      "2405          4\n",
      "2406          4\n",
      "2407          4\n",
      "2408          4\n",
      "2412          4\n",
      "2414          4\n",
      "2415          4\n",
      "2416          4\n",
      "2418          4\n",
      "2421          4\n",
      "2422          4\n",
      "2423          4\n",
      "2424          4\n",
      "2425          4\n",
      "2426          4\n",
      "2429          4\n",
      "\n",
      "[1924 rows x 1 columns]\n",
      "{'Gtl': 0, 'Mod': 1, 'Sev': 2}\n",
      "['Land Slope']\n",
      "      Land Slope\n",
      "0              0\n",
      "1              0\n",
      "2              0\n",
      "3              0\n",
      "5              0\n",
      "6              0\n",
      "8              0\n",
      "9              0\n",
      "10             0\n",
      "11             0\n",
      "12             0\n",
      "13             0\n",
      "14             0\n",
      "15             0\n",
      "16             0\n",
      "17             0\n",
      "20             0\n",
      "21             0\n",
      "22             0\n",
      "23             0\n",
      "24             0\n",
      "25             0\n",
      "27             0\n",
      "28             0\n",
      "29             0\n",
      "30             1\n",
      "31             0\n",
      "32             0\n",
      "33             0\n",
      "35             0\n",
      "...          ...\n",
      "2385           0\n",
      "2386           0\n",
      "2387           0\n",
      "2388           0\n",
      "2390           0\n",
      "2392           0\n",
      "2394           0\n",
      "2395           0\n",
      "2398           0\n",
      "2399           0\n",
      "2400           0\n",
      "2401           0\n",
      "2402           0\n",
      "2404           1\n",
      "2405           0\n",
      "2406           0\n",
      "2407           0\n",
      "2408           0\n",
      "2412           0\n",
      "2414           0\n",
      "2415           0\n",
      "2416           0\n",
      "2418           0\n",
      "2421           0\n",
      "2422           0\n",
      "2423           0\n",
      "2424           0\n",
      "2425           0\n",
      "2426           1\n",
      "2429           0\n",
      "\n",
      "[1924 rows x 1 columns]\n",
      "{'Po': 0, 'Fa': 1, 'TA': 2, 'Gd': 3, 'Ex': 4}\n",
      "['Exter Cond', 'Exter Qual', 'Heating QC', 'Kitchen Qual']\n",
      "      Exter Cond  Exter Qual  Heating QC  Kitchen Qual\n",
      "0              2           3           4             3\n",
      "1              2           2           2             3\n",
      "2              2           2           1             2\n",
      "3              2           2           3             3\n",
      "5              3           2           2             2\n",
      "6              2           2           1             2\n",
      "8              2           3           4             3\n",
      "9              2           3           4             3\n",
      "10             2           3           4             3\n",
      "11             2           3           4             3\n",
      "12             2           3           4             3\n",
      "13             2           2           4             2\n",
      "14             2           3           4             3\n",
      "15             2           2           4             3\n",
      "16             2           2           1             2\n",
      "17             3           2           2             2\n",
      "20             1           2           2             2\n",
      "21             2           2           2             2\n",
      "22             2           3           4             3\n",
      "23             2           2           2             2\n",
      "24             2           3           4             3\n",
      "25             3           2           2             2\n",
      "27             2           2           3             3\n",
      "28             2           2           4             2\n",
      "29             3           2           2             3\n",
      "30             2           2           3             2\n",
      "31             2           2           2             3\n",
      "32             2           2           2             2\n",
      "33             2           3           3             2\n",
      "35             2           3           3             3\n",
      "...          ...         ...         ...           ...\n",
      "2385           3           2           4             2\n",
      "2386           2           2           2             2\n",
      "2387           2           2           2             3\n",
      "2388           2           2           2             2\n",
      "2390           2           3           4             3\n",
      "2392           2           2           1             2\n",
      "2394           2           2           4             4\n",
      "2395           2           2           2             2\n",
      "2398           2           4           4             3\n",
      "2399           2           3           4             3\n",
      "2400           2           2           2             2\n",
      "2401           2           2           3             2\n",
      "2402           2           2           1             2\n",
      "2404           2           2           4             2\n",
      "2405           2           3           4             3\n",
      "2406           2           2           3             2\n",
      "2407           2           2           3             2\n",
      "2408           2           2           3             2\n",
      "2412           2           2           4             2\n",
      "2414           3           2           2             2\n",
      "2415           3           2           4             1\n",
      "2416           4           2           2             2\n",
      "2418           2           2           4             2\n",
      "2421           2           3           4             3\n",
      "2422           2           2           4             1\n",
      "2423           2           2           2             2\n",
      "2424           2           3           4             3\n",
      "2425           3           2           2             2\n",
      "2426           3           2           3             3\n",
      "2429           3           2           4             2\n",
      "\n",
      "[1924 rows x 4 columns]\n",
      "{'Po': 1, 'Fa': 2, 'TA': 3, 'Gd': 4, 'Ex': 5, 'NoGarage': 0, 'NoBasement': 0}\n",
      "['Garage Qual', 'Bsmt Qual', 'Bsmt Cond']\n",
      "      Garage Qual  Bsmt Qual  Bsmt Cond\n",
      "0               3          4          3\n",
      "1               3          3          3\n",
      "2               3          3          3\n",
      "3               3          3          3\n",
      "5               2          3          3\n",
      "6               3          3          3\n",
      "8               3          4          3\n",
      "9               3          4          3\n",
      "10              3          4          3\n",
      "11              3          5          4\n",
      "12              3          4          3\n",
      "13              3          3          3\n",
      "14              3          4          3\n",
      "15              3          4          3\n",
      "16              0          4          3\n",
      "17              3          3          3\n",
      "20              3          3          2\n",
      "21              3          4          3\n",
      "22              3          4          3\n",
      "23              3          3          3\n",
      "24              3          5          3\n",
      "25              3          3          4\n",
      "27              3          3          3\n",
      "28              3          3          3\n",
      "29              3          3          3\n",
      "30              3          4          3\n",
      "31              3          3          3\n",
      "32              3          3          3\n",
      "33              3          4          3\n",
      "35              3          0          0\n",
      "...           ...        ...        ...\n",
      "2385            3          3          4\n",
      "2386            3          3          3\n",
      "2387            3          4          3\n",
      "2388            3          3          3\n",
      "2390            3          4          4\n",
      "2392            3          2          2\n",
      "2394            3          3          3\n",
      "2395            3          3          3\n",
      "2398            3          5          3\n",
      "2399            3          4          3\n",
      "2400            3          3          3\n",
      "2401            3          3          3\n",
      "2402            3          3          3\n",
      "2404            3          3          3\n",
      "2405            3          4          3\n",
      "2406            3          3          3\n",
      "2407            3          4          3\n",
      "2408            3          4          3\n",
      "2412            3          4          3\n",
      "2414            3          4          3\n",
      "2415            2          2          2\n",
      "2416            3          3          3\n",
      "2418            3          3          3\n",
      "2421            3          4          3\n",
      "2422            3          3          3\n",
      "2423            3          4          3\n",
      "2424            3          4          3\n",
      "2425            0          4          4\n",
      "2426            3          4          3\n",
      "2429            3          3          3\n",
      "\n",
      "[1924 rows x 3 columns]\n",
      "{'Gd': 4, 'Av': 3, 'Mn': 2, 'No': 1, 'NoBasement': 0}\n",
      "['Bsmt Exposure']\n",
      "      Bsmt Exposure\n",
      "0                 1\n",
      "1                 1\n",
      "2                 1\n",
      "3                 1\n",
      "5                 1\n",
      "6                 1\n",
      "8                 1\n",
      "9                 1\n",
      "10                1\n",
      "11                3\n",
      "12                2\n",
      "13                1\n",
      "14                4\n",
      "15                1\n",
      "16                3\n",
      "17                1\n",
      "20                1\n",
      "21                3\n",
      "22                1\n",
      "23                1\n",
      "24                4\n",
      "25                4\n",
      "27                1\n",
      "28                1\n",
      "29                1\n",
      "30                3\n",
      "31                1\n",
      "32                1\n",
      "33                1\n",
      "35                0\n",
      "...             ...\n",
      "2385              3\n",
      "2386              3\n",
      "2387              3\n",
      "2388              1\n",
      "2390              1\n",
      "2392              2\n",
      "2394              1\n",
      "2395              2\n",
      "2398              3\n",
      "2399              3\n",
      "2400              1\n",
      "2401              1\n",
      "2402              1\n",
      "2404              1\n",
      "2405              3\n",
      "2406              1\n",
      "2407              4\n",
      "2408              1\n",
      "2412              1\n",
      "2414              3\n",
      "2415              1\n",
      "2416              1\n",
      "2418              1\n",
      "2421              4\n",
      "2422              1\n",
      "2423              2\n",
      "2424              1\n",
      "2425              4\n",
      "2426              1\n",
      "2429              1\n",
      "\n",
      "[1924 rows x 1 columns]\n",
      "{'GLQ': 6, 'ALQ': 5, 'BLQ': 4, 'Rec': 3, 'LwQ': 2, 'Unf': 1, 'NoBasement': 0}\n",
      "['BsmtFin Type 1', 'BsmtFin Type 2']\n",
      "      BsmtFin Type 1  BsmtFin Type 2\n",
      "0                  6               1\n",
      "1                  1               1\n",
      "2                  1               1\n",
      "3                  3               1\n",
      "5                  1               1\n",
      "6                  1               1\n",
      "8                  1               1\n",
      "9                  6               1\n",
      "10                 1               1\n",
      "11                 6               1\n",
      "12                 1               1\n",
      "13                 4               1\n",
      "14                 1               1\n",
      "15                 5               1\n",
      "16                 6               1\n",
      "17                 1               1\n",
      "20                 4               1\n",
      "21                 6               2\n",
      "22                 1               1\n",
      "23                 1               1\n",
      "24                 1               1\n",
      "25                 6               1\n",
      "27                 3               1\n",
      "28                 6               1\n",
      "29                 1               1\n",
      "30                 5               2\n",
      "31                 5               1\n",
      "32                 3               1\n",
      "33                 1               1\n",
      "35                 0               0\n",
      "...              ...             ...\n",
      "2385               6               1\n",
      "2386               3               1\n",
      "2387               6               1\n",
      "2388               2               1\n",
      "2390               6               1\n",
      "2392               1               1\n",
      "2394               1               1\n",
      "2395               3               1\n",
      "2398               6               1\n",
      "2399               6               4\n",
      "2400               4               1\n",
      "2401               5               1\n",
      "2402               5               1\n",
      "2404               4               1\n",
      "2405               6               1\n",
      "2406               4               3\n",
      "2407               6               1\n",
      "2408               6               1\n",
      "2412               2               1\n",
      "2414               6               1\n",
      "2415               1               1\n",
      "2416               4               1\n",
      "2418               1               1\n",
      "2421               6               1\n",
      "2422               1               1\n",
      "2423               1               1\n",
      "2424               1               1\n",
      "2425               6               1\n",
      "2426               6               1\n",
      "2429               3               1\n",
      "\n",
      "[1924 rows x 2 columns]\n",
      "{'Fin': 3, 'RFn': 2, 'Unf': 1, 'NoGarage': 0, 'NoBasement': 0}\n",
      "['Garage Finish']\n",
      "      Garage Finish\n",
      "0                 3\n",
      "1                 1\n",
      "2                 1\n",
      "3                 2\n",
      "5                 1\n",
      "6                 1\n",
      "8                 3\n",
      "9                 2\n",
      "10                3\n",
      "11                3\n",
      "12                2\n",
      "13                1\n",
      "14                2\n",
      "15                1\n",
      "16                0\n",
      "17                1\n",
      "20                1\n",
      "21                2\n",
      "22                2\n",
      "23                1\n",
      "24                3\n",
      "25                1\n",
      "27                1\n",
      "28                3\n",
      "29                1\n",
      "30                2\n",
      "31                1\n",
      "32                1\n",
      "33                3\n",
      "35                2\n",
      "...             ...\n",
      "2385              1\n",
      "2386              1\n",
      "2387              3\n",
      "2388              1\n",
      "2390              3\n",
      "2392              1\n",
      "2394              1\n",
      "2395              1\n",
      "2398              3\n",
      "2399              1\n",
      "2400              1\n",
      "2401              2\n",
      "2402              1\n",
      "2404              1\n",
      "2405              2\n",
      "2406              3\n",
      "2407              3\n",
      "2408              1\n",
      "2412              3\n",
      "2414              1\n",
      "2415              1\n",
      "2416              1\n",
      "2418              2\n",
      "2421              1\n",
      "2422              1\n",
      "2423              1\n",
      "2424              2\n",
      "2425              0\n",
      "2426              1\n",
      "2429              2\n",
      "\n",
      "[1924 rows x 1 columns]\n"
     ]
    }
   ],
   "source": [
    "# Encode with integers ordinal ones\n",
    "features = [['Lot Shape'],['Utilities'],['Land Slope'],['Exter Cond', 'Exter Qual', 'Heating QC', 'Kitchen Qual'],\n",
    "            ['Garage Qual', 'Bsmt Qual', 'Bsmt Cond'],['Bsmt Exposure'],['BsmtFin Type 1', 'BsmtFin Type 2'],\n",
    "            ['Garage Finish']]\n",
    "encoding = [{'Reg':0, 'IR1':1, 'IR2':2, 'IR3':3},{'AllPub':4, 'NoSewr':3, 'NoSeWa':2, 'ELO':1},{'Gtl':0, 'Mod':1, 'Sev':2},\n",
    "            {'Po': 0, 'Fa': 1, 'TA': 2, 'Gd': 3, 'Ex': 4},{'Po': 1, 'Fa': 2, 'TA': 3, 'Gd': 4, 'Ex': 5, 'NoGarage':0, 'NoBasement':0},\n",
    "            {'Gd':4, 'Av':3, 'Mn':2, 'No':1, 'NoBasement':0},{'GLQ': 6, 'ALQ':5, 'BLQ':4, 'Rec':3, 'LwQ':2, 'Unf':1, 'NoBasement':0},\n",
    "            {'Fin':3, 'RFn':2, 'Unf':1, 'NoGarage':0, 'NoBasement':0}]\n",
    "\n",
    "for i in range(len(features)):\n",
    "    print(encoding[i])\n",
    "    print(features[i])\n",
    "    data[features[i]] = data[features[i]].replace(encoding[i])\n",
    "    print(data[features[i]])\n",
    "\n"
   ]
  },
  {
   "cell_type": "code",
   "execution_count": 24,
   "metadata": {
    "collapsed": true,
    "scrolled": true
   },
   "outputs": [],
   "source": [
    "#one-hot encoding\n",
    "nominal = data.select_dtypes(include='object').columns"
   ]
  },
  {
   "cell_type": "code",
   "execution_count": 25,
   "metadata": {
    "collapsed": false,
    "scrolled": true
   },
   "outputs": [
    {
     "data": {
      "text/html": [
       "<div>\n",
       "<style scoped>\n",
       "    .dataframe tbody tr th:only-of-type {\n",
       "        vertical-align: middle;\n",
       "    }\n",
       "\n",
       "    .dataframe tbody tr th {\n",
       "        vertical-align: top;\n",
       "    }\n",
       "\n",
       "    .dataframe thead th {\n",
       "        text-align: right;\n",
       "    }\n",
       "</style>\n",
       "<table border=\"1\" class=\"dataframe\">\n",
       "  <thead>\n",
       "    <tr style=\"text-align: right;\">\n",
       "      <th></th>\n",
       "      <th>MS SubClass</th>\n",
       "      <th>Lot Frontage</th>\n",
       "      <th>Lot Area</th>\n",
       "      <th>Lot Shape</th>\n",
       "      <th>Utilities</th>\n",
       "      <th>Land Slope</th>\n",
       "      <th>Overall Qual</th>\n",
       "      <th>Overall Cond</th>\n",
       "      <th>Year Built</th>\n",
       "      <th>Year Remod/Add</th>\n",
       "      <th>...</th>\n",
       "      <th>Sale Type_ConLw</th>\n",
       "      <th>Sale Type_New</th>\n",
       "      <th>Sale Type_Oth</th>\n",
       "      <th>Sale Type_WD</th>\n",
       "      <th>Sale Condition_Abnorml</th>\n",
       "      <th>Sale Condition_AdjLand</th>\n",
       "      <th>Sale Condition_Alloca</th>\n",
       "      <th>Sale Condition_Family</th>\n",
       "      <th>Sale Condition_Normal</th>\n",
       "      <th>Sale Condition_Partial</th>\n",
       "    </tr>\n",
       "  </thead>\n",
       "  <tbody>\n",
       "    <tr>\n",
       "      <th>0</th>\n",
       "      <td>60</td>\n",
       "      <td>69.145582</td>\n",
       "      <td>8795</td>\n",
       "      <td>1</td>\n",
       "      <td>4</td>\n",
       "      <td>0</td>\n",
       "      <td>7</td>\n",
       "      <td>5</td>\n",
       "      <td>2000</td>\n",
       "      <td>2000</td>\n",
       "      <td>...</td>\n",
       "      <td>0</td>\n",
       "      <td>0</td>\n",
       "      <td>0</td>\n",
       "      <td>1</td>\n",
       "      <td>0</td>\n",
       "      <td>0</td>\n",
       "      <td>0</td>\n",
       "      <td>0</td>\n",
       "      <td>1</td>\n",
       "      <td>0</td>\n",
       "    </tr>\n",
       "    <tr>\n",
       "      <th>1</th>\n",
       "      <td>20</td>\n",
       "      <td>75.000000</td>\n",
       "      <td>10170</td>\n",
       "      <td>0</td>\n",
       "      <td>4</td>\n",
       "      <td>0</td>\n",
       "      <td>6</td>\n",
       "      <td>6</td>\n",
       "      <td>1951</td>\n",
       "      <td>1951</td>\n",
       "      <td>...</td>\n",
       "      <td>0</td>\n",
       "      <td>0</td>\n",
       "      <td>0</td>\n",
       "      <td>1</td>\n",
       "      <td>0</td>\n",
       "      <td>0</td>\n",
       "      <td>0</td>\n",
       "      <td>0</td>\n",
       "      <td>1</td>\n",
       "      <td>0</td>\n",
       "    </tr>\n",
       "  </tbody>\n",
       "</table>\n",
       "<p>2 rows × 228 columns</p>\n",
       "</div>"
      ],
      "text/plain": [
       "   MS SubClass  Lot Frontage  Lot Area  Lot Shape  Utilities  Land Slope  \\\n",
       "0           60     69.145582      8795          1          4           0   \n",
       "1           20     75.000000     10170          0          4           0   \n",
       "\n",
       "   Overall Qual  Overall Cond  Year Built  Year Remod/Add  \\\n",
       "0             7             5        2000            2000   \n",
       "1             6             6        1951            1951   \n",
       "\n",
       "            ...            Sale Type_ConLw  Sale Type_New  Sale Type_Oth  \\\n",
       "0           ...                          0              0              0   \n",
       "1           ...                          0              0              0   \n",
       "\n",
       "   Sale Type_WD   Sale Condition_Abnorml  Sale Condition_AdjLand  \\\n",
       "0              1                       0                       0   \n",
       "1              1                       0                       0   \n",
       "\n",
       "   Sale Condition_Alloca  Sale Condition_Family  Sale Condition_Normal  \\\n",
       "0                      0                      0                      1   \n",
       "1                      0                      0                      1   \n",
       "\n",
       "   Sale Condition_Partial  \n",
       "0                       0  \n",
       "1                       0  \n",
       "\n",
       "[2 rows x 228 columns]"
      ]
     },
     "execution_count": 25,
     "metadata": {},
     "output_type": "execute_result"
    }
   ],
   "source": [
    "#nominal = ['Mas Vnr Type', 'MS SubClass', 'MS Zoning', 'Street', 'Land Contour', 'Lot Config', 'Neighborhood', 'Condition 1', 'Condition 2', 'Bldg Type', 'House Style', 'Roof Style', 'Roof Matl', 'Exterior 1st', 'Exterior 2nd', 'Foundation', 'Central Air' , 'Garage Type']\n",
    "encoded = pd.get_dummies(data, columns=nominal)\n",
    "encoded.head(2)"
   ]
  },
  {
   "cell_type": "code",
   "execution_count": 26,
   "metadata": {
    "collapsed": false,
    "scrolled": false
   },
   "outputs": [
    {
     "name": "stdout",
     "output_type": "stream",
     "text": [
      "MS SubClass\n",
      "Lot Frontage\n",
      "Lot Area\n",
      "Lot Shape\n",
      "Utilities\n",
      "Land Slope\n",
      "Overall Qual\n",
      "Overall Cond\n",
      "Year Built\n",
      "Year Remod/Add\n",
      "Mas Vnr Area\n",
      "Exter Qual\n",
      "Exter Cond\n",
      "Bsmt Qual\n",
      "Bsmt Cond\n",
      "Bsmt Exposure\n",
      "BsmtFin Type 1\n",
      "BsmtFin SF 1\n",
      "BsmtFin Type 2\n",
      "BsmtFin SF 2\n",
      "Bsmt Unf SF\n",
      "Total Bsmt SF\n",
      "Heating QC\n",
      "1st Flr SF\n",
      "2nd Flr SF\n",
      "Low Qual Fin SF\n",
      "Gr Liv Area\n",
      "Bsmt Full Bath\n",
      "Bsmt Half Bath\n",
      "Full Bath\n",
      "Half Bath\n",
      "Bedroom AbvGr\n",
      "Kitchen AbvGr\n",
      "Kitchen Qual\n",
      "TotRms AbvGrd\n",
      "Fireplaces\n",
      "Garage Yr Blt\n",
      "Garage Finish\n",
      "Garage Cars\n",
      "Garage Area\n",
      "Garage Qual\n",
      "Wood Deck SF\n",
      "Open Porch SF\n",
      "Enclosed Porch\n",
      "3Ssn Porch\n",
      "Screen Porch\n",
      "Pool Area\n",
      "Misc Val\n",
      "Mo Sold\n",
      "Yr Sold\n",
      "MS Zoning_A (agr)\n",
      "MS Zoning_C (all)\n",
      "MS Zoning_FV\n",
      "MS Zoning_I (all)\n",
      "MS Zoning_RH\n",
      "MS Zoning_RL\n",
      "MS Zoning_RM\n",
      "Street_Grvl\n",
      "Street_Pave\n",
      "Land Contour_Bnk\n",
      "Land Contour_HLS\n",
      "Land Contour_Low\n",
      "Land Contour_Lvl\n",
      "Lot Config_Corner\n",
      "Lot Config_CulDSac\n",
      "Lot Config_FR2\n",
      "Lot Config_FR3\n",
      "Lot Config_Inside\n",
      "Neighborhood_Blmngtn\n",
      "Neighborhood_Blueste\n",
      "Neighborhood_BrDale\n",
      "Neighborhood_BrkSide\n",
      "Neighborhood_ClearCr\n",
      "Neighborhood_CollgCr\n",
      "Neighborhood_Crawfor\n",
      "Neighborhood_Edwards\n",
      "Neighborhood_Gilbert\n",
      "Neighborhood_Greens\n",
      "Neighborhood_GrnHill\n",
      "Neighborhood_IDOTRR\n",
      "Neighborhood_Landmrk\n",
      "Neighborhood_MeadowV\n",
      "Neighborhood_Mitchel\n",
      "Neighborhood_NAmes\n",
      "Neighborhood_NPkVill\n",
      "Neighborhood_NWAmes\n",
      "Neighborhood_NoRidge\n",
      "Neighborhood_NridgHt\n",
      "Neighborhood_OldTown\n",
      "Neighborhood_SWISU\n",
      "Neighborhood_Sawyer\n",
      "Neighborhood_SawyerW\n",
      "Neighborhood_Somerst\n",
      "Neighborhood_StoneBr\n",
      "Neighborhood_Timber\n",
      "Neighborhood_Veenker\n",
      "Condition 1_Artery\n",
      "Condition 1_Feedr\n",
      "Condition 1_Norm\n",
      "Condition 1_PosA\n",
      "Condition 1_PosN\n",
      "Condition 1_RRAe\n",
      "Condition 1_RRAn\n",
      "Condition 1_RRNe\n",
      "Condition 1_RRNn\n",
      "Condition 2_Artery\n",
      "Condition 2_Feedr\n",
      "Condition 2_Norm\n",
      "Condition 2_PosA\n",
      "Condition 2_PosN\n",
      "Condition 2_RRAe\n",
      "Condition 2_RRAn\n",
      "Condition 2_RRNn\n",
      "Bldg Type_1Fam\n",
      "Bldg Type_2fmCon\n",
      "Bldg Type_Duplex\n",
      "Bldg Type_Twnhs\n",
      "Bldg Type_TwnhsE\n",
      "House Style_1.5Fin\n",
      "House Style_1.5Unf\n",
      "House Style_1Story\n",
      "House Style_2.5Unf\n",
      "House Style_2Story\n",
      "House Style_SFoyer\n",
      "House Style_SLvl\n",
      "Roof Style_Flat\n",
      "Roof Style_Gable\n",
      "Roof Style_Gambrel\n",
      "Roof Style_Hip\n",
      "Roof Style_Mansard\n",
      "Roof Style_Shed\n",
      "Roof Matl_CompShg\n",
      "Roof Matl_Tar&Grv\n",
      "Roof Matl_WdShake\n",
      "Roof Matl_WdShngl\n",
      "Exterior 1st_AsbShng\n",
      "Exterior 1st_AsphShn\n",
      "Exterior 1st_BrkComm\n",
      "Exterior 1st_BrkFace\n",
      "Exterior 1st_CBlock\n",
      "Exterior 1st_CemntBd\n",
      "Exterior 1st_HdBoard\n",
      "Exterior 1st_ImStucc\n",
      "Exterior 1st_MetalSd\n",
      "Exterior 1st_Plywood\n",
      "Exterior 1st_PreCast\n",
      "Exterior 1st_Stucco\n",
      "Exterior 1st_VinylSd\n",
      "Exterior 1st_Wd Sdng\n",
      "Exterior 1st_WdShing\n",
      "Exterior 2nd_AsbShng\n",
      "Exterior 2nd_AsphShn\n",
      "Exterior 2nd_Brk Cmn\n",
      "Exterior 2nd_BrkFace\n",
      "Exterior 2nd_CBlock\n",
      "Exterior 2nd_CmentBd\n",
      "Exterior 2nd_HdBoard\n",
      "Exterior 2nd_ImStucc\n",
      "Exterior 2nd_MetalSd\n",
      "Exterior 2nd_Plywood\n",
      "Exterior 2nd_PreCast\n",
      "Exterior 2nd_Stone\n",
      "Exterior 2nd_Stucco\n",
      "Exterior 2nd_VinylSd\n",
      "Exterior 2nd_Wd Sdng\n",
      "Exterior 2nd_Wd Shng\n",
      "Mas Vnr Type_BrkCmn\n",
      "Mas Vnr Type_BrkFace\n",
      "Mas Vnr Type_CBlock\n",
      "Mas Vnr Type_None\n",
      "Mas Vnr Type_Stone\n",
      "Foundation_BrkTil\n",
      "Foundation_CBlock\n",
      "Foundation_PConc\n",
      "Foundation_Slab\n",
      "Foundation_Stone\n",
      "Foundation_Wood\n",
      "Heating_Floor\n",
      "Heating_GasA\n",
      "Heating_GasW\n",
      "Heating_Grav\n",
      "Heating_Wall\n",
      "Central Air_N\n",
      "Central Air_Y\n",
      "Electrical_FuseA\n",
      "Electrical_FuseF\n",
      "Electrical_FuseP\n",
      "Electrical_Mix\n",
      "Electrical_SBrkr\n",
      "Functional_Maj1\n",
      "Functional_Maj2\n",
      "Functional_Min1\n",
      "Functional_Min2\n",
      "Functional_Mod\n",
      "Functional_Sal\n",
      "Functional_Sev\n",
      "Functional_Typ\n",
      "Garage Type_2Types\n",
      "Garage Type_Attchd\n",
      "Garage Type_Basment\n",
      "Garage Type_BuiltIn\n",
      "Garage Type_CarPort\n",
      "Garage Type_Detchd\n",
      "Garage Type_NoGarage\n",
      "Garage Cond_Ex\n",
      "Garage Cond_Fa\n",
      "Garage Cond_Gd\n",
      "Garage Cond_NoGarage\n",
      "Garage Cond_Po\n",
      "Garage Cond_TA\n",
      "Paved Drive_N\n",
      "Paved Drive_P\n",
      "Paved Drive_Y\n",
      "Sale Type_COD\n",
      "Sale Type_CWD\n",
      "Sale Type_Con\n",
      "Sale Type_ConLD\n",
      "Sale Type_ConLI\n",
      "Sale Type_ConLw\n",
      "Sale Type_New\n",
      "Sale Type_Oth\n",
      "Sale Type_WD \n",
      "Sale Condition_Abnorml\n",
      "Sale Condition_AdjLand\n",
      "Sale Condition_Alloca\n",
      "Sale Condition_Family\n",
      "Sale Condition_Normal\n",
      "Sale Condition_Partial\n"
     ]
    }
   ],
   "source": [
    "for c in encoded.columns:\n",
    "    print(c)"
   ]
  },
  {
   "cell_type": "code",
   "execution_count": 27,
   "metadata": {
    "collapsed": true,
    "scrolled": true
   },
   "outputs": [],
   "source": [
    "#feature engineering\n",
    "#number of rooms\n",
    "encoded['rooms_numb'] = encoded['TotRms AbvGrd'] + encoded['Kitchen AbvGr'] + encoded['Full Bath'] + encoded['Half Bath'] "
   ]
  },
  {
   "cell_type": "code",
   "execution_count": 28,
   "metadata": {
    "collapsed": true,
    "scrolled": true
   },
   "outputs": [],
   "source": [
    "#total surface\n",
    "encoded['total_surface'] = encoded['Total Bsmt SF'] + encoded['Gr Liv Area']"
   ]
  },
  {
   "cell_type": "code",
   "execution_count": 29,
   "metadata": {
    "collapsed": true,
    "scrolled": true
   },
   "outputs": [],
   "source": [
    "#year of construction is older than some threshold (indicator variables)\n",
    "encoded['newly_built'] = encoded['Year Built']>2017"
   ]
  },
  {
   "cell_type": "code",
   "execution_count": 30,
   "metadata": {
    "collapsed": true,
    "scrolled": true
   },
   "outputs": [],
   "source": [
    "encoded['newly_built'] = encoded['newly_built'].map({True:1, False:0})"
   ]
  },
  {
   "cell_type": "code",
   "execution_count": 31,
   "metadata": {
    "collapsed": false,
    "scrolled": true
   },
   "outputs": [
    {
     "data": {
      "text/plain": [
       "<matplotlib.axes._subplots.AxesSubplot at 0x108fae6d8>"
      ]
     },
     "execution_count": 31,
     "metadata": {},
     "output_type": "execute_result"
    },
    {
     "data": {
      "image/png": "[encoded data removed]",
      "text/plain": [
       "<matplotlib.figure.Figure at 0x108db6cf8>"
      ]
     },
     "metadata": {},
     "output_type": "display_data"
    }
   ],
   "source": [
    "import matplotlib.pyplot as plt\n",
    "%matplotlib inline\n",
    "encoded['Lot Area'].plot.hist(bins=100)"
   ]
  },
  {
   "cell_type": "code",
   "execution_count": 32,
   "metadata": {
    "collapsed": true,
    "scrolled": true
   },
   "outputs": [],
   "source": [
    "#transformations (take the logarithm of variables with skewed distributions, add polynomial features)\n",
    "encoded['log_lotarea'] = encoded['Lot Area'].apply(np.log10)"
   ]
  },
  {
   "cell_type": "code",
   "execution_count": 33,
   "metadata": {
    "collapsed": false,
    "scrolled": true
   },
   "outputs": [
    {
     "data": {
      "text/plain": [
       "0    3.944236\n",
       "1    4.007321\n",
       "Name: log_lotarea, dtype: float64"
      ]
     },
     "execution_count": 33,
     "metadata": {},
     "output_type": "execute_result"
    }
   ],
   "source": [
    "encoded['log_lotarea'].head(2)"
   ]
  },
  {
   "cell_type": "code",
   "execution_count": 34,
   "metadata": {
    "collapsed": false,
    "scrolled": true
   },
   "outputs": [
    {
     "data": {
      "text/plain": [
       "<matplotlib.axes._subplots.AxesSubplot at 0x110b6eef0>"
      ]
     },
     "execution_count": 34,
     "metadata": {},
     "output_type": "execute_result"
    },
    {
     "data": {
      "image/png": "[encoded data removed]",
      "text/plain": [
       "<matplotlib.figure.Figure at 0x110b32b70>"
      ]
     },
     "metadata": {},
     "output_type": "display_data"
    }
   ],
   "source": [
    "encoded['log_lotarea'].plot.hist(bins=100)"
   ]
  },
  {
   "cell_type": "markdown",
   "metadata": {},
   "source": [
    "# Models"
   ]
  },
  {
   "cell_type": "code",
   "execution_count": 35,
   "metadata": {
    "collapsed": true,
    "scrolled": true
   },
   "outputs": [],
   "source": [
    "#Split the data into train and test sets (50-50 split)\n",
    "from sklearn.model_selection import train_test_split"
   ]
  },
  {
   "cell_type": "markdown",
   "metadata": {},
   "source": [
    "#### A \"simple\" model with two variables (three with the target variable)"
   ]
  },
  {
   "cell_type": "code",
   "execution_count": 36,
   "metadata": {
    "collapsed": true,
    "scrolled": true
   },
   "outputs": [],
   "source": [
    "df_mod1 = encoded[['total_surface', 'Year Built']]"
   ]
  },
  {
   "cell_type": "code",
   "execution_count": 37,
   "metadata": {
    "collapsed": false,
    "scrolled": false
   },
   "outputs": [
    {
     "name": "stderr",
     "output_type": "stream",
     "text": [
      "//anaconda/envs/exts-aml1/lib/python3.6/site-packages/sklearn/model_selection/_split.py:2026: FutureWarning: From version 0.21, test_size will always complement train_size unless both are specified.\n",
      "  FutureWarning)\n"
     ]
    }
   ],
   "source": [
    "X_tr1, X_te1, y_tr1, y_te1 = train_test_split(df_mod1, y, train_size=0.5, random_state=0)"
   ]
  },
  {
   "cell_type": "code",
   "execution_count": 38,
   "metadata": {
    "collapsed": false,
    "scrolled": true
   },
   "outputs": [
    {
     "data": {
      "text/html": [
       "<div>\n",
       "<style scoped>\n",
       "    .dataframe tbody tr th:only-of-type {\n",
       "        vertical-align: middle;\n",
       "    }\n",
       "\n",
       "    .dataframe tbody tr th {\n",
       "        vertical-align: top;\n",
       "    }\n",
       "\n",
       "    .dataframe thead th {\n",
       "        text-align: right;\n",
       "    }\n",
       "</style>\n",
       "<table border=\"1\" class=\"dataframe\">\n",
       "  <thead>\n",
       "    <tr style=\"text-align: right;\">\n",
       "      <th></th>\n",
       "      <th>total_surface</th>\n",
       "      <th>Year Built</th>\n",
       "    </tr>\n",
       "  </thead>\n",
       "  <tbody>\n",
       "    <tr>\n",
       "      <th>450</th>\n",
       "      <td>2283.0</td>\n",
       "      <td>1968</td>\n",
       "    </tr>\n",
       "  </tbody>\n",
       "</table>\n",
       "</div>"
      ],
      "text/plain": [
       "     total_surface  Year Built\n",
       "450         2283.0        1968"
      ]
     },
     "execution_count": 38,
     "metadata": {},
     "output_type": "execute_result"
    }
   ],
   "source": [
    "X_tr1.head(1)"
   ]
  },
  {
   "cell_type": "code",
   "execution_count": 39,
   "metadata": {
    "collapsed": false,
    "scrolled": true
   },
   "outputs": [
    {
     "data": {
      "text/plain": [
       "LinearRegression(copy_X=True, fit_intercept=True, n_jobs=1, normalize=False)"
      ]
     },
     "execution_count": 39,
     "metadata": {},
     "output_type": "execute_result"
    }
   ],
   "source": [
    "from sklearn.linear_model import LinearRegression\n",
    "lr1 = LinearRegression()\n",
    "lr1.fit(X_tr1, y_tr1)"
   ]
  },
  {
   "cell_type": "code",
   "execution_count": 40,
   "metadata": {
    "collapsed": true,
    "scrolled": true
   },
   "outputs": [],
   "source": [
    "y_pred1 = lr1.predict(X_te1)"
   ]
  },
  {
   "cell_type": "markdown",
   "metadata": {},
   "source": [
    "#### An \"intermediate\" model (between 10 and 20 variables) + regularization"
   ]
  },
  {
   "cell_type": "code",
   "execution_count": 41,
   "metadata": {
    "collapsed": true,
    "scrolled": true
   },
   "outputs": [],
   "source": [
    "df_mod2 = encoded[encoded.columns[:10].append(encoded.columns[-11:])]"
   ]
  },
  {
   "cell_type": "code",
   "execution_count": 42,
   "metadata": {
    "collapsed": false,
    "scrolled": true
   },
   "outputs": [
    {
     "data": {
      "text/html": [
       "<div>\n",
       "<style scoped>\n",
       "    .dataframe tbody tr th:only-of-type {\n",
       "        vertical-align: middle;\n",
       "    }\n",
       "\n",
       "    .dataframe tbody tr th {\n",
       "        vertical-align: top;\n",
       "    }\n",
       "\n",
       "    .dataframe thead th {\n",
       "        text-align: right;\n",
       "    }\n",
       "</style>\n",
       "<table border=\"1\" class=\"dataframe\">\n",
       "  <thead>\n",
       "    <tr style=\"text-align: right;\">\n",
       "      <th></th>\n",
       "      <th>MS SubClass</th>\n",
       "      <th>Lot Frontage</th>\n",
       "      <th>Lot Area</th>\n",
       "      <th>Lot Shape</th>\n",
       "      <th>Utilities</th>\n",
       "      <th>Land Slope</th>\n",
       "      <th>Overall Qual</th>\n",
       "      <th>Overall Cond</th>\n",
       "      <th>Year Built</th>\n",
       "      <th>Year Remod/Add</th>\n",
       "      <th>...</th>\n",
       "      <th>Sale Condition_Abnorml</th>\n",
       "      <th>Sale Condition_AdjLand</th>\n",
       "      <th>Sale Condition_Alloca</th>\n",
       "      <th>Sale Condition_Family</th>\n",
       "      <th>Sale Condition_Normal</th>\n",
       "      <th>Sale Condition_Partial</th>\n",
       "      <th>rooms_numb</th>\n",
       "      <th>total_surface</th>\n",
       "      <th>newly_built</th>\n",
       "      <th>log_lotarea</th>\n",
       "    </tr>\n",
       "  </thead>\n",
       "  <tbody>\n",
       "    <tr>\n",
       "      <th>0</th>\n",
       "      <td>60</td>\n",
       "      <td>69.145582</td>\n",
       "      <td>8795</td>\n",
       "      <td>1</td>\n",
       "      <td>4</td>\n",
       "      <td>0</td>\n",
       "      <td>7</td>\n",
       "      <td>5</td>\n",
       "      <td>2000</td>\n",
       "      <td>2000</td>\n",
       "      <td>...</td>\n",
       "      <td>0</td>\n",
       "      <td>0</td>\n",
       "      <td>0</td>\n",
       "      <td>0</td>\n",
       "      <td>1</td>\n",
       "      <td>0</td>\n",
       "      <td>12</td>\n",
       "      <td>3208.0</td>\n",
       "      <td>0</td>\n",
       "      <td>3.944236</td>\n",
       "    </tr>\n",
       "  </tbody>\n",
       "</table>\n",
       "<p>1 rows × 21 columns</p>\n",
       "</div>"
      ],
      "text/plain": [
       "   MS SubClass  Lot Frontage  Lot Area  Lot Shape  Utilities  Land Slope  \\\n",
       "0           60     69.145582      8795          1          4           0   \n",
       "\n",
       "   Overall Qual  Overall Cond  Year Built  Year Remod/Add     ...       \\\n",
       "0             7             5        2000            2000     ...        \n",
       "\n",
       "   Sale Condition_Abnorml  Sale Condition_AdjLand  Sale Condition_Alloca  \\\n",
       "0                       0                       0                      0   \n",
       "\n",
       "   Sale Condition_Family  Sale Condition_Normal  Sale Condition_Partial  \\\n",
       "0                      0                      1                       0   \n",
       "\n",
       "   rooms_numb  total_surface  newly_built  log_lotarea  \n",
       "0          12         3208.0            0     3.944236  \n",
       "\n",
       "[1 rows x 21 columns]"
      ]
     },
     "execution_count": 42,
     "metadata": {},
     "output_type": "execute_result"
    }
   ],
   "source": [
    "df_mod2.head(1)"
   ]
  },
  {
   "cell_type": "code",
   "execution_count": 43,
   "metadata": {
    "collapsed": false,
    "scrolled": true
   },
   "outputs": [
    {
     "name": "stderr",
     "output_type": "stream",
     "text": [
      "//anaconda/envs/exts-aml1/lib/python3.6/site-packages/sklearn/model_selection/_split.py:2026: FutureWarning: From version 0.21, test_size will always complement train_size unless both are specified.\n",
      "  FutureWarning)\n"
     ]
    }
   ],
   "source": [
    "X_tr2, X_te2, y_tr2, y_te2 = train_test_split(df_mod2, y, train_size=0.5, random_state=0)"
   ]
  },
  {
   "cell_type": "code",
   "execution_count": 44,
   "metadata": {
    "collapsed": false,
    "scrolled": false
   },
   "outputs": [
    {
     "name": "stderr",
     "output_type": "stream",
     "text": [
      "//anaconda/envs/exts-aml1/lib/python3.6/site-packages/scipy/linalg/basic.py:40: RuntimeWarning: scipy.linalg.solve\n",
      "Ill-conditioned matrix detected. Result is not guaranteed to be accurate.\n",
      "Reciprocal condition number/precision: 7.4304687398558706e-31 / 1.1102230246251565e-16\n",
      "  RuntimeWarning)\n",
      "//anaconda/envs/exts-aml1/lib/python3.6/site-packages/scipy/linalg/basic.py:40: RuntimeWarning: scipy.linalg.solve\n",
      "Ill-conditioned matrix detected. Result is not guaranteed to be accurate.\n",
      "Reciprocal condition number/precision: 1.4929543016646382e-30 / 1.1102230246251565e-16\n",
      "  RuntimeWarning)\n",
      "//anaconda/envs/exts-aml1/lib/python3.6/site-packages/scipy/linalg/basic.py:40: RuntimeWarning: scipy.linalg.solve\n",
      "Ill-conditioned matrix detected. Result is not guaranteed to be accurate.\n",
      "Reciprocal condition number/precision: 2.9996930542260303e-30 / 1.1102230246251565e-16\n",
      "  RuntimeWarning)\n",
      "//anaconda/envs/exts-aml1/lib/python3.6/site-packages/scipy/linalg/basic.py:40: RuntimeWarning: scipy.linalg.solve\n",
      "Ill-conditioned matrix detected. Result is not guaranteed to be accurate.\n",
      "Reciprocal condition number/precision: 6.027082282116106e-30 / 1.1102230246251565e-16\n",
      "  RuntimeWarning)\n",
      "//anaconda/envs/exts-aml1/lib/python3.6/site-packages/scipy/linalg/basic.py:40: RuntimeWarning: scipy.linalg.solve\n",
      "Ill-conditioned matrix detected. Result is not guaranteed to be accurate.\n",
      "Reciprocal condition number/precision: 1.210981263040268e-29 / 1.1102230246251565e-16\n",
      "  RuntimeWarning)\n",
      "//anaconda/envs/exts-aml1/lib/python3.6/site-packages/scipy/linalg/basic.py:40: RuntimeWarning: scipy.linalg.solve\n",
      "Ill-conditioned matrix detected. Result is not guaranteed to be accurate.\n",
      "Reciprocal condition number/precision: 2.4331435191884193e-29 / 1.1102230246251565e-16\n",
      "  RuntimeWarning)\n",
      "//anaconda/envs/exts-aml1/lib/python3.6/site-packages/scipy/linalg/basic.py:40: RuntimeWarning: scipy.linalg.solve\n",
      "Ill-conditioned matrix detected. Result is not guaranteed to be accurate.\n",
      "Reciprocal condition number/precision: 4.88875225873065e-29 / 1.1102230246251565e-16\n",
      "  RuntimeWarning)\n",
      "//anaconda/envs/exts-aml1/lib/python3.6/site-packages/scipy/linalg/basic.py:40: RuntimeWarning: scipy.linalg.solve\n",
      "Ill-conditioned matrix detected. Result is not guaranteed to be accurate.\n",
      "Reciprocal condition number/precision: 9.822642379605996e-29 / 1.1102230246251565e-16\n",
      "  RuntimeWarning)\n",
      "//anaconda/envs/exts-aml1/lib/python3.6/site-packages/scipy/linalg/basic.py:40: RuntimeWarning: scipy.linalg.solve\n",
      "Ill-conditioned matrix detected. Result is not guaranteed to be accurate.\n",
      "Reciprocal condition number/precision: 1.9735977241498499e-28 / 1.1102230246251565e-16\n",
      "  RuntimeWarning)\n",
      "//anaconda/envs/exts-aml1/lib/python3.6/site-packages/scipy/linalg/basic.py:40: RuntimeWarning: scipy.linalg.solve\n",
      "Ill-conditioned matrix detected. Result is not guaranteed to be accurate.\n",
      "Reciprocal condition number/precision: 3.965417681149129e-28 / 1.1102230246251565e-16\n",
      "  RuntimeWarning)\n",
      "//anaconda/envs/exts-aml1/lib/python3.6/site-packages/scipy/linalg/basic.py:40: RuntimeWarning: scipy.linalg.solve\n",
      "Ill-conditioned matrix detected. Result is not guaranteed to be accurate.\n",
      "Reciprocal condition number/precision: 7.96744807391982e-28 / 1.1102230246251565e-16\n",
      "  RuntimeWarning)\n",
      "//anaconda/envs/exts-aml1/lib/python3.6/site-packages/scipy/linalg/basic.py:40: RuntimeWarning: scipy.linalg.solve\n",
      "Ill-conditioned matrix detected. Result is not guaranteed to be accurate.\n",
      "Reciprocal condition number/precision: 1.6008459616342944e-27 / 1.1102230246251565e-16\n",
      "  RuntimeWarning)\n",
      "//anaconda/envs/exts-aml1/lib/python3.6/site-packages/scipy/linalg/basic.py:40: RuntimeWarning: scipy.linalg.solve\n",
      "Ill-conditioned matrix detected. Result is not guaranteed to be accurate.\n",
      "Reciprocal condition number/precision: 3.2164725381386137e-27 / 1.1102230246251565e-16\n",
      "  RuntimeWarning)\n",
      "//anaconda/envs/exts-aml1/lib/python3.6/site-packages/scipy/linalg/basic.py:40: RuntimeWarning: scipy.linalg.solve\n",
      "Ill-conditioned matrix detected. Result is not guaranteed to be accurate.\n",
      "Reciprocal condition number/precision: 6.462642775472235e-27 / 1.1102230246251565e-16\n",
      "  RuntimeWarning)\n",
      "//anaconda/envs/exts-aml1/lib/python3.6/site-packages/scipy/linalg/basic.py:40: RuntimeWarning: scipy.linalg.solve\n",
      "Ill-conditioned matrix detected. Result is not guaranteed to be accurate.\n",
      "Reciprocal condition number/precision: 1.2984955148267434e-26 / 1.1102230246251565e-16\n",
      "  RuntimeWarning)\n",
      "//anaconda/envs/exts-aml1/lib/python3.6/site-packages/scipy/linalg/basic.py:40: RuntimeWarning: scipy.linalg.solve\n",
      "Ill-conditioned matrix detected. Result is not guaranteed to be accurate.\n",
      "Reciprocal condition number/precision: 2.608980042072593e-26 / 1.1102230246251565e-16\n",
      "  RuntimeWarning)\n",
      "//anaconda/envs/exts-aml1/lib/python3.6/site-packages/scipy/linalg/basic.py:40: RuntimeWarning: scipy.linalg.solve\n",
      "Ill-conditioned matrix detected. Result is not guaranteed to be accurate.\n",
      "Reciprocal condition number/precision: 5.242048803565774e-26 / 1.1102230246251565e-16\n",
      "  RuntimeWarning)\n",
      "//anaconda/envs/exts-aml1/lib/python3.6/site-packages/scipy/linalg/basic.py:40: RuntimeWarning: scipy.linalg.solve\n",
      "Ill-conditioned matrix detected. Result is not guaranteed to be accurate.\n",
      "Reciprocal condition number/precision: 1.0532497457181014e-25 / 1.1102230246251565e-16\n",
      "  RuntimeWarning)\n",
      "//anaconda/envs/exts-aml1/lib/python3.6/site-packages/scipy/linalg/basic.py:40: RuntimeWarning: scipy.linalg.solve\n",
      "Ill-conditioned matrix detected. Result is not guaranteed to be accurate.\n",
      "Reciprocal condition number/precision: 2.1162241490400513e-25 / 1.1102230246251565e-16\n",
      "  RuntimeWarning)\n",
      "//anaconda/envs/exts-aml1/lib/python3.6/site-packages/scipy/linalg/basic.py:40: RuntimeWarning: scipy.linalg.solve\n",
      "Ill-conditioned matrix detected. Result is not guaranteed to be accurate.\n",
      "Reciprocal condition number/precision: 4.251987401076401e-25 / 1.1102230246251565e-16\n",
      "  RuntimeWarning)\n",
      "//anaconda/envs/exts-aml1/lib/python3.6/site-packages/scipy/linalg/basic.py:40: RuntimeWarning: scipy.linalg.solve\n",
      "Ill-conditioned matrix detected. Result is not guaranteed to be accurate.\n",
      "Reciprocal condition number/precision: 8.543233412733486e-25 / 1.1102230246251565e-16\n",
      "  RuntimeWarning)\n",
      "//anaconda/envs/exts-aml1/lib/python3.6/site-packages/scipy/linalg/basic.py:40: RuntimeWarning: scipy.linalg.solve\n",
      "Ill-conditioned matrix detected. Result is not guaranteed to be accurate.\n",
      "Reciprocal condition number/precision: 1.7165346521480523e-24 / 1.1102230246251565e-16\n",
      "  RuntimeWarning)\n",
      "//anaconda/envs/exts-aml1/lib/python3.6/site-packages/scipy/linalg/basic.py:40: RuntimeWarning: scipy.linalg.solve\n",
      "Ill-conditioned matrix detected. Result is not guaranteed to be accurate.\n",
      "Reciprocal condition number/precision: 3.448918073142392e-24 / 1.1102230246251565e-16\n",
      "  RuntimeWarning)\n",
      "//anaconda/envs/exts-aml1/lib/python3.6/site-packages/scipy/linalg/basic.py:40: RuntimeWarning: scipy.linalg.solve\n",
      "Ill-conditioned matrix detected. Result is not guaranteed to be accurate.\n",
      "Reciprocal condition number/precision: 6.929680015700714e-24 / 1.1102230246251565e-16\n",
      "  RuntimeWarning)\n",
      "//anaconda/envs/exts-aml1/lib/python3.6/site-packages/scipy/linalg/basic.py:40: RuntimeWarning: scipy.linalg.solve\n",
      "Ill-conditioned matrix detected. Result is not guaranteed to be accurate.\n",
      "Reciprocal condition number/precision: 1.3923341784761394e-23 / 1.1102230246251565e-16\n",
      "  RuntimeWarning)\n",
      "//anaconda/envs/exts-aml1/lib/python3.6/site-packages/scipy/linalg/basic.py:40: RuntimeWarning: scipy.linalg.solve\n",
      "Ill-conditioned matrix detected. Result is not guaranteed to be accurate.\n",
      "Reciprocal condition number/precision: 2.7975237819935505e-23 / 1.1102230246251565e-16\n",
      "  RuntimeWarning)\n",
      "//anaconda/envs/exts-aml1/lib/python3.6/site-packages/scipy/linalg/basic.py:40: RuntimeWarning: scipy.linalg.solve\n",
      "Ill-conditioned matrix detected. Result is not guaranteed to be accurate.\n",
      "Reciprocal condition number/precision: 5.620877108242024e-23 / 1.1102230246251565e-16\n",
      "  RuntimeWarning)\n",
      "//anaconda/envs/exts-aml1/lib/python3.6/site-packages/scipy/linalg/basic.py:40: RuntimeWarning: scipy.linalg.solve\n",
      "Ill-conditioned matrix detected. Result is not guaranteed to be accurate.\n",
      "Reciprocal condition number/precision: 1.1293651789242253e-22 / 1.1102230246251565e-16\n",
      "  RuntimeWarning)\n",
      "//anaconda/envs/exts-aml1/lib/python3.6/site-packages/scipy/linalg/basic.py:40: RuntimeWarning: scipy.linalg.solve\n",
      "Ill-conditioned matrix detected. Result is not guaranteed to be accurate.\n",
      "Reciprocal condition number/precision: 2.2691577894423316e-22 / 1.1102230246251565e-16\n",
      "  RuntimeWarning)\n",
      "//anaconda/envs/exts-aml1/lib/python3.6/site-packages/scipy/linalg/basic.py:40: RuntimeWarning: scipy.linalg.solve\n",
      "Ill-conditioned matrix detected. Result is not guaranteed to be accurate.\n",
      "Reciprocal condition number/precision: 4.559266718575097e-22 / 1.1102230246251565e-16\n",
      "  RuntimeWarning)\n",
      "//anaconda/envs/exts-aml1/lib/python3.6/site-packages/scipy/linalg/basic.py:40: RuntimeWarning: scipy.linalg.solve\n",
      "Ill-conditioned matrix detected. Result is not guaranteed to be accurate.\n",
      "Reciprocal condition number/precision: 9.160629158457526e-22 / 1.1102230246251565e-16\n",
      "  RuntimeWarning)\n",
      "//anaconda/envs/exts-aml1/lib/python3.6/site-packages/scipy/linalg/basic.py:40: RuntimeWarning: scipy.linalg.solve\n",
      "Ill-conditioned matrix detected. Result is not guaranteed to be accurate.\n",
      "Reciprocal condition number/precision: 1.840583842943252e-21 / 1.1102230246251565e-16\n",
      "  RuntimeWarning)\n",
      "//anaconda/envs/exts-aml1/lib/python3.6/site-packages/scipy/linalg/basic.py:40: RuntimeWarning: scipy.linalg.solve\n",
      "Ill-conditioned matrix detected. Result is not guaranteed to be accurate.\n",
      "Reciprocal condition number/precision: 3.6981618012295815e-21 / 1.1102230246251565e-16\n",
      "  RuntimeWarning)\n",
      "//anaconda/envs/exts-aml1/lib/python3.6/site-packages/scipy/linalg/basic.py:40: RuntimeWarning: scipy.linalg.solve\n",
      "Ill-conditioned matrix detected. Result is not guaranteed to be accurate.\n",
      "Reciprocal condition number/precision: 7.430468739855872e-21 / 1.1102230246251565e-16\n",
      "  RuntimeWarning)\n",
      "//anaconda/envs/exts-aml1/lib/python3.6/site-packages/scipy/linalg/basic.py:40: RuntimeWarning: scipy.linalg.solve\n",
      "Ill-conditioned matrix detected. Result is not guaranteed to be accurate.\n",
      "Reciprocal condition number/precision: 1.4929543016646324e-20 / 1.1102230246251565e-16\n",
      "  RuntimeWarning)\n",
      "//anaconda/envs/exts-aml1/lib/python3.6/site-packages/scipy/linalg/basic.py:40: RuntimeWarning: scipy.linalg.solve\n",
      "Ill-conditioned matrix detected. Result is not guaranteed to be accurate.\n",
      "Reciprocal condition number/precision: 2.999693054226031e-20 / 1.1102230246251565e-16\n",
      "  RuntimeWarning)\n",
      "//anaconda/envs/exts-aml1/lib/python3.6/site-packages/scipy/linalg/basic.py:40: RuntimeWarning: scipy.linalg.solve\n",
      "Ill-conditioned matrix detected. Result is not guaranteed to be accurate.\n",
      "Reciprocal condition number/precision: 6.027082282116106e-20 / 1.1102230246251565e-16\n",
      "  RuntimeWarning)\n",
      "//anaconda/envs/exts-aml1/lib/python3.6/site-packages/scipy/linalg/basic.py:40: RuntimeWarning: scipy.linalg.solve\n",
      "Ill-conditioned matrix detected. Result is not guaranteed to be accurate.\n",
      "Reciprocal condition number/precision: 1.210981263040273e-19 / 1.1102230246251565e-16\n",
      "  RuntimeWarning)\n",
      "//anaconda/envs/exts-aml1/lib/python3.6/site-packages/scipy/linalg/basic.py:40: RuntimeWarning: scipy.linalg.solve\n",
      "Ill-conditioned matrix detected. Result is not guaranteed to be accurate.\n",
      "Reciprocal condition number/precision: 2.4331435191884194e-19 / 1.1102230246251565e-16\n",
      "  RuntimeWarning)\n",
      "//anaconda/envs/exts-aml1/lib/python3.6/site-packages/scipy/linalg/basic.py:40: RuntimeWarning: scipy.linalg.solve\n",
      "Ill-conditioned matrix detected. Result is not guaranteed to be accurate.\n",
      "Reciprocal condition number/precision: 4.888752258730629e-19 / 1.1102230246251565e-16\n",
      "  RuntimeWarning)\n",
      "//anaconda/envs/exts-aml1/lib/python3.6/site-packages/scipy/linalg/basic.py:40: RuntimeWarning: scipy.linalg.solve\n",
      "Ill-conditioned matrix detected. Result is not guaranteed to be accurate.\n",
      "Reciprocal condition number/precision: 9.822642379605995e-19 / 1.1102230246251565e-16\n",
      "  RuntimeWarning)\n",
      "//anaconda/envs/exts-aml1/lib/python3.6/site-packages/scipy/linalg/basic.py:40: RuntimeWarning: scipy.linalg.solve\n",
      "Ill-conditioned matrix detected. Result is not guaranteed to be accurate.\n",
      "Reciprocal condition number/precision: 1.9735977241498416e-18 / 1.1102230246251565e-16\n",
      "  RuntimeWarning)\n",
      "//anaconda/envs/exts-aml1/lib/python3.6/site-packages/scipy/linalg/basic.py:40: RuntimeWarning: scipy.linalg.solve\n",
      "Ill-conditioned matrix detected. Result is not guaranteed to be accurate.\n",
      "Reciprocal condition number/precision: 3.965417681149145e-18 / 1.1102230246251565e-16\n",
      "  RuntimeWarning)\n",
      "//anaconda/envs/exts-aml1/lib/python3.6/site-packages/scipy/linalg/basic.py:40: RuntimeWarning: scipy.linalg.solve\n",
      "Ill-conditioned matrix detected. Result is not guaranteed to be accurate.\n",
      "Reciprocal condition number/precision: 7.967448073919818e-18 / 1.1102230246251565e-16\n",
      "  RuntimeWarning)\n",
      "//anaconda/envs/exts-aml1/lib/python3.6/site-packages/scipy/linalg/basic.py:40: RuntimeWarning: scipy.linalg.solve\n",
      "Ill-conditioned matrix detected. Result is not guaranteed to be accurate.\n",
      "Reciprocal condition number/precision: 1.6008459616343006e-17 / 1.1102230246251565e-16\n",
      "  RuntimeWarning)\n",
      "//anaconda/envs/exts-aml1/lib/python3.6/site-packages/scipy/linalg/basic.py:40: RuntimeWarning: scipy.linalg.solve\n",
      "Ill-conditioned matrix detected. Result is not guaranteed to be accurate.\n",
      "Reciprocal condition number/precision: 3.216472538138614e-17 / 1.1102230246251565e-16\n",
      "  RuntimeWarning)\n",
      "//anaconda/envs/exts-aml1/lib/python3.6/site-packages/scipy/linalg/basic.py:40: RuntimeWarning: scipy.linalg.solve\n",
      "Ill-conditioned matrix detected. Result is not guaranteed to be accurate.\n",
      "Reciprocal condition number/precision: 6.462642775472262e-17 / 1.1102230246251565e-16\n",
      "  RuntimeWarning)\n"
     ]
    }
   ],
   "source": [
    "#grid search\n",
    "from sklearn.linear_model import Ridge\n",
    "from sklearn.metrics import mean_squared_error as mse\n",
    "alphas = np.logspace(-20,10,num = 100)\n",
    "train_scores = []\n",
    "test_scores = []\n",
    "\n",
    "for alpha in alphas:\n",
    "    ridge = Ridge(alpha=alpha)\n",
    "    ridge.fit(X_tr2, y_tr2)\n",
    "    y_pred2 = ridge.predict(X_tr2)\n",
    "    train_scores.append(mse(y_tr2, y_pred2))\n",
    "    \n",
    "    y_pred2_te = ridge.predict(X_te2)\n",
    "    test_scores.append(mse(y_te2, y_pred2_te))"
   ]
  },
  {
   "cell_type": "code",
   "execution_count": 45,
   "metadata": {
    "collapsed": false,
    "scrolled": true
   },
   "outputs": [
    {
     "data": {
      "text/plain": [
       "[]"
      ]
     },
     "execution_count": 45,
     "metadata": {},
     "output_type": "execute_result"
    },
    {
     "data": {
      "image/png": "[encoded data removed]",
      "text/plain": [
       "<matplotlib.figure.Figure at 0x1a16c74208>"
      ]
     },
     "metadata": {},
     "output_type": "display_data"
    }
   ],
   "source": [
    "plt.plot(alphas, test_scores, label='test')\n",
    "plt.plot(alphas, train_scores, label='train')\n",
    "plt.semilogx()"
   ]
  },
  {
   "cell_type": "code",
   "execution_count": 46,
   "metadata": {
    "collapsed": true,
    "scrolled": true
   },
   "outputs": [],
   "source": [
    "mini = abs(np.array(train_scores)-np.array(test_scores)).min()\n",
    "indx = np.where(abs(np.array(train_scores)-np.array(test_scores))==mini)"
   ]
  },
  {
   "cell_type": "code",
   "execution_count": 47,
   "metadata": {
    "collapsed": false,
    "scrolled": true
   },
   "outputs": [
    {
     "data": {
      "text/plain": [
       "array([4.64158883e-14])"
      ]
     },
     "execution_count": 47,
     "metadata": {},
     "output_type": "execute_result"
    }
   ],
   "source": [
    "alphas[indx]"
   ]
  },
  {
   "cell_type": "code",
   "execution_count": 48,
   "metadata": {
    "collapsed": false,
    "scrolled": true
   },
   "outputs": [
    {
     "name": "stderr",
     "output_type": "stream",
     "text": [
      "//anaconda/envs/exts-aml1/lib/python3.6/site-packages/scipy/linalg/basic.py:40: RuntimeWarning: scipy.linalg.solve\n",
      "Ill-conditioned matrix detected. Result is not guaranteed to be accurate.\n",
      "Reciprocal condition number/precision: 3.448918073142392e-24 / 1.1102230246251565e-16\n",
      "  RuntimeWarning)\n"
     ]
    }
   ],
   "source": [
    "ridge = Ridge(alpha=alphas[indx])\n",
    "ridge.fit(X_tr2, y_tr2)\n",
    "y_pred2 = ridge.predict(X_te2)"
   ]
  },
  {
   "cell_type": "code",
   "execution_count": 49,
   "metadata": {
    "collapsed": false,
    "scrolled": true
   },
   "outputs": [
    {
     "data": {
      "text/plain": [
       "Index(['MS SubClass', 'Lot Frontage', 'Lot Area', 'Lot Shape', 'Utilities',\n",
       "       'Land Slope', 'Overall Qual', 'Overall Cond', 'Year Built',\n",
       "       'Year Remod/Add', 'Sale Type_WD ', 'Sale Condition_Abnorml',\n",
       "       'Sale Condition_AdjLand', 'Sale Condition_Alloca',\n",
       "       'Sale Condition_Family', 'Sale Condition_Normal',\n",
       "       'Sale Condition_Partial', 'rooms_numb', 'total_surface', 'newly_built',\n",
       "       'log_lotarea'],\n",
       "      dtype='object')"
      ]
     },
     "execution_count": 49,
     "metadata": {},
     "output_type": "execute_result"
    }
   ],
   "source": [
    "X_tr2.columns"
   ]
  },
  {
   "cell_type": "markdown",
   "metadata": {},
   "source": [
    "#### A \"complex model\" with all variables + regularization."
   ]
  },
  {
   "cell_type": "code",
   "execution_count": 50,
   "metadata": {
    "collapsed": true,
    "scrolled": true
   },
   "outputs": [],
   "source": [
    "df_mod3 = encoded"
   ]
  },
  {
   "cell_type": "code",
   "execution_count": 51,
   "metadata": {
    "collapsed": false,
    "scrolled": true
   },
   "outputs": [
    {
     "name": "stderr",
     "output_type": "stream",
     "text": [
      "//anaconda/envs/exts-aml1/lib/python3.6/site-packages/sklearn/model_selection/_split.py:2026: FutureWarning: From version 0.21, test_size will always complement train_size unless both are specified.\n",
      "  FutureWarning)\n"
     ]
    }
   ],
   "source": [
    "X_tr3, X_te3, y_tr3, y_te3 = train_test_split(df_mod3, y, train_size=0.5, random_state=0)"
   ]
  },
  {
   "cell_type": "code",
   "execution_count": 52,
   "metadata": {
    "collapsed": false,
    "scrolled": true
   },
   "outputs": [
    {
     "name": "stdout",
     "output_type": "stream",
     "text": [
      "<class 'pandas.core.frame.DataFrame'>\n",
      "Int64Index: 962 entries, 450 to 860\n",
      "Columns: 232 entries, MS SubClass to log_lotarea\n",
      "dtypes: float64(13), int64(41), uint8(178)\n",
      "memory usage: 580.6 KB\n"
     ]
    }
   ],
   "source": [
    "X_tr3.info()"
   ]
  },
  {
   "cell_type": "code",
   "execution_count": 53,
   "metadata": {
    "collapsed": false,
    "scrolled": false
   },
   "outputs": [
    {
     "name": "stderr",
     "output_type": "stream",
     "text": [
      "//anaconda/envs/exts-aml1/lib/python3.6/site-packages/scipy/linalg/basic.py:40: RuntimeWarning: scipy.linalg.solve\n",
      "Ill-conditioned matrix detected. Result is not guaranteed to be accurate.\n",
      "Reciprocal condition number/precision: 1.1028622493617282e-18 / 1.1102230246251565e-16\n",
      "  RuntimeWarning)\n",
      "//anaconda/envs/exts-aml1/lib/python3.6/site-packages/scipy/linalg/basic.py:40: RuntimeWarning: scipy.linalg.solve\n",
      "Ill-conditioned matrix detected. Result is not guaranteed to be accurate.\n",
      "Reciprocal condition number/precision: 2.215994308787169e-18 / 1.1102230246251565e-16\n",
      "  RuntimeWarning)\n",
      "//anaconda/envs/exts-aml1/lib/python3.6/site-packages/scipy/linalg/basic.py:40: RuntimeWarning: scipy.linalg.solve\n",
      "Ill-conditioned matrix detected. Result is not guaranteed to be accurate.\n",
      "Reciprocal condition number/precision: 4.45256172789951e-18 / 1.1102230246251565e-16\n",
      "  RuntimeWarning)\n",
      "//anaconda/envs/exts-aml1/lib/python3.6/site-packages/scipy/linalg/basic.py:40: RuntimeWarning: scipy.linalg.solve\n",
      "Ill-conditioned matrix detected. Result is not guaranteed to be accurate.\n",
      "Reciprocal condition number/precision: 6.926491546944128e-18 / 1.1102230246251565e-16\n",
      "  RuntimeWarning)\n",
      "//anaconda/envs/exts-aml1/lib/python3.6/site-packages/scipy/linalg/basic.py:40: RuntimeWarning: scipy.linalg.solve\n",
      "Ill-conditioned matrix detected. Result is not guaranteed to be accurate.\n",
      "Reciprocal condition number/precision: 1.8452457773929787e-17 / 1.1102230246251565e-16\n",
      "  RuntimeWarning)\n",
      "//anaconda/envs/exts-aml1/lib/python3.6/site-packages/scipy/linalg/basic.py:40: RuntimeWarning: scipy.linalg.solve\n",
      "Ill-conditioned matrix detected. Result is not guaranteed to be accurate.\n",
      "Reciprocal condition number/precision: 3.553323135760339e-17 / 1.1102230246251565e-16\n",
      "  RuntimeWarning)\n",
      "//anaconda/envs/exts-aml1/lib/python3.6/site-packages/scipy/linalg/basic.py:40: RuntimeWarning: scipy.linalg.solve\n",
      "Ill-conditioned matrix detected. Result is not guaranteed to be accurate.\n",
      "Reciprocal condition number/precision: 7.066608987675217e-17 / 1.1102230246251565e-16\n",
      "  RuntimeWarning)\n"
     ]
    }
   ],
   "source": [
    "#grid search\n",
    "from sklearn.linear_model import Ridge\n",
    "from sklearn.metrics import mean_squared_error as mse\n",
    "alphas = np.logspace(-20,10,num = 100)\n",
    "train_scores = []\n",
    "test_scores = []\n",
    "\n",
    "for alpha in alphas:\n",
    "    ridge = Ridge(alpha=alpha)\n",
    "    ridge.fit(X_tr3, y_tr3)\n",
    "    y_pred3 = ridge.predict(X_tr3)\n",
    "    train_scores.append(mse(y_tr3, y_pred3))\n",
    "    \n",
    "    y_pred3_te = ridge.predict(X_te3)\n",
    "    test_scores.append(mse(y_te3, y_pred3_te))"
   ]
  },
  {
   "cell_type": "code",
   "execution_count": 54,
   "metadata": {
    "collapsed": false,
    "scrolled": true
   },
   "outputs": [
    {
     "data": {
      "text/plain": [
       "[]"
      ]
     },
     "execution_count": 54,
     "metadata": {},
     "output_type": "execute_result"
    },
    {
     "data": {
      "image/png": "[encoded data removed]",
      "text/plain": [
       "<matplotlib.figure.Figure at 0x1a17f42240>"
      ]
     },
     "metadata": {},
     "output_type": "display_data"
    }
   ],
   "source": [
    "plt.plot(alphas, test_scores, label='test')\n",
    "plt.plot(alphas, train_scores, label='train')\n",
    "plt.semilogx()\n",
    "plt.semilogy()"
   ]
  },
  {
   "cell_type": "code",
   "execution_count": 55,
   "metadata": {
    "collapsed": true,
    "scrolled": true
   },
   "outputs": [],
   "source": [
    "mini = abs(np.array(train_scores)-np.array(test_scores)).min()\n",
    "indx = np.where(abs(np.array(train_scores)-np.array(test_scores))==mini)\n"
   ]
  },
  {
   "cell_type": "code",
   "execution_count": 56,
   "metadata": {
    "collapsed": true,
    "scrolled": true
   },
   "outputs": [],
   "source": [
    "ridge2 = Ridge(alpha=alphas[indx])\n",
    "ridge2.fit(X_tr3, y_tr3)\n",
    "y_pred3 = ridge2.predict(X_te3)"
   ]
  },
  {
   "cell_type": "markdown",
   "metadata": {},
   "source": [
    "# Model evaluation\n",
    "\n",
    "1. Root mean squared logarithmic\n",
    "2. Mean absolute error"
   ]
  },
  {
   "cell_type": "code",
   "execution_count": 57,
   "metadata": {
    "collapsed": true,
    "scrolled": true
   },
   "outputs": [],
   "source": [
    "def RMSL(y, y_pred):\n",
    "    return np.sqrt(np.mean(np.square(y-y_pred)))"
   ]
  },
  {
   "cell_type": "code",
   "execution_count": 58,
   "metadata": {
    "collapsed": true,
    "scrolled": true
   },
   "outputs": [],
   "source": [
    "from sklearn.metrics import mean_absolute_error as MAE"
   ]
  },
  {
   "cell_type": "code",
   "execution_count": 59,
   "metadata": {
    "collapsed": true,
    "scrolled": true
   },
   "outputs": [],
   "source": [
    "#baseline model: mean and median\n",
    "mae_base = np.median(10**y_te1)\n",
    "rmsl_base = np.mean(10**y_te1)"
   ]
  },
  {
   "cell_type": "code",
   "execution_count": 60,
   "metadata": {
    "collapsed": true,
    "scrolled": true
   },
   "outputs": [],
   "source": [
    "#model 1\n",
    "rmsl_1 = RMSL(10**y_te1,10**y_pred1)\n",
    "mae_1 = MAE(10**y_te1, 10**y_pred1)"
   ]
  },
  {
   "cell_type": "code",
   "execution_count": 61,
   "metadata": {
    "collapsed": true,
    "scrolled": true
   },
   "outputs": [],
   "source": [
    "#model 2\n",
    "rmsl_2 = RMSL(10**y_te1,10**y_pred2)\n",
    "mae_2 = MAE(10**y_te1, 10**y_pred2)"
   ]
  },
  {
   "cell_type": "code",
   "execution_count": 62,
   "metadata": {
    "collapsed": true,
    "scrolled": true
   },
   "outputs": [],
   "source": [
    "#model 3\n",
    "rmsl_3 = RMSL(10**y_te1,10**y_pred3)\n",
    "mae_3 = MAE(10**y_te1, 10**y_pred3)"
   ]
  },
  {
   "cell_type": "code",
   "execution_count": 63,
   "metadata": {
    "collapsed": false,
    "scrolled": true
   },
   "outputs": [
    {
     "data": {
      "text/plain": [
       "Text(0,0.5,'RMSL')"
      ]
     },
     "execution_count": 63,
     "metadata": {},
     "output_type": "execute_result"
    },
    {
     "data": {
      "image/png": "[encoded data removed]",
      "text/plain": [
       "<matplotlib.figure.Figure at 0x1a17e678d0>"
      ]
     },
     "metadata": {},
     "output_type": "display_data"
    }
   ],
   "source": [
    "#plot\n",
    "plt.bar([1,2,3,4], [rmsl_base, rmsl_1, rmsl_2, rmsl_3])\n",
    "plt.xticks([1,2,3,4], ['baseline', 'LR 2 features', 'Rigid 20 features', 'Rigid All'])\n",
    "#plt.semilogy()\n",
    "plt.ylabel(\"RMSL\")"
   ]
  },
  {
   "cell_type": "code",
   "execution_count": 64,
   "metadata": {
    "collapsed": false,
    "scrolled": true
   },
   "outputs": [
    {
     "data": {
      "text/plain": [
       "Text(0,0.5,'MAE')"
      ]
     },
     "execution_count": 64,
     "metadata": {},
     "output_type": "execute_result"
    },
    {
     "data": {
      "image/png": "[encoded data removed]",
      "text/plain": [
       "<matplotlib.figure.Figure at 0x1a16d44940>"
      ]
     },
     "metadata": {},
     "output_type": "display_data"
    }
   ],
   "source": [
    "#plot 2\n",
    "plt.bar([1,2,3,4], [mae_base, mae_1, mae_2, mae_3])\n",
    "plt.xticks([1,2,3,4], ['baseline', 'LR 2 features', 'Rigid 20 features', 'Rigid All'])\n",
    "#plt.semilogy()\n",
    "plt.ylabel(\"MAE\")"
   ]
  },
  {
   "cell_type": "markdown",
   "metadata": {},
   "source": [
    "# Compute predictions\n",
    "\n",
    "Use your best model to compute predictions for the 500 houses in ```house-prices-test.csv```. Write your predictions in a ```house-prices-pred.csv```  file. It should contain the identifier of the house ```PID``` and its predicted price ```SalePrice``` . Remember to convert your predictions back into dollars by computing the exponent base 10.\n",
    "\n",
    "apply the same set of preprocessing steps that you used before  fitting your models on the train data from ```house-prices.csv``` . One solution is to create a ```preprocess(df)``` function and apply it to each data set.\n",
    "This should be straightforward for the  filling missing values and feature engineering steps, but might be tricky for one-hot encoding since those two  files have different sets of values for some of the categorical variables. Make sure to take a look at the\n",
    "```encoding-categorical-variables.ipynb``` notebook from the resource section which illustrates the issue and shows different ways to solve it."
   ]
  },
  {
   "cell_type": "code",
   "execution_count": 65,
   "metadata": {
    "collapsed": false,
    "scrolled": false
   },
   "outputs": [
    {
     "data": {
      "text/html": [
       "<div>\n",
       "<style scoped>\n",
       "    .dataframe tbody tr th:only-of-type {\n",
       "        vertical-align: middle;\n",
       "    }\n",
       "\n",
       "    .dataframe tbody tr th {\n",
       "        vertical-align: top;\n",
       "    }\n",
       "\n",
       "    .dataframe thead th {\n",
       "        text-align: right;\n",
       "    }\n",
       "</style>\n",
       "<table border=\"1\" class=\"dataframe\">\n",
       "  <thead>\n",
       "    <tr style=\"text-align: right;\">\n",
       "      <th></th>\n",
       "      <th>Order</th>\n",
       "      <th>PID</th>\n",
       "      <th>MS SubClass</th>\n",
       "      <th>MS Zoning</th>\n",
       "      <th>Lot Frontage</th>\n",
       "      <th>Lot Area</th>\n",
       "      <th>Street</th>\n",
       "      <th>Alley</th>\n",
       "      <th>Lot Shape</th>\n",
       "      <th>Land Contour</th>\n",
       "      <th>...</th>\n",
       "      <th>Screen Porch</th>\n",
       "      <th>Pool Area</th>\n",
       "      <th>Pool QC</th>\n",
       "      <th>Fence</th>\n",
       "      <th>Misc Feature</th>\n",
       "      <th>Misc Val</th>\n",
       "      <th>Mo Sold</th>\n",
       "      <th>Yr Sold</th>\n",
       "      <th>Sale Type</th>\n",
       "      <th>Sale Condition</th>\n",
       "    </tr>\n",
       "  </thead>\n",
       "  <tbody>\n",
       "    <tr>\n",
       "      <th>0</th>\n",
       "      <td>2217</td>\n",
       "      <td>909279080</td>\n",
       "      <td>50</td>\n",
       "      <td>RL</td>\n",
       "      <td>NaN</td>\n",
       "      <td>11275</td>\n",
       "      <td>Pave</td>\n",
       "      <td>NaN</td>\n",
       "      <td>IR1</td>\n",
       "      <td>HLS</td>\n",
       "      <td>...</td>\n",
       "      <td>0</td>\n",
       "      <td>0</td>\n",
       "      <td>NaN</td>\n",
       "      <td>NaN</td>\n",
       "      <td>NaN</td>\n",
       "      <td>0</td>\n",
       "      <td>3</td>\n",
       "      <td>2007</td>\n",
       "      <td>WD</td>\n",
       "      <td>Normal</td>\n",
       "    </tr>\n",
       "  </tbody>\n",
       "</table>\n",
       "<p>1 rows × 81 columns</p>\n",
       "</div>"
      ],
      "text/plain": [
       "   Order        PID  MS SubClass MS Zoning  Lot Frontage  Lot Area Street  \\\n",
       "0   2217  909279080           50        RL           NaN     11275   Pave   \n",
       "\n",
       "  Alley Lot Shape Land Contour       ...       Screen Porch Pool Area Pool QC  \\\n",
       "0   NaN       IR1          HLS       ...                  0         0     NaN   \n",
       "\n",
       "  Fence Misc Feature Misc Val Mo Sold Yr Sold  Sale Type  Sale Condition  \n",
       "0   NaN          NaN        0       3    2007        WD           Normal  \n",
       "\n",
       "[1 rows x 81 columns]"
      ]
     },
     "execution_count": 65,
     "metadata": {},
     "output_type": "execute_result"
    }
   ],
   "source": [
    "to_predict = pd.read_csv(\"./house-prices-test.csv\")\n",
    "to_predict.head(1)"
   ]
  },
  {
   "cell_type": "code",
   "execution_count": 66,
   "metadata": {
    "collapsed": false
   },
   "outputs": [
    {
     "data": {
      "text/plain": [
       "Index(['Order', 'PID', 'MS SubClass', 'MS Zoning', 'Lot Frontage', 'Lot Area',\n",
       "       'Street', 'Alley', 'Lot Shape', 'Land Contour', 'Utilities',\n",
       "       'Lot Config', 'Land Slope', 'Neighborhood', 'Condition 1',\n",
       "       'Condition 2', 'Bldg Type', 'House Style', 'Overall Qual',\n",
       "       'Overall Cond', 'Year Built', 'Year Remod/Add', 'Roof Style',\n",
       "       'Roof Matl', 'Exterior 1st', 'Exterior 2nd', 'Mas Vnr Type',\n",
       "       'Mas Vnr Area', 'Exter Qual', 'Exter Cond', 'Foundation', 'Bsmt Qual',\n",
       "       'Bsmt Cond', 'Bsmt Exposure', 'BsmtFin Type 1', 'BsmtFin SF 1',\n",
       "       'BsmtFin Type 2', 'BsmtFin SF 2', 'Bsmt Unf SF', 'Total Bsmt SF',\n",
       "       'Heating', 'Heating QC', 'Central Air', 'Electrical', '1st Flr SF',\n",
       "       '2nd Flr SF', 'Low Qual Fin SF', 'Gr Liv Area', 'Bsmt Full Bath',\n",
       "       'Bsmt Half Bath', 'Full Bath', 'Half Bath', 'Bedroom AbvGr',\n",
       "       'Kitchen AbvGr', 'Kitchen Qual', 'TotRms AbvGrd', 'Functional',\n",
       "       'Fireplaces', 'Fireplace Qu', 'Garage Type', 'Garage Yr Blt',\n",
       "       'Garage Finish', 'Garage Cars', 'Garage Area', 'Garage Qual',\n",
       "       'Garage Cond', 'Paved Drive', 'Wood Deck SF', 'Open Porch SF',\n",
       "       'Enclosed Porch', '3Ssn Porch', 'Screen Porch', 'Pool Area', 'Pool QC',\n",
       "       'Fence', 'Misc Feature', 'Misc Val', 'Mo Sold', 'Yr Sold', 'Sale Type',\n",
       "       'Sale Condition'],\n",
       "      dtype='object')"
      ]
     },
     "execution_count": 66,
     "metadata": {},
     "output_type": "execute_result"
    }
   ],
   "source": [
    "to_predict.columns"
   ]
  },
  {
   "cell_type": "code",
   "execution_count": 67,
   "metadata": {
    "collapsed": false
   },
   "outputs": [
    {
     "name": "stdout",
     "output_type": "stream",
     "text": [
      "{'Reg': 0, 'IR1': 1, 'IR2': 2, 'IR3': 3}\n",
      "['Lot Shape']\n",
      "     Lot Shape\n",
      "0            1\n",
      "1            0\n",
      "2            1\n",
      "3            0\n",
      "4            0\n",
      "5            1\n",
      "6            0\n",
      "7            1\n",
      "8            0\n",
      "9            0\n",
      "10           1\n",
      "11           0\n",
      "12           0\n",
      "13           0\n",
      "14           0\n",
      "15           0\n",
      "16           0\n",
      "17           0\n",
      "18           1\n",
      "19           0\n",
      "20           1\n",
      "21           0\n",
      "22           0\n",
      "23           0\n",
      "24           1\n",
      "25           0\n",
      "26           1\n",
      "27           0\n",
      "28           1\n",
      "29           1\n",
      "..         ...\n",
      "470          0\n",
      "471          0\n",
      "472          0\n",
      "473          1\n",
      "474          0\n",
      "475          0\n",
      "476          1\n",
      "477          0\n",
      "478          0\n",
      "479          0\n",
      "480          0\n",
      "481          1\n",
      "482          0\n",
      "483          0\n",
      "484          1\n",
      "485          0\n",
      "486          0\n",
      "487          1\n",
      "488          1\n",
      "489          0\n",
      "490          0\n",
      "491          0\n",
      "492          0\n",
      "493          0\n",
      "494          0\n",
      "495          0\n",
      "496          1\n",
      "497          1\n",
      "498          1\n",
      "499          0\n",
      "\n",
      "[500 rows x 1 columns]\n",
      "{'AllPub': 4, 'NoSewr': 3, 'NoSeWa': 2, 'ELO': 1}\n",
      "['Utilities']\n",
      "     Utilities\n",
      "0            4\n",
      "1            4\n",
      "2            4\n",
      "3            4\n",
      "4            4\n",
      "5            4\n",
      "6            4\n",
      "7            4\n",
      "8            4\n",
      "9            4\n",
      "10           4\n",
      "11           4\n",
      "12           4\n",
      "13           4\n",
      "14           4\n",
      "15           4\n",
      "16           4\n",
      "17           4\n",
      "18           4\n",
      "19           4\n",
      "20           4\n",
      "21           4\n",
      "22           4\n",
      "23           4\n",
      "24           4\n",
      "25           4\n",
      "26           4\n",
      "27           4\n",
      "28           4\n",
      "29           4\n",
      "..         ...\n",
      "470          4\n",
      "471          4\n",
      "472          4\n",
      "473          4\n",
      "474          4\n",
      "475          4\n",
      "476          4\n",
      "477          4\n",
      "478          4\n",
      "479          4\n",
      "480          4\n",
      "481          4\n",
      "482          4\n",
      "483          4\n",
      "484          4\n",
      "485          4\n",
      "486          4\n",
      "487          4\n",
      "488          4\n",
      "489          4\n",
      "490          4\n",
      "491          4\n",
      "492          4\n",
      "493          4\n",
      "494          4\n",
      "495          4\n",
      "496          4\n",
      "497          4\n",
      "498          4\n",
      "499          4\n",
      "\n",
      "[500 rows x 1 columns]\n",
      "{'Gtl': 0, 'Mod': 1, 'Sev': 2}\n",
      "['Land Slope']\n",
      "     Land Slope\n",
      "0             1\n",
      "1             1\n",
      "2             0\n",
      "3             0\n",
      "4             1\n",
      "5             0\n",
      "6             0\n",
      "7             0\n",
      "8             0\n",
      "9             1\n",
      "10            0\n",
      "11            0\n",
      "12            0\n",
      "13            0\n",
      "14            0\n",
      "15            0\n",
      "16            0\n",
      "17            0\n",
      "18            0\n",
      "19            0\n",
      "20            0\n",
      "21            0\n",
      "22            0\n",
      "23            0\n",
      "24            0\n",
      "25            0\n",
      "26            0\n",
      "27            0\n",
      "28            0\n",
      "29            0\n",
      "..          ...\n",
      "470           0\n",
      "471           0\n",
      "472           0\n",
      "473           0\n",
      "474           0\n",
      "475           0\n",
      "476           0\n",
      "477           1\n",
      "478           0\n",
      "479           0\n",
      "480           0\n",
      "481           0\n",
      "482           0\n",
      "483           0\n",
      "484           0\n",
      "485           0\n",
      "486           0\n",
      "487           0\n",
      "488           0\n",
      "489           0\n",
      "490           0\n",
      "491           0\n",
      "492           0\n",
      "493           0\n",
      "494           0\n",
      "495           0\n",
      "496           0\n",
      "497           0\n",
      "498           0\n",
      "499           0\n",
      "\n",
      "[500 rows x 1 columns]\n",
      "{'Po': 0, 'Fa': 1, 'TA': 2, 'Gd': 3, 'Ex': 4}\n",
      "['Exter Cond', 'Exter Qual', 'Heating QC', 'Kitchen Qual']\n",
      "     Exter Cond  Exter Qual  Heating QC  Kitchen Qual\n",
      "0             2           2           2             2\n",
      "1             3           2           4             2\n",
      "2             2           3           4             4\n",
      "3             2           2           4             2\n",
      "4             2           2           3             2\n",
      "5             2           3           4             3\n",
      "6             1           2           2             2\n",
      "7             2           2           2             2\n",
      "8             2           2           2             1\n",
      "9             2           2           3             2\n",
      "10            2           3           4             3\n",
      "11            2           2           2             2\n",
      "12            2           3           4             3\n",
      "13            2           2           1             2\n",
      "14            2           3           4             3\n",
      "15            2           2           2             2\n",
      "16            2           3           4             3\n",
      "17            2           2           4             2\n",
      "18            2           3           4             3\n",
      "19            2           2           2             2\n",
      "20            2           3           4             3\n",
      "21            2           3           4             3\n",
      "22            2           2           3             2\n",
      "23            2           2           2             2\n",
      "24            2           3           4             3\n",
      "25            2           2           2             2\n",
      "26            2           3           4             3\n",
      "27            2           3           3             3\n",
      "28            2           3           4             3\n",
      "29            2           3           3             4\n",
      "..          ...         ...         ...           ...\n",
      "470           3           2           4             2\n",
      "471           2           2           2             2\n",
      "472           2           3           4             3\n",
      "473           2           3           4             3\n",
      "474           3           2           4             3\n",
      "475           2           3           4             2\n",
      "476           3           3           4             3\n",
      "477           2           3           4             3\n",
      "478           2           3           4             3\n",
      "479           2           4           4             4\n",
      "480           2           2           2             2\n",
      "481           2           3           4             3\n",
      "482           2           2           4             2\n",
      "483           2           3           4             3\n",
      "484           3           2           3             3\n",
      "485           2           2           2             2\n",
      "486           2           3           3             3\n",
      "487           2           3           4             4\n",
      "488           2           3           4             3\n",
      "489           2           3           4             4\n",
      "490           2           3           2             2\n",
      "491           2           3           4             3\n",
      "492           2           2           4             2\n",
      "493           2           2           4             3\n",
      "494           2           2           3             2\n",
      "495           2           2           2             1\n",
      "496           2           3           2             2\n",
      "497           2           3           4             3\n",
      "498           2           3           4             4\n",
      "499           2           2           4             2\n",
      "\n",
      "[500 rows x 4 columns]\n",
      "{'Po': 1, 'Fa': 2, 'TA': 3, 'Gd': 4, 'Ex': 5, 'NoGarage': 0, 'NoBasement': 0}\n",
      "['Garage Qual', 'Bsmt Qual', 'Bsmt Cond']\n",
      "     Garage Qual  Bsmt Qual  Bsmt Cond\n",
      "0            3.0        3.0        3.0\n",
      "1            3.0        3.0        3.0\n",
      "2            3.0        4.0        3.0\n",
      "3            3.0        3.0        3.0\n",
      "4            3.0        3.0        3.0\n",
      "5            3.0        4.0        3.0\n",
      "6            NaN        2.0        3.0\n",
      "7            3.0        3.0        3.0\n",
      "8            3.0        3.0        3.0\n",
      "9            3.0        5.0        3.0\n",
      "10           3.0        5.0        3.0\n",
      "11           3.0        4.0        3.0\n",
      "12           3.0        4.0        3.0\n",
      "13           3.0        3.0        2.0\n",
      "14           3.0        4.0        3.0\n",
      "15           3.0        3.0        5.0\n",
      "16           3.0        4.0        3.0\n",
      "17           3.0        3.0        3.0\n",
      "18           3.0        4.0        3.0\n",
      "19           3.0        NaN        NaN\n",
      "20           3.0        4.0        3.0\n",
      "21           3.0        4.0        3.0\n",
      "22           3.0        4.0        3.0\n",
      "23           3.0        NaN        NaN\n",
      "24           3.0        4.0        4.0\n",
      "25           3.0        3.0        3.0\n",
      "26           3.0        4.0        3.0\n",
      "27           3.0        4.0        3.0\n",
      "28           3.0        5.0        1.0\n",
      "29           3.0        5.0        4.0\n",
      "..           ...        ...        ...\n",
      "470          3.0        5.0        4.0\n",
      "471          3.0        3.0        3.0\n",
      "472          3.0        5.0        3.0\n",
      "473          3.0        4.0        3.0\n",
      "474          3.0        3.0        3.0\n",
      "475          3.0        4.0        3.0\n",
      "476          3.0        5.0        3.0\n",
      "477          3.0        5.0        3.0\n",
      "478          3.0        4.0        3.0\n",
      "479          3.0        5.0        3.0\n",
      "480          3.0        3.0        3.0\n",
      "481          3.0        4.0        3.0\n",
      "482          NaN        3.0        3.0\n",
      "483          3.0        4.0        3.0\n",
      "484          3.0        4.0        3.0\n",
      "485          3.0        3.0        3.0\n",
      "486          3.0        3.0        3.0\n",
      "487          3.0        5.0        3.0\n",
      "488          3.0        4.0        3.0\n",
      "489          3.0        5.0        3.0\n",
      "490          2.0        3.0        3.0\n",
      "491          3.0        4.0        3.0\n",
      "492          3.0        3.0        3.0\n",
      "493          3.0        4.0        3.0\n",
      "494          3.0        4.0        3.0\n",
      "495          3.0        3.0        3.0\n",
      "496          3.0        4.0        3.0\n",
      "497          3.0        5.0        3.0\n",
      "498          3.0        5.0        3.0\n",
      "499          3.0        NaN        NaN\n",
      "\n",
      "[500 rows x 3 columns]\n",
      "{'Gd': 4, 'Av': 3, 'Mn': 2, 'No': 1, 'NoBasement': 0}\n",
      "['Bsmt Exposure']\n",
      "     Bsmt Exposure\n",
      "0              2.0\n",
      "1              1.0\n",
      "2              2.0\n",
      "3              1.0\n",
      "4              2.0\n",
      "5              1.0\n",
      "6              1.0\n",
      "7              1.0\n",
      "8              1.0\n",
      "9              3.0\n",
      "10             2.0\n",
      "11             1.0\n",
      "12             1.0\n",
      "13             3.0\n",
      "14             1.0\n",
      "15             1.0\n",
      "16             3.0\n",
      "17             1.0\n",
      "18             1.0\n",
      "19             NaN\n",
      "20             1.0\n",
      "21             1.0\n",
      "22             3.0\n",
      "23             NaN\n",
      "24             2.0\n",
      "25             1.0\n",
      "26             1.0\n",
      "27             3.0\n",
      "28             1.0\n",
      "29             1.0\n",
      "..             ...\n",
      "470            1.0\n",
      "471            1.0\n",
      "472            2.0\n",
      "473            1.0\n",
      "474            1.0\n",
      "475            1.0\n",
      "476            4.0\n",
      "477            4.0\n",
      "478            3.0\n",
      "479            1.0\n",
      "480            1.0\n",
      "481            3.0\n",
      "482            1.0\n",
      "483            1.0\n",
      "484            3.0\n",
      "485            1.0\n",
      "486            1.0\n",
      "487            4.0\n",
      "488            3.0\n",
      "489            1.0\n",
      "490            1.0\n",
      "491            1.0\n",
      "492            1.0\n",
      "493            1.0\n",
      "494            1.0\n",
      "495            2.0\n",
      "496            1.0\n",
      "497            3.0\n",
      "498            4.0\n",
      "499            NaN\n",
      "\n",
      "[500 rows x 1 columns]\n",
      "{'GLQ': 6, 'ALQ': 5, 'BLQ': 4, 'Rec': 3, 'LwQ': 2, 'Unf': 1, 'NoBasement': 0}\n",
      "['BsmtFin Type 1', 'BsmtFin Type 2']\n",
      "     BsmtFin Type 1  BsmtFin Type 2\n",
      "0               3.0             2.0\n",
      "1               5.0             1.0\n",
      "2               1.0             1.0\n",
      "3               3.0             1.0\n",
      "4               1.0             1.0\n",
      "5               6.0             1.0\n",
      "6               1.0             1.0\n",
      "7               5.0             2.0\n",
      "8               4.0             1.0\n",
      "9               1.0             1.0\n",
      "10              6.0             1.0\n",
      "11              4.0             1.0\n",
      "12              6.0             1.0\n",
      "13              2.0             1.0\n",
      "14              6.0             1.0\n",
      "15              4.0             1.0\n",
      "16              6.0             1.0\n",
      "17              4.0             1.0\n",
      "18              6.0             1.0\n",
      "19              NaN             NaN\n",
      "20              6.0             1.0\n",
      "21              6.0             1.0\n",
      "22              6.0             1.0\n",
      "23              NaN             NaN\n",
      "24              1.0             1.0\n",
      "25              3.0             2.0\n",
      "26              6.0             1.0\n",
      "27              1.0             1.0\n",
      "28              6.0             1.0\n",
      "29              6.0             1.0\n",
      "..              ...             ...\n",
      "470             6.0             1.0\n",
      "471             4.0             1.0\n",
      "472             1.0             1.0\n",
      "473             6.0             1.0\n",
      "474             5.0             1.0\n",
      "475             1.0             1.0\n",
      "476             6.0             1.0\n",
      "477             6.0             1.0\n",
      "478             6.0             1.0\n",
      "479             6.0             1.0\n",
      "480             2.0             1.0\n",
      "481             1.0             1.0\n",
      "482             1.0             1.0\n",
      "483             6.0             1.0\n",
      "484             6.0             1.0\n",
      "485             4.0             2.0\n",
      "486             6.0             1.0\n",
      "487             6.0             1.0\n",
      "488             1.0             1.0\n",
      "489             6.0             1.0\n",
      "490             1.0             1.0\n",
      "491             1.0             1.0\n",
      "492             3.0             1.0\n",
      "493             5.0             1.0\n",
      "494             6.0             1.0\n",
      "495             4.0             2.0\n",
      "496             5.0             1.0\n",
      "497             6.0             1.0\n",
      "498             1.0             1.0\n",
      "499             NaN             NaN\n",
      "\n",
      "[500 rows x 2 columns]\n",
      "{'Fin': 3, 'RFn': 2, 'Unf': 1, 'NoGarage': 0, 'NoBasement': 0}\n",
      "['Garage Finish']\n",
      "     Garage Finish\n",
      "0              1.0\n",
      "1              2.0\n",
      "2              3.0\n",
      "3              2.0\n",
      "4              2.0\n",
      "5              2.0\n",
      "6              NaN\n",
      "7              1.0\n",
      "8              3.0\n",
      "9              1.0\n",
      "10             1.0\n",
      "11             2.0\n",
      "12             2.0\n",
      "13             1.0\n",
      "14             2.0\n",
      "15             1.0\n",
      "16             2.0\n",
      "17             1.0\n",
      "18             3.0\n",
      "19             1.0\n",
      "20             3.0\n",
      "21             2.0\n",
      "22             3.0\n",
      "23             1.0\n",
      "24             2.0\n",
      "25             1.0\n",
      "26             2.0\n",
      "27             3.0\n",
      "28             2.0\n",
      "29             2.0\n",
      "..             ...\n",
      "470            3.0\n",
      "471            2.0\n",
      "472            2.0\n",
      "473            2.0\n",
      "474            1.0\n",
      "475            1.0\n",
      "476            3.0\n",
      "477            2.0\n",
      "478            3.0\n",
      "479            2.0\n",
      "480            1.0\n",
      "481            3.0\n",
      "482            NaN\n",
      "483            3.0\n",
      "484            1.0\n",
      "485            1.0\n",
      "486            1.0\n",
      "487            3.0\n",
      "488            2.0\n",
      "489            2.0\n",
      "490            1.0\n",
      "491            2.0\n",
      "492            2.0\n",
      "493            1.0\n",
      "494            3.0\n",
      "495            2.0\n",
      "496            2.0\n",
      "497            3.0\n",
      "498            2.0\n",
      "499            2.0\n",
      "\n",
      "[500 rows x 1 columns]\n"
     ]
    }
   ],
   "source": [
    "#additional pre-processing steps\n",
    "# Encode with integers ordinal ones\n",
    "features = [['Lot Shape'],['Utilities'],['Land Slope'],['Exter Cond', 'Exter Qual', 'Heating QC', 'Kitchen Qual'],\n",
    "            ['Garage Qual', 'Bsmt Qual', 'Bsmt Cond'],['Bsmt Exposure'],['BsmtFin Type 1', 'BsmtFin Type 2'],\n",
    "            ['Garage Finish']]\n",
    "encoding = [{'Reg':0, 'IR1':1, 'IR2':2, 'IR3':3},{'AllPub':4, 'NoSewr':3, 'NoSeWa':2, 'ELO':1},{'Gtl':0, 'Mod':1, 'Sev':2},\n",
    "            {'Po': 0, 'Fa': 1, 'TA': 2, 'Gd': 3, 'Ex': 4},{'Po': 1, 'Fa': 2, 'TA': 3, 'Gd': 4, 'Ex': 5, 'NoGarage':0, 'NoBasement':0},\n",
    "            {'Gd':4, 'Av':3, 'Mn':2, 'No':1, 'NoBasement':0},{'GLQ': 6, 'ALQ':5, 'BLQ':4, 'Rec':3, 'LwQ':2, 'Unf':1, 'NoBasement':0},\n",
    "            {'Fin':3, 'RFn':2, 'Unf':1, 'NoGarage':0, 'NoBasement':0}]\n",
    "\n",
    "for i in range(len(features)):\n",
    "    print(encoding[i])\n",
    "    print(features[i])\n",
    "    to_predict[features[i]] = to_predict[features[i]].replace(encoding[i])\n",
    "    print(to_predict[features[i]])\n",
    "\n"
   ]
  },
  {
   "cell_type": "code",
   "execution_count": 68,
   "metadata": {
    "collapsed": true,
    "scrolled": true
   },
   "outputs": [],
   "source": [
    "def preprocess(df):\n",
    "    \"\"\" repeat data cleaning operations \"\"\"\n",
    "    # remove columns with >50% missing values\n",
    "    #df.drop(['Alley','Pool QC', 'Fence', 'Misc Feature', 'Fireplace Qu'], axis=1, inplace=True)\n",
    "    #df.dropna(subset=nans_keys[nans_val<21], inplace=True)\n",
    "    for i in ['Bsmt Qual', 'Bsmt Cond', 'Bsmt Exposure','BsmtFin Type 1', 'BsmtFin Type 2']:\n",
    "        df[i].fillna(value=\"NoBasement\", inplace=True)     \n",
    "    for i in ['Garage Type','Garage Finish', 'Garage Qual', 'Garage Cond']:\n",
    "        df[i].fillna(value=\"NoGarage\", inplace=True)  \n",
    "\n",
    "        \n",
    "    df['Lot Frontage'].fillna(value=df['Lot Frontage'].mean(), inplace=True)\n",
    "    most_freq = int(df['Garage Yr Blt'].value_counts().index[0])\n",
    "    df['Garage Yr Blt'].fillna(value=most_freq, inplace=True)\n",
    "\n",
    "    PID = df.PID\n",
    "    df.drop(['PID', 'Order'], axis=1, inplace=True)\n",
    "    #one-hot encoding\n",
    "    nominal = df.select_dtypes(include='object').columns\n",
    "    #nominal = ['Mas Vnr Type', 'MS SubClass', 'MS Zoning', 'Street', 'Land Contour', 'Lot Config', 'Neighborhood', 'Condition 1', 'Condition 2', 'Bldg Type', 'House Style', 'Roof Style', 'Roof Matl', 'Exterior 1st', 'Exterior 2nd', 'Foundation', 'Central Air' , 'Garage Type']\n",
    "    encoded = pd.get_dummies(df, columns=nominal)\n",
    "    #feature engineering\n",
    "    #number of rooms\n",
    "    encoded['rooms_numb'] = encoded['TotRms AbvGrd'] + encoded['Kitchen AbvGr'] + encoded['Full Bath'] + encoded['Half Bath'] \n",
    "    #total surface\n",
    "    encoded['total_surface'] = encoded['Total Bsmt SF'] + encoded['Gr Liv Area']\n",
    "    #year of construction is older than some threshold (indicator variables)\n",
    "    encoded['newly_built'] = encoded['Year Built']>2017\n",
    "    encoded['newly_built'] = encoded['newly_built'].map({True:1, False:0})\n",
    "    #transformations (take the logarithm of variables with skewed distributions, add polynomial features)\n",
    "    encoded['log_lotarea'] = encoded['Lot Area'].apply(np.log10)\n",
    "    return encoded, PID, y\n",
    "to_predict, PID, y = preprocess(to_predict)"
   ]
  },
  {
   "cell_type": "code",
   "execution_count": 69,
   "metadata": {
    "collapsed": true,
    "scrolled": true
   },
   "outputs": [],
   "source": [
    "#reindex DataFrame\n",
    "df_pred = to_predict.reindex(\n",
    "    columns=encoded.columns,\n",
    "    fill_value=0 # Fill with 0s\n",
    ")"
   ]
  },
  {
   "cell_type": "code",
   "execution_count": 70,
   "metadata": {
    "collapsed": false
   },
   "outputs": [
    {
     "name": "stdout",
     "output_type": "stream",
     "text": [
      "<class 'pandas.core.frame.DataFrame'>\n",
      "RangeIndex: 500 entries, 0 to 499\n",
      "Columns: 232 entries, MS SubClass to log_lotarea\n",
      "dtypes: float64(13), int64(67), uint8(152)\n",
      "memory usage: 386.8 KB\n"
     ]
    }
   ],
   "source": [
    "df_pred.info()"
   ]
  },
  {
   "cell_type": "code",
   "execution_count": 71,
   "metadata": {
    "collapsed": false
   },
   "outputs": [
    {
     "data": {
      "text/plain": [
       "Mas Vnr Area    3\n",
       "dtype: int64"
      ]
     },
     "execution_count": 71,
     "metadata": {},
     "output_type": "execute_result"
    }
   ],
   "source": [
    "#any nans left?\n",
    "df_pred.isnull().sum()[df_pred.isnull().sum()>0]"
   ]
  },
  {
   "cell_type": "code",
   "execution_count": 72,
   "metadata": {
    "collapsed": true
   },
   "outputs": [],
   "source": [
    "df_pred.fillna(value=0, inplace=True)"
   ]
  },
  {
   "cell_type": "code",
   "execution_count": 73,
   "metadata": {
    "collapsed": true,
    "scrolled": true
   },
   "outputs": [],
   "source": [
    "#predict \n",
    "y_pred4 = ridge2.predict(df_pred)"
   ]
  },
  {
   "cell_type": "code",
   "execution_count": 74,
   "metadata": {
    "collapsed": true,
    "scrolled": true
   },
   "outputs": [],
   "source": [
    "# Convert predictions to dollars\n",
    "predictions = 10**y_pred4\n",
    "# Create DataFrame for predictions\n",
    "predictions_df = pd.DataFrame.from_items([\n",
    "    ('PID', PID),\n",
    "    ('SalePrice', predictions)\n",
    "])"
   ]
  },
  {
   "cell_type": "code",
   "execution_count": 75,
   "metadata": {
    "collapsed": false,
    "scrolled": true
   },
   "outputs": [
    {
     "data": {
      "text/plain": [
       "count    5.000000e+02\n",
       "mean     1.694329e+05\n",
       "std      8.483456e+04\n",
       "min      4.473453e+04\n",
       "25%      1.200699e+05\n",
       "50%      1.500121e+05\n",
       "75%      1.953080e+05\n",
       "max      1.120068e+06\n",
       "Name: SalePrice, dtype: float64"
      ]
     },
     "execution_count": 75,
     "metadata": {},
     "output_type": "execute_result"
    }
   ],
   "source": [
    "#verify distribution\n",
    "predictions_df.SalePrice.describe()"
   ]
  },
  {
   "cell_type": "code",
   "execution_count": 76,
   "metadata": {
    "collapsed": false
   },
   "outputs": [
    {
     "data": {
      "text/plain": [
       "count      1924.000000\n",
       "mean     169798.417360\n",
       "std       66272.228756\n",
       "min       12789.000000\n",
       "25%      126000.000000\n",
       "50%      155000.000000\n",
       "75%      201617.500000\n",
       "max      492000.000000\n",
       "Name: LogSalePrice, dtype: float64"
      ]
     },
     "execution_count": 76,
     "metadata": {},
     "output_type": "execute_result"
    }
   ],
   "source": [
    "(10**y).describe()"
   ]
  },
  {
   "cell_type": "code",
   "execution_count": 77,
   "metadata": {
    "collapsed": true,
    "scrolled": true
   },
   "outputs": [],
   "source": [
    "# Save data\n",
    "predictions_df.to_csv('house-prices-pred.csv', index=False, float_format='%.0f')"
   ]
  },
  {
   "cell_type": "code",
   "execution_count": null,
   "metadata": {
    "collapsed": true
   },
   "outputs": [],
   "source": []
  }
 ],
 "metadata": {
  "anaconda-cloud": {},
  "kernelspec": {
   "display_name": "Python (ML1)",
   "language": "python",
   "name": "exts-aml1"
  },
  "language_info": {
   "codemirror_mode": {
    "name": "ipython",
    "version": 3
   },
   "file_extension": ".py",
   "mimetype": "text/x-python",
   "name": "python",
   "nbconvert_exporter": "python",
   "pygments_lexer": "ipython3",
   "version": "3.6.4"
  }
 },
 "nbformat": 4,
 "nbformat_minor": 2
}
