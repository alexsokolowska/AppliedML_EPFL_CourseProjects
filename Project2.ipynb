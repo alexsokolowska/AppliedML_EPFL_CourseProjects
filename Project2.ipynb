{
 "cells": [
  {
   "cell_type": "markdown",
   "metadata": {},
   "source": [
    "# A. Importing and cleaning the data & B. Manipulating the data\n",
    " thoroughly clean the data:\n",
    " - dealing with missing values, \n",
    " - normalizing entries and text data, \n",
    " - dealing with duplicates or incorrect values, getting certain data in more useful formats and so on"
   ]
  },
  {
   "cell_type": "code",
   "execution_count": 272,
   "metadata": {
    "collapsed": true
   },
   "outputs": [],
   "source": [
    "import pandas as pd"
   ]
  },
  {
   "cell_type": "code",
   "execution_count": 273,
   "metadata": {
    "collapsed": false
   },
   "outputs": [
    {
     "name": "stderr",
     "output_type": "stream",
     "text": [
      "//anaconda/envs/exts-ada/lib/python3.6/site-packages/IPython/core/interactiveshell.py:2698: DtypeWarning: Columns (0,3,5,19,20,24,25,26,27,28,36,37,38,39,48) have mixed types. Specify dtype option on import or set low_memory=False.\n",
      "  interactivity=interactivity, compiler=compiler, result=result)\n"
     ]
    }
   ],
   "source": [
    "data = pd.read_csv(\"./en.openfoodfacts.org.products.tsv\",sep='\\t')"
   ]
  },
  {
   "cell_type": "code",
   "execution_count": 274,
   "metadata": {
    "collapsed": false
   },
   "outputs": [
    {
     "data": {
      "text/html": [
       "<div>\n",
       "<style>\n",
       "    .dataframe thead tr:only-child th {\n",
       "        text-align: right;\n",
       "    }\n",
       "\n",
       "    .dataframe thead th {\n",
       "        text-align: left;\n",
       "    }\n",
       "\n",
       "    .dataframe tbody tr th {\n",
       "        vertical-align: top;\n",
       "    }\n",
       "</style>\n",
       "<table border=\"1\" class=\"dataframe\">\n",
       "  <thead>\n",
       "    <tr style=\"text-align: right;\">\n",
       "      <th></th>\n",
       "      <th>code</th>\n",
       "      <th>url</th>\n",
       "      <th>creator</th>\n",
       "      <th>created_t</th>\n",
       "      <th>created_datetime</th>\n",
       "      <th>last_modified_t</th>\n",
       "      <th>last_modified_datetime</th>\n",
       "      <th>product_name</th>\n",
       "      <th>generic_name</th>\n",
       "      <th>quantity</th>\n",
       "      <th>...</th>\n",
       "      <th>fruits-vegetables-nuts_100g</th>\n",
       "      <th>fruits-vegetables-nuts-estimate_100g</th>\n",
       "      <th>collagen-meat-protein-ratio_100g</th>\n",
       "      <th>cocoa_100g</th>\n",
       "      <th>chlorophyl_100g</th>\n",
       "      <th>carbon-footprint_100g</th>\n",
       "      <th>nutrition-score-fr_100g</th>\n",
       "      <th>nutrition-score-uk_100g</th>\n",
       "      <th>glycemic-index_100g</th>\n",
       "      <th>water-hardness_100g</th>\n",
       "    </tr>\n",
       "  </thead>\n",
       "  <tbody>\n",
       "    <tr>\n",
       "      <th>0</th>\n",
       "      <td>3087</td>\n",
       "      <td>http://world-en.openfoodfacts.org/product/0000...</td>\n",
       "      <td>openfoodfacts-contributors</td>\n",
       "      <td>1474103866</td>\n",
       "      <td>2016-09-17T09:17:46Z</td>\n",
       "      <td>1474103893</td>\n",
       "      <td>2016-09-17T09:18:13Z</td>\n",
       "      <td>Farine de blé noir</td>\n",
       "      <td>NaN</td>\n",
       "      <td>1kg</td>\n",
       "      <td>...</td>\n",
       "      <td>NaN</td>\n",
       "      <td>NaN</td>\n",
       "      <td>NaN</td>\n",
       "      <td>NaN</td>\n",
       "      <td>NaN</td>\n",
       "      <td>NaN</td>\n",
       "      <td>NaN</td>\n",
       "      <td>NaN</td>\n",
       "      <td>NaN</td>\n",
       "      <td>NaN</td>\n",
       "    </tr>\n",
       "    <tr>\n",
       "      <th>1</th>\n",
       "      <td>4530</td>\n",
       "      <td>http://world-en.openfoodfacts.org/product/0000...</td>\n",
       "      <td>usda-ndb-import</td>\n",
       "      <td>1489069957</td>\n",
       "      <td>2017-03-09T14:32:37Z</td>\n",
       "      <td>1489069957</td>\n",
       "      <td>2017-03-09T14:32:37Z</td>\n",
       "      <td>Banana Chips Sweetened (Whole)</td>\n",
       "      <td>NaN</td>\n",
       "      <td>NaN</td>\n",
       "      <td>...</td>\n",
       "      <td>NaN</td>\n",
       "      <td>NaN</td>\n",
       "      <td>NaN</td>\n",
       "      <td>NaN</td>\n",
       "      <td>NaN</td>\n",
       "      <td>NaN</td>\n",
       "      <td>14.0</td>\n",
       "      <td>14.0</td>\n",
       "      <td>NaN</td>\n",
       "      <td>NaN</td>\n",
       "    </tr>\n",
       "    <tr>\n",
       "      <th>2</th>\n",
       "      <td>4559</td>\n",
       "      <td>http://world-en.openfoodfacts.org/product/0000...</td>\n",
       "      <td>usda-ndb-import</td>\n",
       "      <td>1489069957</td>\n",
       "      <td>2017-03-09T14:32:37Z</td>\n",
       "      <td>1489069957</td>\n",
       "      <td>2017-03-09T14:32:37Z</td>\n",
       "      <td>Peanuts</td>\n",
       "      <td>NaN</td>\n",
       "      <td>NaN</td>\n",
       "      <td>...</td>\n",
       "      <td>NaN</td>\n",
       "      <td>NaN</td>\n",
       "      <td>NaN</td>\n",
       "      <td>NaN</td>\n",
       "      <td>NaN</td>\n",
       "      <td>NaN</td>\n",
       "      <td>0.0</td>\n",
       "      <td>0.0</td>\n",
       "      <td>NaN</td>\n",
       "      <td>NaN</td>\n",
       "    </tr>\n",
       "    <tr>\n",
       "      <th>3</th>\n",
       "      <td>16087</td>\n",
       "      <td>http://world-en.openfoodfacts.org/product/0000...</td>\n",
       "      <td>usda-ndb-import</td>\n",
       "      <td>1489055731</td>\n",
       "      <td>2017-03-09T10:35:31Z</td>\n",
       "      <td>1489055731</td>\n",
       "      <td>2017-03-09T10:35:31Z</td>\n",
       "      <td>Organic Salted Nut Mix</td>\n",
       "      <td>NaN</td>\n",
       "      <td>NaN</td>\n",
       "      <td>...</td>\n",
       "      <td>NaN</td>\n",
       "      <td>NaN</td>\n",
       "      <td>NaN</td>\n",
       "      <td>NaN</td>\n",
       "      <td>NaN</td>\n",
       "      <td>NaN</td>\n",
       "      <td>12.0</td>\n",
       "      <td>12.0</td>\n",
       "      <td>NaN</td>\n",
       "      <td>NaN</td>\n",
       "    </tr>\n",
       "    <tr>\n",
       "      <th>4</th>\n",
       "      <td>16094</td>\n",
       "      <td>http://world-en.openfoodfacts.org/product/0000...</td>\n",
       "      <td>usda-ndb-import</td>\n",
       "      <td>1489055653</td>\n",
       "      <td>2017-03-09T10:34:13Z</td>\n",
       "      <td>1489055653</td>\n",
       "      <td>2017-03-09T10:34:13Z</td>\n",
       "      <td>Organic Polenta</td>\n",
       "      <td>NaN</td>\n",
       "      <td>NaN</td>\n",
       "      <td>...</td>\n",
       "      <td>NaN</td>\n",
       "      <td>NaN</td>\n",
       "      <td>NaN</td>\n",
       "      <td>NaN</td>\n",
       "      <td>NaN</td>\n",
       "      <td>NaN</td>\n",
       "      <td>NaN</td>\n",
       "      <td>NaN</td>\n",
       "      <td>NaN</td>\n",
       "      <td>NaN</td>\n",
       "    </tr>\n",
       "  </tbody>\n",
       "</table>\n",
       "<p>5 rows × 163 columns</p>\n",
       "</div>"
      ],
      "text/plain": [
       "    code                                                url  \\\n",
       "0   3087  http://world-en.openfoodfacts.org/product/0000...   \n",
       "1   4530  http://world-en.openfoodfacts.org/product/0000...   \n",
       "2   4559  http://world-en.openfoodfacts.org/product/0000...   \n",
       "3  16087  http://world-en.openfoodfacts.org/product/0000...   \n",
       "4  16094  http://world-en.openfoodfacts.org/product/0000...   \n",
       "\n",
       "                      creator   created_t      created_datetime  \\\n",
       "0  openfoodfacts-contributors  1474103866  2016-09-17T09:17:46Z   \n",
       "1             usda-ndb-import  1489069957  2017-03-09T14:32:37Z   \n",
       "2             usda-ndb-import  1489069957  2017-03-09T14:32:37Z   \n",
       "3             usda-ndb-import  1489055731  2017-03-09T10:35:31Z   \n",
       "4             usda-ndb-import  1489055653  2017-03-09T10:34:13Z   \n",
       "\n",
       "  last_modified_t last_modified_datetime                    product_name  \\\n",
       "0      1474103893   2016-09-17T09:18:13Z              Farine de blé noir   \n",
       "1      1489069957   2017-03-09T14:32:37Z  Banana Chips Sweetened (Whole)   \n",
       "2      1489069957   2017-03-09T14:32:37Z                         Peanuts   \n",
       "3      1489055731   2017-03-09T10:35:31Z          Organic Salted Nut Mix   \n",
       "4      1489055653   2017-03-09T10:34:13Z                 Organic Polenta   \n",
       "\n",
       "  generic_name quantity         ...         fruits-vegetables-nuts_100g  \\\n",
       "0          NaN      1kg         ...                                 NaN   \n",
       "1          NaN      NaN         ...                                 NaN   \n",
       "2          NaN      NaN         ...                                 NaN   \n",
       "3          NaN      NaN         ...                                 NaN   \n",
       "4          NaN      NaN         ...                                 NaN   \n",
       "\n",
       "  fruits-vegetables-nuts-estimate_100g collagen-meat-protein-ratio_100g  \\\n",
       "0                                  NaN                              NaN   \n",
       "1                                  NaN                              NaN   \n",
       "2                                  NaN                              NaN   \n",
       "3                                  NaN                              NaN   \n",
       "4                                  NaN                              NaN   \n",
       "\n",
       "  cocoa_100g chlorophyl_100g carbon-footprint_100g nutrition-score-fr_100g  \\\n",
       "0        NaN             NaN                   NaN                     NaN   \n",
       "1        NaN             NaN                   NaN                    14.0   \n",
       "2        NaN             NaN                   NaN                     0.0   \n",
       "3        NaN             NaN                   NaN                    12.0   \n",
       "4        NaN             NaN                   NaN                     NaN   \n",
       "\n",
       "  nutrition-score-uk_100g glycemic-index_100g water-hardness_100g  \n",
       "0                     NaN                 NaN                 NaN  \n",
       "1                    14.0                 NaN                 NaN  \n",
       "2                     0.0                 NaN                 NaN  \n",
       "3                    12.0                 NaN                 NaN  \n",
       "4                     NaN                 NaN                 NaN  \n",
       "\n",
       "[5 rows x 163 columns]"
      ]
     },
     "execution_count": 274,
     "metadata": {},
     "output_type": "execute_result"
    }
   ],
   "source": [
    "data.head()"
   ]
  },
  {
   "cell_type": "code",
   "execution_count": 275,
   "metadata": {
    "collapsed": false
   },
   "outputs": [
    {
     "name": "stdout",
     "output_type": "stream",
     "text": [
      "<class 'pandas.core.frame.DataFrame'>\n",
      "RangeIndex: 356027 entries, 0 to 356026\n",
      "Columns: 163 entries, code to water-hardness_100g\n",
      "dtypes: float64(107), object(56)\n",
      "memory usage: 442.8+ MB\n"
     ]
    }
   ],
   "source": [
    "#finding out about data types, number of columns\n",
    "data.info()"
   ]
  },
  {
   "cell_type": "code",
   "execution_count": 276,
   "metadata": {
    "collapsed": false
   },
   "outputs": [
    {
     "data": {
      "text/plain": [
       "code                          26\n",
       "url                           26\n",
       "creator                        3\n",
       "created_t                      3\n",
       "created_datetime              10\n",
       "last_modified_t                0\n",
       "last_modified_datetime         0\n",
       "product_name               17512\n",
       "generic_name              298313\n",
       "quantity                  236742\n",
       "dtype: int64"
      ]
     },
     "execution_count": 276,
     "metadata": {},
     "output_type": "execute_result"
    }
   ],
   "source": [
    "#how many missing values\n",
    "data.isnull().sum().head(10)"
   ]
  },
  {
   "cell_type": "markdown",
   "metadata": {},
   "source": [
    "To understand how to clean this data, given that there are so many missing values in certain columns (e.g. purchase_places 289462/356027 entries), I need to understand what columns will be used in this task. To come up with questions I am interested in, first I need to look at all the columns that are available in the data set."
   ]
  },
  {
   "cell_type": "code",
   "execution_count": 277,
   "metadata": {
    "collapsed": false
   },
   "outputs": [
    {
     "name": "stdout",
     "output_type": "stream",
     "text": [
      "code\n",
      "url\n",
      "creator\n",
      "created_t\n",
      "created_datetime\n",
      "last_modified_t\n",
      "last_modified_datetime\n",
      "product_name\n",
      "generic_name\n",
      "quantity\n",
      "packaging\n",
      "packaging_tags\n",
      "brands\n",
      "brands_tags\n",
      "categories\n",
      "categories_tags\n",
      "categories_en\n",
      "origins\n",
      "origins_tags\n",
      "manufacturing_places\n",
      "manufacturing_places_tags\n",
      "labels\n",
      "labels_tags\n",
      "labels_en\n",
      "emb_codes\n",
      "emb_codes_tags\n",
      "first_packaging_code_geo\n",
      "cities\n",
      "cities_tags\n",
      "purchase_places\n",
      "stores\n",
      "countries\n",
      "countries_tags\n",
      "countries_en\n",
      "ingredients_text\n",
      "allergens\n",
      "allergens_en\n",
      "traces\n",
      "traces_tags\n",
      "traces_en\n",
      "serving_size\n",
      "no_nutriments\n",
      "additives_n\n",
      "additives\n",
      "additives_tags\n",
      "additives_en\n",
      "ingredients_from_palm_oil_n\n",
      "ingredients_from_palm_oil\n",
      "ingredients_from_palm_oil_tags\n",
      "ingredients_that_may_be_from_palm_oil_n\n",
      "ingredients_that_may_be_from_palm_oil\n",
      "ingredients_that_may_be_from_palm_oil_tags\n",
      "nutrition_grade_uk\n",
      "nutrition_grade_fr\n",
      "pnns_groups_1\n",
      "pnns_groups_2\n",
      "states\n",
      "states_tags\n",
      "states_en\n",
      "main_category\n",
      "main_category_en\n",
      "image_url\n",
      "image_small_url\n",
      "energy_100g\n",
      "energy-from-fat_100g\n",
      "fat_100g\n",
      "saturated-fat_100g\n",
      "-butyric-acid_100g\n",
      "-caproic-acid_100g\n",
      "-caprylic-acid_100g\n",
      "-capric-acid_100g\n",
      "-lauric-acid_100g\n",
      "-myristic-acid_100g\n",
      "-palmitic-acid_100g\n",
      "-stearic-acid_100g\n",
      "-arachidic-acid_100g\n",
      "-behenic-acid_100g\n",
      "-lignoceric-acid_100g\n",
      "-cerotic-acid_100g\n",
      "-montanic-acid_100g\n",
      "-melissic-acid_100g\n",
      "monounsaturated-fat_100g\n",
      "polyunsaturated-fat_100g\n",
      "omega-3-fat_100g\n",
      "-alpha-linolenic-acid_100g\n",
      "-eicosapentaenoic-acid_100g\n",
      "-docosahexaenoic-acid_100g\n",
      "omega-6-fat_100g\n",
      "-linoleic-acid_100g\n",
      "-arachidonic-acid_100g\n",
      "-gamma-linolenic-acid_100g\n",
      "-dihomo-gamma-linolenic-acid_100g\n",
      "omega-9-fat_100g\n",
      "-oleic-acid_100g\n",
      "-elaidic-acid_100g\n",
      "-gondoic-acid_100g\n",
      "-mead-acid_100g\n",
      "-erucic-acid_100g\n",
      "-nervonic-acid_100g\n",
      "trans-fat_100g\n",
      "cholesterol_100g\n",
      "carbohydrates_100g\n",
      "sugars_100g\n",
      "-sucrose_100g\n",
      "-glucose_100g\n",
      "-fructose_100g\n",
      "-lactose_100g\n",
      "-maltose_100g\n",
      "-maltodextrins_100g\n",
      "starch_100g\n",
      "polyols_100g\n",
      "fiber_100g\n",
      "proteins_100g\n",
      "casein_100g\n",
      "serum-proteins_100g\n",
      "nucleotides_100g\n",
      "salt_100g\n",
      "sodium_100g\n",
      "alcohol_100g\n",
      "vitamin-a_100g\n",
      "beta-carotene_100g\n",
      "vitamin-d_100g\n",
      "vitamin-e_100g\n",
      "vitamin-k_100g\n",
      "vitamin-c_100g\n",
      "vitamin-b1_100g\n",
      "vitamin-b2_100g\n",
      "vitamin-pp_100g\n",
      "vitamin-b6_100g\n",
      "vitamin-b9_100g\n",
      "folates_100g\n",
      "vitamin-b12_100g\n",
      "biotin_100g\n",
      "pantothenic-acid_100g\n",
      "silica_100g\n",
      "bicarbonate_100g\n",
      "potassium_100g\n",
      "chloride_100g\n",
      "calcium_100g\n",
      "phosphorus_100g\n",
      "iron_100g\n",
      "magnesium_100g\n",
      "zinc_100g\n",
      "copper_100g\n",
      "manganese_100g\n",
      "fluoride_100g\n",
      "selenium_100g\n",
      "chromium_100g\n",
      "molybdenum_100g\n",
      "iodine_100g\n",
      "caffeine_100g\n",
      "taurine_100g\n",
      "ph_100g\n",
      "fruits-vegetables-nuts_100g\n",
      "fruits-vegetables-nuts-estimate_100g\n",
      "collagen-meat-protein-ratio_100g\n",
      "cocoa_100g\n",
      "chlorophyl_100g\n",
      "carbon-footprint_100g\n",
      "nutrition-score-fr_100g\n",
      "nutrition-score-uk_100g\n",
      "glycemic-index_100g\n",
      "water-hardness_100g\n"
     ]
    }
   ],
   "source": [
    "for i in data.columns:\n",
    "    print(i)"
   ]
  },
  {
   "cell_type": "markdown",
   "metadata": {},
   "source": [
    "I'll be interested in:\n",
    "- product_name\n",
    "- categories_en\n",
    "- packaging\n",
    "- countries_en\n",
    "- origins\n",
    "- manufacturing_places\n",
    "- carbon-footprint_100g\n",
    "\n",
    "And then to solve your task also those:\n",
    "- carbohydrates_100g\n",
    "- fat_100g\n",
    "- proteins_100g"
   ]
  },
  {
   "cell_type": "code",
   "execution_count": 278,
   "metadata": {
    "collapsed": true
   },
   "outputs": [],
   "source": [
    "#keep only interesting data\n",
    "keep_columns = ['product_name','categories_en','packaging','countries_en','origins', 'manufacturing_places',\n",
    "                'carbon-footprint_100g', 'carbohydrates_100g', 'fat_100g', 'proteins_100g']"
   ]
  },
  {
   "cell_type": "code",
   "execution_count": 279,
   "metadata": {
    "collapsed": false
   },
   "outputs": [],
   "source": [
    "dt = data[keep_columns]"
   ]
  },
  {
   "cell_type": "code",
   "execution_count": 280,
   "metadata": {
    "collapsed": false
   },
   "outputs": [
    {
     "data": {
      "text/html": [
       "<div>\n",
       "<style>\n",
       "    .dataframe thead tr:only-child th {\n",
       "        text-align: right;\n",
       "    }\n",
       "\n",
       "    .dataframe thead th {\n",
       "        text-align: left;\n",
       "    }\n",
       "\n",
       "    .dataframe tbody tr th {\n",
       "        vertical-align: top;\n",
       "    }\n",
       "</style>\n",
       "<table border=\"1\" class=\"dataframe\">\n",
       "  <thead>\n",
       "    <tr style=\"text-align: right;\">\n",
       "      <th></th>\n",
       "      <th>product_name</th>\n",
       "      <th>categories_en</th>\n",
       "      <th>packaging</th>\n",
       "      <th>countries_en</th>\n",
       "      <th>origins</th>\n",
       "      <th>manufacturing_places</th>\n",
       "      <th>carbon-footprint_100g</th>\n",
       "      <th>carbohydrates_100g</th>\n",
       "      <th>fat_100g</th>\n",
       "      <th>proteins_100g</th>\n",
       "    </tr>\n",
       "  </thead>\n",
       "  <tbody>\n",
       "    <tr>\n",
       "      <th>0</th>\n",
       "      <td>Farine de blé noir</td>\n",
       "      <td>NaN</td>\n",
       "      <td>NaN</td>\n",
       "      <td>France</td>\n",
       "      <td>NaN</td>\n",
       "      <td>NaN</td>\n",
       "      <td>NaN</td>\n",
       "      <td>NaN</td>\n",
       "      <td>NaN</td>\n",
       "      <td>NaN</td>\n",
       "    </tr>\n",
       "    <tr>\n",
       "      <th>1</th>\n",
       "      <td>Banana Chips Sweetened (Whole)</td>\n",
       "      <td>NaN</td>\n",
       "      <td>NaN</td>\n",
       "      <td>United States</td>\n",
       "      <td>NaN</td>\n",
       "      <td>NaN</td>\n",
       "      <td>NaN</td>\n",
       "      <td>64.29</td>\n",
       "      <td>28.57</td>\n",
       "      <td>3.57</td>\n",
       "    </tr>\n",
       "  </tbody>\n",
       "</table>\n",
       "</div>"
      ],
      "text/plain": [
       "                     product_name categories_en packaging   countries_en  \\\n",
       "0              Farine de blé noir           NaN       NaN         France   \n",
       "1  Banana Chips Sweetened (Whole)           NaN       NaN  United States   \n",
       "\n",
       "  origins manufacturing_places  carbon-footprint_100g  carbohydrates_100g  \\\n",
       "0     NaN                  NaN                    NaN                 NaN   \n",
       "1     NaN                  NaN                    NaN               64.29   \n",
       "\n",
       "   fat_100g  proteins_100g  \n",
       "0       NaN            NaN  \n",
       "1     28.57           3.57  "
      ]
     },
     "execution_count": 280,
     "metadata": {},
     "output_type": "execute_result"
    }
   ],
   "source": [
    "dt.head(2)"
   ]
  },
  {
   "cell_type": "code",
   "execution_count": 281,
   "metadata": {
    "collapsed": false
   },
   "outputs": [
    {
     "name": "stdout",
     "output_type": "stream",
     "text": [
      "<class 'pandas.core.frame.DataFrame'>\n",
      "RangeIndex: 356027 entries, 0 to 356026\n",
      "Data columns (total 10 columns):\n",
      "product_name             338515 non-null object\n",
      "categories_en            103301 non-null object\n",
      "packaging                89960 non-null object\n",
      "countries_en             355752 non-null object\n",
      "origins                  25050 non-null object\n",
      "manufacturing_places     42008 non-null object\n",
      "carbon-footprint_100g    278 non-null float64\n",
      "carbohydrates_100g       279220 non-null float64\n",
      "fat_100g                 279497 non-null float64\n",
      "proteins_100g            294161 non-null float64\n",
      "dtypes: float64(4), object(6)\n",
      "memory usage: 27.2+ MB\n"
     ]
    }
   ],
   "source": [
    "dt.info()"
   ]
  },
  {
   "cell_type": "markdown",
   "metadata": {},
   "source": [
    "There are too many differences in the number of nans between the columns, hence I will be cleaning the data on the question basis. But I can drop the duplicates."
   ]
  },
  {
   "cell_type": "code",
   "execution_count": 282,
   "metadata": {
    "collapsed": false
   },
   "outputs": [
    {
     "data": {
      "text/plain": [
       "42172"
      ]
     },
     "execution_count": 282,
     "metadata": {},
     "output_type": "execute_result"
    }
   ],
   "source": [
    "dt.duplicated().sum()"
   ]
  },
  {
   "cell_type": "code",
   "execution_count": 283,
   "metadata": {
    "collapsed": false
   },
   "outputs": [
    {
     "name": "stderr",
     "output_type": "stream",
     "text": [
      "//anaconda/envs/exts-ada/lib/python3.6/site-packages/ipykernel_launcher.py:1: SettingWithCopyWarning: \n",
      "A value is trying to be set on a copy of a slice from a DataFrame\n",
      "\n",
      "See the caveats in the documentation: http://pandas.pydata.org/pandas-docs/stable/indexing.html#indexing-view-versus-copy\n",
      "  \"\"\"Entry point for launching an IPython kernel.\n"
     ]
    }
   ],
   "source": [
    "dt.drop_duplicates(inplace=True)"
   ]
  },
  {
   "cell_type": "code",
   "execution_count": 284,
   "metadata": {
    "collapsed": false
   },
   "outputs": [
    {
     "data": {
      "text/plain": [
       "0"
      ]
     },
     "execution_count": 284,
     "metadata": {},
     "output_type": "execute_result"
    }
   ],
   "source": [
    "dt.duplicated().sum()"
   ]
  },
  {
   "cell_type": "markdown",
   "metadata": {},
   "source": [
    "## Questions\n",
    "---------------------\n",
    "\n",
    "\n",
    "### 1. Investigate the macronutrient breakdown across various foods (this is the percentage of calories that come from the 3 macronutrient groups: carbohydrates, protein and fats). \n",
    "- What are the foods that have the highest ratios of each macronutrient?  \n",
    "- What is the macronutrient breakdown across different countries, etc.\n",
    "----"
   ]
  },
  {
   "cell_type": "markdown",
   "metadata": {
    "collapsed": true
   },
   "source": [
    "__What are the foods that have the highest ratios of each macronutrient?__"
   ]
  },
  {
   "cell_type": "code",
   "execution_count": 285,
   "metadata": {
    "collapsed": false
   },
   "outputs": [],
   "source": [
    "filt = ~dt['categories_en'].isnull()"
   ]
  },
  {
   "cell_type": "code",
   "execution_count": 286,
   "metadata": {
    "collapsed": false
   },
   "outputs": [
    {
     "data": {
      "text/plain": [
       "281780    Plant-based foods and beverages,Plant-based fo...\n",
       "311656             Sugary snacks,Chocolates,Dark chocolates\n",
       "352368    Plant-based foods and beverages,Plant-based fo...\n",
       "112519               Groceries,Sauces,Tomato sauces,Ketchup\n",
       "251076            Sugary snacks,Biscuits and cakes,Biscuits\n",
       "256837    Spreads,Breakfasts,Sweet spreads,Sweeteners,Sy...\n",
       "210260         Sweeteners,Syrups,Simple syrups,Agave syrups\n",
       "284493         Sweeteners,Syrups,Simple syrups,Agave syrups\n",
       "284509         Sweeteners,Syrups,Simple syrups,Agave syrups\n",
       "289838         Sweeteners,Syrups,Simple syrups,Agave syrups\n",
       "Name: categories_en, dtype: object"
      ]
     },
     "execution_count": 286,
     "metadata": {},
     "output_type": "execute_result"
    }
   ],
   "source": [
    "dt[filt].sort_values('carbohydrates_100g', ascending=False)['categories_en'][:10]\n",
    "#dt['fat_100g']\n",
    "#dt['proteins_100g']"
   ]
  },
  {
   "cell_type": "code",
   "execution_count": 287,
   "metadata": {
    "collapsed": false
   },
   "outputs": [
    {
     "data": {
      "text/plain": [
       "333905    Plant-based foods and beverages,Plant-based fo...\n",
       "259638    Sugary snacks,Desserts,Chocolates,Chocolate de...\n",
       "178692                                      Plastic-surgery\n",
       "310541    Beverages,Alcoholic beverages,Hard liquors,fr:...\n",
       "229675    Plant-based foods and beverages,Plant-based fo...\n",
       "223142    Plant-based foods and beverages,Plant-based fo...\n",
       "303053    Plant-based foods and beverages,Plant-based fo...\n",
       "572       Dietary supplements,Bodybuilding supplements,P...\n",
       "306       Dietary supplements,Bodybuilding supplements,P...\n",
       "20759     Dietary supplements,Bodybuilding supplements,P...\n",
       "Name: categories_en, dtype: object"
      ]
     },
     "execution_count": 287,
     "metadata": {},
     "output_type": "execute_result"
    }
   ],
   "source": [
    "dt[filt].sort_values('proteins_100g', ascending=False)['categories_en'][:10]"
   ]
  },
  {
   "cell_type": "code",
   "execution_count": 288,
   "metadata": {
    "collapsed": false
   },
   "outputs": [
    {
     "data": {
      "text/plain": [
       "178692                                      Plastic-surgery\n",
       "336897    Plant-based foods and beverages,Plant-based fo...\n",
       "334384    Plant-based foods and beverages,Plant-based fo...\n",
       "228928                    Fats,Animal fats,fr:Gras de boeuf\n",
       "228813    Plant-based foods and beverages,Plant-based fo...\n",
       "228814    Plant-based foods and beverages,Plant-based fo...\n",
       "228815    Plant-based foods and beverages,Plant-based fo...\n",
       "228818    Plant-based foods and beverages,Plant-based fo...\n",
       "228821    Plant-based foods and beverages,Plant-based fo...\n",
       "228822    Plant-based foods and beverages,Plant-based fo...\n",
       "Name: categories_en, dtype: object"
      ]
     },
     "execution_count": 288,
     "metadata": {},
     "output_type": "execute_result"
    }
   ],
   "source": [
    "dt[filt].sort_values('fat_100g', ascending=False)['categories_en'][:10]"
   ]
  },
  {
   "cell_type": "markdown",
   "metadata": {},
   "source": [
    "__What is the macronutrient breakdown across different countries__"
   ]
  },
  {
   "cell_type": "code",
   "execution_count": 289,
   "metadata": {
    "collapsed": true
   },
   "outputs": [],
   "source": [
    "grouped = dt[filt].groupby(\"countries_en\")"
   ]
  },
  {
   "cell_type": "code",
   "execution_count": 290,
   "metadata": {
    "collapsed": false
   },
   "outputs": [
    {
     "data": {
      "text/html": [
       "<div>\n",
       "<style>\n",
       "    .dataframe thead tr:only-child th {\n",
       "        text-align: right;\n",
       "    }\n",
       "\n",
       "    .dataframe thead th {\n",
       "        text-align: left;\n",
       "    }\n",
       "\n",
       "    .dataframe tbody tr th {\n",
       "        vertical-align: top;\n",
       "    }\n",
       "</style>\n",
       "<table border=\"1\" class=\"dataframe\">\n",
       "  <thead>\n",
       "    <tr style=\"text-align: right;\">\n",
       "      <th></th>\n",
       "      <th>carbon-footprint_100g</th>\n",
       "      <th>carbohydrates_100g</th>\n",
       "      <th>fat_100g</th>\n",
       "      <th>proteins_100g</th>\n",
       "    </tr>\n",
       "    <tr>\n",
       "      <th>countries_en</th>\n",
       "      <th></th>\n",
       "      <th></th>\n",
       "      <th></th>\n",
       "      <th></th>\n",
       "    </tr>\n",
       "  </thead>\n",
       "  <tbody>\n",
       "    <tr>\n",
       "      <th>Albania</th>\n",
       "      <td>NaN</td>\n",
       "      <td>63.000000</td>\n",
       "      <td>15.000000</td>\n",
       "      <td>14.000000</td>\n",
       "    </tr>\n",
       "    <tr>\n",
       "      <th>Albania,Denmark,Italy</th>\n",
       "      <td>NaN</td>\n",
       "      <td>15.300000</td>\n",
       "      <td>0.800000</td>\n",
       "      <td>7.500000</td>\n",
       "    </tr>\n",
       "    <tr>\n",
       "      <th>Albania,France</th>\n",
       "      <td>NaN</td>\n",
       "      <td>66.000000</td>\n",
       "      <td>11.000000</td>\n",
       "      <td>7.500000</td>\n",
       "    </tr>\n",
       "    <tr>\n",
       "      <th>Albania,Italy</th>\n",
       "      <td>NaN</td>\n",
       "      <td>42.087500</td>\n",
       "      <td>7.600000</td>\n",
       "      <td>10.787500</td>\n",
       "    </tr>\n",
       "    <tr>\n",
       "      <th>Algeria</th>\n",
       "      <td>NaN</td>\n",
       "      <td>42.933333</td>\n",
       "      <td>15.833333</td>\n",
       "      <td>6.100000</td>\n",
       "    </tr>\n",
       "    <tr>\n",
       "      <th>Algeria,Australia,Bahrain,Egypt,Iraq,Jordan,Kuwait,Lebanon,Libya,Morocco,Nigeria,Oman,Qatar,Saudi Arabia,South Africa,State of Palestine,Tunisia,United Arab Emirates,United States,Yemen</th>\n",
       "      <td>NaN</td>\n",
       "      <td>57.000000</td>\n",
       "      <td>27.100000</td>\n",
       "      <td>9.200000</td>\n",
       "    </tr>\n",
       "    <tr>\n",
       "      <th>Algeria,Belgium,Brazil,Cameroon,Canada,France,Germany,India,Italy,Luxembourg,Mali,Martinique,Morocco,Netherlands,Portugal,Réunion,Saudi Arabia,Senegal,Spain,Switzerland,United Kingdom,United States</th>\n",
       "      <td>NaN</td>\n",
       "      <td>10.600000</td>\n",
       "      <td>0.000000</td>\n",
       "      <td>0.000000</td>\n",
       "    </tr>\n",
       "    <tr>\n",
       "      <th>Algeria,Belgium,Canada,France,Germany,Italy,Mali,Martinique,Spain,Switzerland</th>\n",
       "      <td>NaN</td>\n",
       "      <td>57.600000</td>\n",
       "      <td>31.600000</td>\n",
       "      <td>6.000000</td>\n",
       "    </tr>\n",
       "    <tr>\n",
       "      <th>Algeria,Belgium,Canada,France,Morocco,Switzerland</th>\n",
       "      <td>NaN</td>\n",
       "      <td>4.800000</td>\n",
       "      <td>1.600000</td>\n",
       "      <td>3.200000</td>\n",
       "    </tr>\n",
       "    <tr>\n",
       "      <th>Algeria,Belgium,Egypt,France,Morocco,Qatar,Switzerland,Tunisia,United Arab Emirates</th>\n",
       "      <td>NaN</td>\n",
       "      <td>61.700000</td>\n",
       "      <td>24.300000</td>\n",
       "      <td>8.100000</td>\n",
       "    </tr>\n",
       "    <tr>\n",
       "      <th>Algeria,Belgium,France,Germany,Guadeloupe,Italy,Lebanon,Luxembourg,Martinique,Morocco,Netherlands,Portugal,Réunion,Senegal,Spain,Switzerland,United Kingdom</th>\n",
       "      <td>NaN</td>\n",
       "      <td>0.000000</td>\n",
       "      <td>0.000000</td>\n",
       "      <td>0.000000</td>\n",
       "    </tr>\n",
       "    <tr>\n",
       "      <th>Algeria,Belgium,France,Poland,Portugal</th>\n",
       "      <td>NaN</td>\n",
       "      <td>57.700000</td>\n",
       "      <td>6.900000</td>\n",
       "      <td>12.900000</td>\n",
       "    </tr>\n",
       "    <tr>\n",
       "      <th>Algeria,Cameroon,Morocco</th>\n",
       "      <td>NaN</td>\n",
       "      <td>53.000000</td>\n",
       "      <td>32.000000</td>\n",
       "      <td>6.900000</td>\n",
       "    </tr>\n",
       "    <tr>\n",
       "      <th>Algeria,France</th>\n",
       "      <td>NaN</td>\n",
       "      <td>39.380000</td>\n",
       "      <td>17.802000</td>\n",
       "      <td>6.000000</td>\n",
       "    </tr>\n",
       "    <tr>\n",
       "      <th>Algeria,Switzerland</th>\n",
       "      <td>NaN</td>\n",
       "      <td>49.000000</td>\n",
       "      <td>36.000000</td>\n",
       "      <td>8.000000</td>\n",
       "    </tr>\n",
       "    <tr>\n",
       "      <th>Andorra</th>\n",
       "      <td>NaN</td>\n",
       "      <td>31.066667</td>\n",
       "      <td>3.820000</td>\n",
       "      <td>12.930000</td>\n",
       "    </tr>\n",
       "    <tr>\n",
       "      <th>Andorra,France</th>\n",
       "      <td>NaN</td>\n",
       "      <td>50.500000</td>\n",
       "      <td>30.000000</td>\n",
       "      <td>6.000000</td>\n",
       "    </tr>\n",
       "    <tr>\n",
       "      <th>Andorra,Spain</th>\n",
       "      <td>NaN</td>\n",
       "      <td>15.700000</td>\n",
       "      <td>3.400000</td>\n",
       "      <td>3.000000</td>\n",
       "    </tr>\n",
       "    <tr>\n",
       "      <th>Angola</th>\n",
       "      <td>NaN</td>\n",
       "      <td>NaN</td>\n",
       "      <td>NaN</td>\n",
       "      <td>NaN</td>\n",
       "    </tr>\n",
       "    <tr>\n",
       "      <th>Argentina</th>\n",
       "      <td>NaN</td>\n",
       "      <td>38.633000</td>\n",
       "      <td>7.300000</td>\n",
       "      <td>3.067778</td>\n",
       "    </tr>\n",
       "    <tr>\n",
       "      <th>Argentina,Australia,Belgium,Canada,Colombia,France,Germany,Ireland,Italy,Japan,Luxembourg,Mexico,Netherlands,Portugal,Russia,Saudi Arabia,South Africa,Spain,Sweden,Switzerland,United Kingdom,United States</th>\n",
       "      <td>NaN</td>\n",
       "      <td>57.600000</td>\n",
       "      <td>31.600000</td>\n",
       "      <td>6.000000</td>\n",
       "    </tr>\n",
       "    <tr>\n",
       "      <th>Argentina,Costa Rica,France,Germany,Italy,Mexico,Spain,Sweden,United Kingdom</th>\n",
       "      <td>NaN</td>\n",
       "      <td>NaN</td>\n",
       "      <td>NaN</td>\n",
       "      <td>NaN</td>\n",
       "    </tr>\n",
       "    <tr>\n",
       "      <th>Argentina,France</th>\n",
       "      <td>NaN</td>\n",
       "      <td>NaN</td>\n",
       "      <td>NaN</td>\n",
       "      <td>NaN</td>\n",
       "    </tr>\n",
       "    <tr>\n",
       "      <th>Argentina,France,Switzerland</th>\n",
       "      <td>NaN</td>\n",
       "      <td>4.500000</td>\n",
       "      <td>0.000000</td>\n",
       "      <td>0.000000</td>\n",
       "    </tr>\n",
       "    <tr>\n",
       "      <th>Armenia</th>\n",
       "      <td>NaN</td>\n",
       "      <td>NaN</td>\n",
       "      <td>NaN</td>\n",
       "      <td>NaN</td>\n",
       "    </tr>\n",
       "    <tr>\n",
       "      <th>Armenia,France,Germany,Italy,Romania,Russia</th>\n",
       "      <td>NaN</td>\n",
       "      <td>25.000000</td>\n",
       "      <td>49.000000</td>\n",
       "      <td>8.700000</td>\n",
       "    </tr>\n",
       "    <tr>\n",
       "      <th>Aruba</th>\n",
       "      <td>NaN</td>\n",
       "      <td>70.000000</td>\n",
       "      <td>17.300000</td>\n",
       "      <td>8.000000</td>\n",
       "    </tr>\n",
       "    <tr>\n",
       "      <th>Australia</th>\n",
       "      <td>NaN</td>\n",
       "      <td>24.790404</td>\n",
       "      <td>11.042337</td>\n",
       "      <td>6.856724</td>\n",
       "    </tr>\n",
       "    <tr>\n",
       "      <th>Australia,Belgium,France,Switzerland</th>\n",
       "      <td>NaN</td>\n",
       "      <td>24.100000</td>\n",
       "      <td>14.000000</td>\n",
       "      <td>10.800000</td>\n",
       "    </tr>\n",
       "    <tr>\n",
       "      <th>Australia,Brazil,Canada,Denmark,Finland,France,Hong Kong,Ireland,Italy,Netherlands,Norway,Portugal,Spain,Sweden,United Kingdom</th>\n",
       "      <td>NaN</td>\n",
       "      <td>NaN</td>\n",
       "      <td>NaN</td>\n",
       "      <td>NaN</td>\n",
       "    </tr>\n",
       "    <tr>\n",
       "      <th>...</th>\n",
       "      <td>...</td>\n",
       "      <td>...</td>\n",
       "      <td>...</td>\n",
       "      <td>...</td>\n",
       "    </tr>\n",
       "    <tr>\n",
       "      <th>Switzerland,fr:Nederland</th>\n",
       "      <td>NaN</td>\n",
       "      <td>60.000000</td>\n",
       "      <td>27.800000</td>\n",
       "      <td>7.000000</td>\n",
       "    </tr>\n",
       "    <tr>\n",
       "      <th>Taiwan</th>\n",
       "      <td>NaN</td>\n",
       "      <td>23.666667</td>\n",
       "      <td>3.900000</td>\n",
       "      <td>1.672222</td>\n",
       "    </tr>\n",
       "    <tr>\n",
       "      <th>Tanzania</th>\n",
       "      <td>NaN</td>\n",
       "      <td>NaN</td>\n",
       "      <td>NaN</td>\n",
       "      <td>NaN</td>\n",
       "    </tr>\n",
       "    <tr>\n",
       "      <th>Thailand</th>\n",
       "      <td>NaN</td>\n",
       "      <td>12.491176</td>\n",
       "      <td>4.384118</td>\n",
       "      <td>3.842188</td>\n",
       "    </tr>\n",
       "    <tr>\n",
       "      <th>Togo</th>\n",
       "      <td>NaN</td>\n",
       "      <td>NaN</td>\n",
       "      <td>NaN</td>\n",
       "      <td>NaN</td>\n",
       "    </tr>\n",
       "    <tr>\n",
       "      <th>Tunisia</th>\n",
       "      <td>0.0</td>\n",
       "      <td>46.214412</td>\n",
       "      <td>30.279429</td>\n",
       "      <td>10.701429</td>\n",
       "    </tr>\n",
       "    <tr>\n",
       "      <th>Turkey</th>\n",
       "      <td>NaN</td>\n",
       "      <td>45.154211</td>\n",
       "      <td>16.425789</td>\n",
       "      <td>6.412353</td>\n",
       "    </tr>\n",
       "    <tr>\n",
       "      <th>Ukraine</th>\n",
       "      <td>NaN</td>\n",
       "      <td>NaN</td>\n",
       "      <td>NaN</td>\n",
       "      <td>NaN</td>\n",
       "    </tr>\n",
       "    <tr>\n",
       "      <th>United Arab Emirates</th>\n",
       "      <td>NaN</td>\n",
       "      <td>38.280000</td>\n",
       "      <td>7.800000</td>\n",
       "      <td>5.525000</td>\n",
       "    </tr>\n",
       "    <tr>\n",
       "      <th>United Kingdom</th>\n",
       "      <td>NaN</td>\n",
       "      <td>25.859596</td>\n",
       "      <td>14.528419</td>\n",
       "      <td>7.638252</td>\n",
       "    </tr>\n",
       "    <tr>\n",
       "      <th>United Kingdom,Scotland</th>\n",
       "      <td>NaN</td>\n",
       "      <td>2.600000</td>\n",
       "      <td>0.600000</td>\n",
       "      <td>2.750000</td>\n",
       "    </tr>\n",
       "    <tr>\n",
       "      <th>United Kingdom,United States</th>\n",
       "      <td>125.0</td>\n",
       "      <td>37.083000</td>\n",
       "      <td>10.048900</td>\n",
       "      <td>6.386000</td>\n",
       "    </tr>\n",
       "    <tr>\n",
       "      <th>United States</th>\n",
       "      <td>12.0</td>\n",
       "      <td>33.276232</td>\n",
       "      <td>11.472262</td>\n",
       "      <td>5.780957</td>\n",
       "    </tr>\n",
       "    <tr>\n",
       "      <th>United States,Nederland</th>\n",
       "      <td>NaN</td>\n",
       "      <td>72.000000</td>\n",
       "      <td>15.000000</td>\n",
       "      <td>5.800000</td>\n",
       "    </tr>\n",
       "    <tr>\n",
       "      <th>United States,Other-日本,日本</th>\n",
       "      <td>NaN</td>\n",
       "      <td>19.000000</td>\n",
       "      <td>0.000000</td>\n",
       "      <td>0.000000</td>\n",
       "    </tr>\n",
       "    <tr>\n",
       "      <th>United States,Virgin Islands of the United States</th>\n",
       "      <td>NaN</td>\n",
       "      <td>12.300000</td>\n",
       "      <td>0.000000</td>\n",
       "      <td>0.000000</td>\n",
       "    </tr>\n",
       "    <tr>\n",
       "      <th>Venezuela</th>\n",
       "      <td>NaN</td>\n",
       "      <td>19.000000</td>\n",
       "      <td>0.000000</td>\n",
       "      <td>6.000000</td>\n",
       "    </tr>\n",
       "    <tr>\n",
       "      <th>Vietnam</th>\n",
       "      <td>NaN</td>\n",
       "      <td>NaN</td>\n",
       "      <td>NaN</td>\n",
       "      <td>NaN</td>\n",
       "    </tr>\n",
       "    <tr>\n",
       "      <th>World</th>\n",
       "      <td>NaN</td>\n",
       "      <td>71.000000</td>\n",
       "      <td>0.100000</td>\n",
       "      <td>0.000000</td>\n",
       "    </tr>\n",
       "    <tr>\n",
       "      <th>en:dairies</th>\n",
       "      <td>NaN</td>\n",
       "      <td>NaN</td>\n",
       "      <td>NaN</td>\n",
       "      <td>0.144417</td>\n",
       "    </tr>\n",
       "    <tr>\n",
       "      <th>en:fresh-foods</th>\n",
       "      <td>NaN</td>\n",
       "      <td>NaN</td>\n",
       "      <td>NaN</td>\n",
       "      <td>0.148429</td>\n",
       "    </tr>\n",
       "    <tr>\n",
       "      <th>fr:Demonte-italie</th>\n",
       "      <td>NaN</td>\n",
       "      <td>15.800000</td>\n",
       "      <td>3.300000</td>\n",
       "      <td>3.300000</td>\n",
       "    </tr>\n",
       "    <tr>\n",
       "      <th>fr:Quebec</th>\n",
       "      <td>NaN</td>\n",
       "      <td>45.154545</td>\n",
       "      <td>8.239091</td>\n",
       "      <td>2.469909</td>\n",
       "    </tr>\n",
       "    <tr>\n",
       "      <th>السعودية</th>\n",
       "      <td>NaN</td>\n",
       "      <td>31.450000</td>\n",
       "      <td>13.365625</td>\n",
       "      <td>3.981250</td>\n",
       "    </tr>\n",
       "    <tr>\n",
       "      <th>سلطنة-عمان</th>\n",
       "      <td>NaN</td>\n",
       "      <td>8.650000</td>\n",
       "      <td>1.835000</td>\n",
       "      <td>2.000000</td>\n",
       "    </tr>\n",
       "    <tr>\n",
       "      <th>भारत</th>\n",
       "      <td>NaN</td>\n",
       "      <td>10.800000</td>\n",
       "      <td>0.000000</td>\n",
       "      <td>0.600000</td>\n",
       "    </tr>\n",
       "    <tr>\n",
       "      <th>ព្រះរាជាណាចក្រកម្ពុជា</th>\n",
       "      <td>NaN</td>\n",
       "      <td>65.800000</td>\n",
       "      <td>0.000000</td>\n",
       "      <td>12.700000</td>\n",
       "    </tr>\n",
       "    <tr>\n",
       "      <th>中华人民共和国</th>\n",
       "      <td>12.0</td>\n",
       "      <td>12.000000</td>\n",
       "      <td>12.000000</td>\n",
       "      <td>12.000000</td>\n",
       "    </tr>\n",
       "    <tr>\n",
       "      <th>日本</th>\n",
       "      <td>NaN</td>\n",
       "      <td>NaN</td>\n",
       "      <td>NaN</td>\n",
       "      <td>NaN</td>\n",
       "    </tr>\n",
       "    <tr>\n",
       "      <th>香港</th>\n",
       "      <td>NaN</td>\n",
       "      <td>13.600000</td>\n",
       "      <td>0.000000</td>\n",
       "      <td>0.000000</td>\n",
       "    </tr>\n",
       "  </tbody>\n",
       "</table>\n",
       "<p>664 rows × 4 columns</p>\n",
       "</div>"
      ],
      "text/plain": [
       "                                                    carbon-footprint_100g  \\\n",
       "countries_en                                                                \n",
       "Albania                                                               NaN   \n",
       "Albania,Denmark,Italy                                                 NaN   \n",
       "Albania,France                                                        NaN   \n",
       "Albania,Italy                                                         NaN   \n",
       "Algeria                                                               NaN   \n",
       "Algeria,Australia,Bahrain,Egypt,Iraq,Jordan,Kuw...                    NaN   \n",
       "Algeria,Belgium,Brazil,Cameroon,Canada,France,G...                    NaN   \n",
       "Algeria,Belgium,Canada,France,Germany,Italy,Mal...                    NaN   \n",
       "Algeria,Belgium,Canada,France,Morocco,Switzerland                     NaN   \n",
       "Algeria,Belgium,Egypt,France,Morocco,Qatar,Swit...                    NaN   \n",
       "Algeria,Belgium,France,Germany,Guadeloupe,Italy...                    NaN   \n",
       "Algeria,Belgium,France,Poland,Portugal                                NaN   \n",
       "Algeria,Cameroon,Morocco                                              NaN   \n",
       "Algeria,France                                                        NaN   \n",
       "Algeria,Switzerland                                                   NaN   \n",
       "Andorra                                                               NaN   \n",
       "Andorra,France                                                        NaN   \n",
       "Andorra,Spain                                                         NaN   \n",
       "Angola                                                                NaN   \n",
       "Argentina                                                             NaN   \n",
       "Argentina,Australia,Belgium,Canada,Colombia,Fra...                    NaN   \n",
       "Argentina,Costa Rica,France,Germany,Italy,Mexic...                    NaN   \n",
       "Argentina,France                                                      NaN   \n",
       "Argentina,France,Switzerland                                          NaN   \n",
       "Armenia                                                               NaN   \n",
       "Armenia,France,Germany,Italy,Romania,Russia                           NaN   \n",
       "Aruba                                                                 NaN   \n",
       "Australia                                                             NaN   \n",
       "Australia,Belgium,France,Switzerland                                  NaN   \n",
       "Australia,Brazil,Canada,Denmark,Finland,France,...                    NaN   \n",
       "...                                                                   ...   \n",
       "Switzerland,fr:Nederland                                              NaN   \n",
       "Taiwan                                                                NaN   \n",
       "Tanzania                                                              NaN   \n",
       "Thailand                                                              NaN   \n",
       "Togo                                                                  NaN   \n",
       "Tunisia                                                               0.0   \n",
       "Turkey                                                                NaN   \n",
       "Ukraine                                                               NaN   \n",
       "United Arab Emirates                                                  NaN   \n",
       "United Kingdom                                                        NaN   \n",
       "United Kingdom,Scotland                                               NaN   \n",
       "United Kingdom,United States                                        125.0   \n",
       "United States                                                        12.0   \n",
       "United States,Nederland                                               NaN   \n",
       "United States,Other-日本,日本                                             NaN   \n",
       "United States,Virgin Islands of the United States                     NaN   \n",
       "Venezuela                                                             NaN   \n",
       "Vietnam                                                               NaN   \n",
       "World                                                                 NaN   \n",
       "en:dairies                                                            NaN   \n",
       "en:fresh-foods                                                        NaN   \n",
       "fr:Demonte-italie                                                     NaN   \n",
       "fr:Quebec                                                             NaN   \n",
       "السعودية                                                              NaN   \n",
       "سلطنة-عمان                                                            NaN   \n",
       "भारत                                                                  NaN   \n",
       "ព្រះរាជាណាចក្រកម្ពុជា                                                 NaN   \n",
       "中华人民共和国                                                              12.0   \n",
       "日本                                                                    NaN   \n",
       "香港                                                                    NaN   \n",
       "\n",
       "                                                    carbohydrates_100g  \\\n",
       "countries_en                                                             \n",
       "Albania                                                      63.000000   \n",
       "Albania,Denmark,Italy                                        15.300000   \n",
       "Albania,France                                               66.000000   \n",
       "Albania,Italy                                                42.087500   \n",
       "Algeria                                                      42.933333   \n",
       "Algeria,Australia,Bahrain,Egypt,Iraq,Jordan,Kuw...           57.000000   \n",
       "Algeria,Belgium,Brazil,Cameroon,Canada,France,G...           10.600000   \n",
       "Algeria,Belgium,Canada,France,Germany,Italy,Mal...           57.600000   \n",
       "Algeria,Belgium,Canada,France,Morocco,Switzerland             4.800000   \n",
       "Algeria,Belgium,Egypt,France,Morocco,Qatar,Swit...           61.700000   \n",
       "Algeria,Belgium,France,Germany,Guadeloupe,Italy...            0.000000   \n",
       "Algeria,Belgium,France,Poland,Portugal                       57.700000   \n",
       "Algeria,Cameroon,Morocco                                     53.000000   \n",
       "Algeria,France                                               39.380000   \n",
       "Algeria,Switzerland                                          49.000000   \n",
       "Andorra                                                      31.066667   \n",
       "Andorra,France                                               50.500000   \n",
       "Andorra,Spain                                                15.700000   \n",
       "Angola                                                             NaN   \n",
       "Argentina                                                    38.633000   \n",
       "Argentina,Australia,Belgium,Canada,Colombia,Fra...           57.600000   \n",
       "Argentina,Costa Rica,France,Germany,Italy,Mexic...                 NaN   \n",
       "Argentina,France                                                   NaN   \n",
       "Argentina,France,Switzerland                                  4.500000   \n",
       "Armenia                                                            NaN   \n",
       "Armenia,France,Germany,Italy,Romania,Russia                  25.000000   \n",
       "Aruba                                                        70.000000   \n",
       "Australia                                                    24.790404   \n",
       "Australia,Belgium,France,Switzerland                         24.100000   \n",
       "Australia,Brazil,Canada,Denmark,Finland,France,...                 NaN   \n",
       "...                                                                ...   \n",
       "Switzerland,fr:Nederland                                     60.000000   \n",
       "Taiwan                                                       23.666667   \n",
       "Tanzania                                                           NaN   \n",
       "Thailand                                                     12.491176   \n",
       "Togo                                                               NaN   \n",
       "Tunisia                                                      46.214412   \n",
       "Turkey                                                       45.154211   \n",
       "Ukraine                                                            NaN   \n",
       "United Arab Emirates                                         38.280000   \n",
       "United Kingdom                                               25.859596   \n",
       "United Kingdom,Scotland                                       2.600000   \n",
       "United Kingdom,United States                                 37.083000   \n",
       "United States                                                33.276232   \n",
       "United States,Nederland                                      72.000000   \n",
       "United States,Other-日本,日本                                    19.000000   \n",
       "United States,Virgin Islands of the United States            12.300000   \n",
       "Venezuela                                                    19.000000   \n",
       "Vietnam                                                            NaN   \n",
       "World                                                        71.000000   \n",
       "en:dairies                                                         NaN   \n",
       "en:fresh-foods                                                     NaN   \n",
       "fr:Demonte-italie                                            15.800000   \n",
       "fr:Quebec                                                    45.154545   \n",
       "السعودية                                                     31.450000   \n",
       "سلطنة-عمان                                                    8.650000   \n",
       "भारत                                                         10.800000   \n",
       "ព្រះរាជាណាចក្រកម្ពុជា                                        65.800000   \n",
       "中华人民共和国                                                      12.000000   \n",
       "日本                                                                 NaN   \n",
       "香港                                                           13.600000   \n",
       "\n",
       "                                                     fat_100g  proteins_100g  \n",
       "countries_en                                                                  \n",
       "Albania                                             15.000000      14.000000  \n",
       "Albania,Denmark,Italy                                0.800000       7.500000  \n",
       "Albania,France                                      11.000000       7.500000  \n",
       "Albania,Italy                                        7.600000      10.787500  \n",
       "Algeria                                             15.833333       6.100000  \n",
       "Algeria,Australia,Bahrain,Egypt,Iraq,Jordan,Kuw...  27.100000       9.200000  \n",
       "Algeria,Belgium,Brazil,Cameroon,Canada,France,G...   0.000000       0.000000  \n",
       "Algeria,Belgium,Canada,France,Germany,Italy,Mal...  31.600000       6.000000  \n",
       "Algeria,Belgium,Canada,France,Morocco,Switzerland    1.600000       3.200000  \n",
       "Algeria,Belgium,Egypt,France,Morocco,Qatar,Swit...  24.300000       8.100000  \n",
       "Algeria,Belgium,France,Germany,Guadeloupe,Italy...   0.000000       0.000000  \n",
       "Algeria,Belgium,France,Poland,Portugal               6.900000      12.900000  \n",
       "Algeria,Cameroon,Morocco                            32.000000       6.900000  \n",
       "Algeria,France                                      17.802000       6.000000  \n",
       "Algeria,Switzerland                                 36.000000       8.000000  \n",
       "Andorra                                              3.820000      12.930000  \n",
       "Andorra,France                                      30.000000       6.000000  \n",
       "Andorra,Spain                                        3.400000       3.000000  \n",
       "Angola                                                    NaN            NaN  \n",
       "Argentina                                            7.300000       3.067778  \n",
       "Argentina,Australia,Belgium,Canada,Colombia,Fra...  31.600000       6.000000  \n",
       "Argentina,Costa Rica,France,Germany,Italy,Mexic...        NaN            NaN  \n",
       "Argentina,France                                          NaN            NaN  \n",
       "Argentina,France,Switzerland                         0.000000       0.000000  \n",
       "Armenia                                                   NaN            NaN  \n",
       "Armenia,France,Germany,Italy,Romania,Russia         49.000000       8.700000  \n",
       "Aruba                                               17.300000       8.000000  \n",
       "Australia                                           11.042337       6.856724  \n",
       "Australia,Belgium,France,Switzerland                14.000000      10.800000  \n",
       "Australia,Brazil,Canada,Denmark,Finland,France,...        NaN            NaN  \n",
       "...                                                       ...            ...  \n",
       "Switzerland,fr:Nederland                            27.800000       7.000000  \n",
       "Taiwan                                               3.900000       1.672222  \n",
       "Tanzania                                                  NaN            NaN  \n",
       "Thailand                                             4.384118       3.842188  \n",
       "Togo                                                      NaN            NaN  \n",
       "Tunisia                                             30.279429      10.701429  \n",
       "Turkey                                              16.425789       6.412353  \n",
       "Ukraine                                                   NaN            NaN  \n",
       "United Arab Emirates                                 7.800000       5.525000  \n",
       "United Kingdom                                      14.528419       7.638252  \n",
       "United Kingdom,Scotland                              0.600000       2.750000  \n",
       "United Kingdom,United States                        10.048900       6.386000  \n",
       "United States                                       11.472262       5.780957  \n",
       "United States,Nederland                             15.000000       5.800000  \n",
       "United States,Other-日本,日本                            0.000000       0.000000  \n",
       "United States,Virgin Islands of the United States    0.000000       0.000000  \n",
       "Venezuela                                            0.000000       6.000000  \n",
       "Vietnam                                                   NaN            NaN  \n",
       "World                                                0.100000       0.000000  \n",
       "en:dairies                                                NaN       0.144417  \n",
       "en:fresh-foods                                            NaN       0.148429  \n",
       "fr:Demonte-italie                                    3.300000       3.300000  \n",
       "fr:Quebec                                            8.239091       2.469909  \n",
       "السعودية                                            13.365625       3.981250  \n",
       "سلطنة-عمان                                           1.835000       2.000000  \n",
       "भारत                                                 0.000000       0.600000  \n",
       "ព្រះរាជាណាចក្រកម្ពុជា                                0.000000      12.700000  \n",
       "中华人民共和国                                             12.000000      12.000000  \n",
       "日本                                                        NaN            NaN  \n",
       "香港                                                   0.000000       0.000000  \n",
       "\n",
       "[664 rows x 4 columns]"
      ]
     },
     "execution_count": 290,
     "metadata": {},
     "output_type": "execute_result"
    }
   ],
   "source": [
    "grouped.mean()"
   ]
  },
  {
   "cell_type": "markdown",
   "metadata": {},
   "source": [
    "### 2. Which foods have the highest carbon footprint? Which countries manufacture food, which has the highest carbon footprint? Where is most of the food manufactured?\n",
    "-------"
   ]
  },
  {
   "cell_type": "code",
   "execution_count": 291,
   "metadata": {
    "collapsed": false
   },
   "outputs": [],
   "source": [
    "filt = ~dt['carbon-footprint_100g'].isnull()"
   ]
  },
  {
   "cell_type": "code",
   "execution_count": 292,
   "metadata": {
    "collapsed": false
   },
   "outputs": [
    {
     "data": {
      "text/plain": [
       "product_name               1\n",
       "categories_en              4\n",
       "packaging                 11\n",
       "countries_en               1\n",
       "origins                  131\n",
       "manufacturing_places      93\n",
       "carbon-footprint_100g      0\n",
       "carbohydrates_100g        33\n",
       "fat_100g                  32\n",
       "proteins_100g             30\n",
       "dtype: int64"
      ]
     },
     "execution_count": 292,
     "metadata": {},
     "output_type": "execute_result"
    }
   ],
   "source": [
    "#how many countries among those are still nan\n",
    "dt[filt].isnull().sum()"
   ]
  },
  {
   "cell_type": "markdown",
   "metadata": {},
   "source": [
    "__foods with highest carbon footprint__"
   ]
  },
  {
   "cell_type": "code",
   "execution_count": 293,
   "metadata": {
    "collapsed": false
   },
   "outputs": [],
   "source": [
    "foods = dt[filt].groupby(['categories_en'])"
   ]
  },
  {
   "cell_type": "code",
   "execution_count": 294,
   "metadata": {
    "collapsed": false
   },
   "outputs": [],
   "source": [
    "dt2 = foods['carbon-footprint_100g'].apply(max).sort_values(ascending=False)"
   ]
  },
  {
   "cell_type": "code",
   "execution_count": 295,
   "metadata": {
    "collapsed": false
   },
   "outputs": [
    {
     "data": {
      "text/plain": [
       "<matplotlib.axes._subplots.AxesSubplot at 0x1a8ff2f278>"
      ]
     },
     "execution_count": 295,
     "metadata": {},
     "output_type": "execute_result"
    },
    {
     "data": {
      "image/png": "[encoded data removed]",
      "text/plain": [
       "<matplotlib.figure.Figure at 0x180f43780>"
      ]
     },
     "metadata": {},
     "output_type": "display_data"
    }
   ],
   "source": [
    "%matplotlib inline\n",
    "dt2[:6].plot(kind='barh')"
   ]
  },
  {
   "cell_type": "code",
   "execution_count": 296,
   "metadata": {
    "collapsed": false
   },
   "outputs": [
    {
     "data": {
      "text/plain": [
       "countries_en\n",
       "Belgium,France                    1\n",
       "Belgium,France,Switzerland        1\n",
       "Brazil                            1\n",
       "France                          176\n",
       "France,Germany,Switzerland        1\n",
       "France,Guadeloupe                 1\n",
       "France,Hong Kong                  1\n",
       "France,Switzerland                3\n",
       "France,fr:Puyricard               1\n",
       "French Guiana                     1\n",
       "Italy                             2\n",
       "Spain                             8\n",
       "Sweden                            1\n",
       "Switzerland                      74\n",
       "Tunisia                           1\n",
       "United Kingdom,United States      1\n",
       "United States                     1\n",
       "World                             1\n",
       "中华人民共和国                           1\n",
       "dtype: int64"
      ]
     },
     "execution_count": 296,
     "metadata": {},
     "output_type": "execute_result"
    }
   ],
   "source": [
    "#Which countries manufacture food, which has the highest carbon footprint\n",
    "dt[filt].groupby(['countries_en']).size()"
   ]
  },
  {
   "cell_type": "markdown",
   "metadata": {},
   "source": [
    "As seen above, there are too few records from most countries to answer that question in an unbiased fashion. I can compare mean carbon footprint of France and Switzerland."
   ]
  },
  {
   "cell_type": "code",
   "execution_count": 297,
   "metadata": {
    "collapsed": false
   },
   "outputs": [
    {
     "data": {
      "text/plain": [
       "False"
      ]
     },
     "execution_count": 297,
     "metadata": {},
     "output_type": "execute_result"
    }
   ],
   "source": [
    "FR = dt[filt]['countries_en'] == 'France'\n",
    "CH = dt[filt]['countries_en'] == 'Switzerland'\n",
    "\n",
    "dt[filt&FR]['carbon-footprint_100g'].mean() > dt[filt&CH]['carbon-footprint_100g'].mean()"
   ]
  },
  {
   "cell_type": "markdown",
   "metadata": {},
   "source": [
    "Mean carbon footprint of Swiss products > of French products in the dataset."
   ]
  },
  {
   "cell_type": "markdown",
   "metadata": {},
   "source": [
    "__Where is most of the food manufactured?__"
   ]
  },
  {
   "cell_type": "code",
   "execution_count": 298,
   "metadata": {
    "collapsed": false
   },
   "outputs": [
    {
     "data": {
      "text/plain": [
       "0.86671552149878128"
      ]
     },
     "execution_count": 298,
     "metadata": {},
     "output_type": "execute_result"
    }
   ],
   "source": [
    "dt['manufacturing_places'].isnull().sum()/len(dt)\n"
   ]
  },
  {
   "cell_type": "markdown",
   "metadata": {},
   "source": [
    "87% of the records do not report manufacturing places."
   ]
  },
  {
   "cell_type": "code",
   "execution_count": 299,
   "metadata": {
    "collapsed": true
   },
   "outputs": [],
   "source": [
    "filt = ~dt['manufacturing_places'].isnull()"
   ]
  },
  {
   "cell_type": "code",
   "execution_count": 300,
   "metadata": {
    "collapsed": false
   },
   "outputs": [],
   "source": [
    "x = dt[filt]['countries_en'].str.cat(sep=', ')"
   ]
  },
  {
   "cell_type": "code",
   "execution_count": 301,
   "metadata": {
    "collapsed": false
   },
   "outputs": [],
   "source": [
    "#each product may be manufactured in many places, hence I save all records for counting\n",
    "countries = x.split(',')"
   ]
  },
  {
   "cell_type": "code",
   "execution_count": 302,
   "metadata": {
    "collapsed": false
   },
   "outputs": [],
   "source": [
    "import numpy as np\n",
    "countries = np.array((countries))"
   ]
  },
  {
   "cell_type": "code",
   "execution_count": 303,
   "metadata": {
    "collapsed": false
   },
   "outputs": [],
   "source": [
    "#counting procedure for countries\n",
    "countries = pd.DataFrame(countries)"
   ]
  },
  {
   "cell_type": "code",
   "execution_count": 304,
   "metadata": {
    "collapsed": false
   },
   "outputs": [],
   "source": [
    "countries['count'] = 1"
   ]
  },
  {
   "cell_type": "code",
   "execution_count": 305,
   "metadata": {
    "collapsed": false
   },
   "outputs": [
    {
     "data": {
      "text/html": [
       "<div>\n",
       "<style>\n",
       "    .dataframe thead tr:only-child th {\n",
       "        text-align: right;\n",
       "    }\n",
       "\n",
       "    .dataframe thead th {\n",
       "        text-align: left;\n",
       "    }\n",
       "\n",
       "    .dataframe tbody tr th {\n",
       "        vertical-align: top;\n",
       "    }\n",
       "</style>\n",
       "<table border=\"1\" class=\"dataframe\">\n",
       "  <thead>\n",
       "    <tr style=\"text-align: right;\">\n",
       "      <th></th>\n",
       "      <th>0</th>\n",
       "      <th>count</th>\n",
       "    </tr>\n",
       "  </thead>\n",
       "  <tbody>\n",
       "    <tr>\n",
       "      <th>0</th>\n",
       "      <td>Canada</td>\n",
       "      <td>1</td>\n",
       "    </tr>\n",
       "    <tr>\n",
       "      <th>1</th>\n",
       "      <td>Canada</td>\n",
       "      <td>1</td>\n",
       "    </tr>\n",
       "    <tr>\n",
       "      <th>2</th>\n",
       "      <td>United Kingdom</td>\n",
       "      <td>1</td>\n",
       "    </tr>\n",
       "    <tr>\n",
       "      <th>3</th>\n",
       "      <td>Canada</td>\n",
       "      <td>1</td>\n",
       "    </tr>\n",
       "    <tr>\n",
       "      <th>4</th>\n",
       "      <td>Canada</td>\n",
       "      <td>1</td>\n",
       "    </tr>\n",
       "  </tbody>\n",
       "</table>\n",
       "</div>"
      ],
      "text/plain": [
       "                 0  count\n",
       "0           Canada      1\n",
       "1           Canada      1\n",
       "2   United Kingdom      1\n",
       "3           Canada      1\n",
       "4           Canada      1"
      ]
     },
     "execution_count": 305,
     "metadata": {},
     "output_type": "execute_result"
    }
   ],
   "source": [
    "countries.head()"
   ]
  },
  {
   "cell_type": "code",
   "execution_count": 306,
   "metadata": {
    "collapsed": false
   },
   "outputs": [],
   "source": [
    "country = countries.groupby(0).sum().sort_values(\"count\", ascending = False)"
   ]
  },
  {
   "cell_type": "code",
   "execution_count": 307,
   "metadata": {
    "collapsed": false
   },
   "outputs": [
    {
     "data": {
      "image/png": "[encoded data removed]",
      "text/plain": [
       "<matplotlib.figure.Figure at 0x1451c57f0>"
      ]
     },
     "metadata": {},
     "output_type": "display_data"
    }
   ],
   "source": [
    "import matplotlib.pyplot as plt\n",
    "country[:6].plot(kind='barh', title=\"Top 6 food manufacturers\", color=\"green\")\n",
    "plt.xlabel(\"Number\")\n",
    "plt.ylabel(\"Country\")\n",
    "plt.legend([])\n",
    "plt.show()"
   ]
  },
  {
   "cell_type": "markdown",
   "metadata": {},
   "source": [
    "### 3.  How is the world's food packaged? Which countries package most of their food in plastic? What is the most common packaging in Switzerland?\n",
    "--------------"
   ]
  },
  {
   "cell_type": "code",
   "execution_count": 308,
   "metadata": {
    "collapsed": false
   },
   "outputs": [
    {
     "data": {
      "text/plain": [
       "0.7473225345268758"
      ]
     },
     "execution_count": 308,
     "metadata": {},
     "output_type": "execute_result"
    }
   ],
   "source": [
    "#part of the data that is null\n",
    "data['packaging'].isnull().sum()/len(data['packaging'])"
   ]
  },
  {
   "cell_type": "code",
   "execution_count": 309,
   "metadata": {
    "collapsed": false
   },
   "outputs": [],
   "source": [
    "dtx = data['packaging'].dropna()"
   ]
  },
  {
   "cell_type": "code",
   "execution_count": 310,
   "metadata": {
    "collapsed": false
   },
   "outputs": [],
   "source": [
    "x = dtx.str.cat(sep=', ')"
   ]
  },
  {
   "cell_type": "code",
   "execution_count": 311,
   "metadata": {
    "collapsed": true
   },
   "outputs": [],
   "source": [
    "pack = x.split(',')"
   ]
  },
  {
   "cell_type": "code",
   "execution_count": 312,
   "metadata": {
    "collapsed": true
   },
   "outputs": [],
   "source": [
    "pack = np.array(pack)"
   ]
  },
  {
   "cell_type": "code",
   "execution_count": 313,
   "metadata": {
    "collapsed": false
   },
   "outputs": [],
   "source": [
    "pack = pd.DataFrame(pack)"
   ]
  },
  {
   "cell_type": "code",
   "execution_count": 314,
   "metadata": {
    "collapsed": true
   },
   "outputs": [],
   "source": [
    "pack['count'] = 1"
   ]
  },
  {
   "cell_type": "code",
   "execution_count": 315,
   "metadata": {
    "collapsed": false
   },
   "outputs": [
    {
     "data": {
      "text/html": [
       "<div>\n",
       "<style>\n",
       "    .dataframe thead tr:only-child th {\n",
       "        text-align: right;\n",
       "    }\n",
       "\n",
       "    .dataframe thead th {\n",
       "        text-align: left;\n",
       "    }\n",
       "\n",
       "    .dataframe tbody tr th {\n",
       "        vertical-align: top;\n",
       "    }\n",
       "</style>\n",
       "<table border=\"1\" class=\"dataframe\">\n",
       "  <thead>\n",
       "    <tr style=\"text-align: right;\">\n",
       "      <th></th>\n",
       "      <th>0</th>\n",
       "      <th>count</th>\n",
       "    </tr>\n",
       "  </thead>\n",
       "  <tbody>\n",
       "    <tr>\n",
       "      <th>0</th>\n",
       "      <td>plastique</td>\n",
       "      <td>1</td>\n",
       "    </tr>\n",
       "    <tr>\n",
       "      <th>1</th>\n",
       "      <td>Frais</td>\n",
       "      <td>1</td>\n",
       "    </tr>\n",
       "    <tr>\n",
       "      <th>2</th>\n",
       "      <td>Frais</td>\n",
       "      <td>1</td>\n",
       "    </tr>\n",
       "    <tr>\n",
       "      <th>3</th>\n",
       "      <td>Paper</td>\n",
       "      <td>1</td>\n",
       "    </tr>\n",
       "    <tr>\n",
       "      <th>4</th>\n",
       "      <td>plastic film</td>\n",
       "      <td>1</td>\n",
       "    </tr>\n",
       "  </tbody>\n",
       "</table>\n",
       "</div>"
      ],
      "text/plain": [
       "              0  count\n",
       "0     plastique      1\n",
       "1         Frais      1\n",
       "2         Frais      1\n",
       "3         Paper      1\n",
       "4  plastic film      1"
      ]
     },
     "execution_count": 315,
     "metadata": {},
     "output_type": "execute_result"
    }
   ],
   "source": [
    "pack.head()"
   ]
  },
  {
   "cell_type": "code",
   "execution_count": 316,
   "metadata": {
    "collapsed": false
   },
   "outputs": [
    {
     "data": {
      "text/plain": [
       "Index(['Plastique', 'plastique', ' Carton', 'Carton', ' Sachet', 'Verre',\n",
       "       ' Frais', ' Plastique', ' Bouteille', ' Barquette', 'Frais', 'Métal',\n",
       "       ' Bocal', ' carton', ' Conserve', ' Boîte',\n",
       "       'Sous atmosphère protectrice', ' sachet', 'carton', ' Kunststoff'],\n",
       "      dtype='object', name=0)"
      ]
     },
     "execution_count": 316,
     "metadata": {},
     "output_type": "execute_result"
    }
   ],
   "source": [
    "pack.groupby(0).sum().sort_values('count', ascending=False).index[:20]"
   ]
  },
  {
   "cell_type": "code",
   "execution_count": 317,
   "metadata": {
    "collapsed": false
   },
   "outputs": [],
   "source": [
    "#notice Kunststoff = Plastique=Plastique = Plastic; Carton=carton\n",
    "pack['common'] = pack[0].map({'plastique':'Plastic', 'Plastique':'Plastic', ' Kunststoff':'Plastic', \n",
    "            ' Carton': 'Carton', ' carton':'Carton', 'Métal': \"Metal\", 'metal': \"Metal\", \" Metal\": \"Metal\"})"
   ]
  },
  {
   "cell_type": "code",
   "execution_count": 318,
   "metadata": {
    "collapsed": false
   },
   "outputs": [],
   "source": [
    "most = pack.groupby('common').sum().sort_values('count', ascending=False).head()"
   ]
  },
  {
   "cell_type": "code",
   "execution_count": 319,
   "metadata": {
    "collapsed": false
   },
   "outputs": [
    {
     "data": {
      "text/plain": [
       "<matplotlib.legend.Legend at 0x1a9cdd5048>"
      ]
     },
     "execution_count": 319,
     "metadata": {},
     "output_type": "execute_result"
    },
    {
     "data": {
      "image/png": "[encoded data removed]",
      "text/plain": [
       "<matplotlib.figure.Figure at 0x1a9cdd5358>"
      ]
     },
     "metadata": {},
     "output_type": "display_data"
    }
   ],
   "source": [
    "most.plot(kind='bar', color='red', title='Most common packages')\n",
    "plt.xlabel(\" \")\n",
    "plt.ylabel(\"# of records\")\n",
    "plt.legend([])"
   ]
  },
  {
   "cell_type": "markdown",
   "metadata": {},
   "source": [
    "__Which countries package most of their food in plastic?__"
   ]
  },
  {
   "cell_type": "code",
   "execution_count": 320,
   "metadata": {
    "collapsed": false
   },
   "outputs": [],
   "source": [
    "filt = ~dt['packaging'].isnull()"
   ]
  },
  {
   "cell_type": "code",
   "execution_count": 321,
   "metadata": {
    "collapsed": false
   },
   "outputs": [
    {
     "data": {
      "text/plain": [
       "2118"
      ]
     },
     "execution_count": 321,
     "metadata": {},
     "output_type": "execute_result"
    }
   ],
   "source": [
    "(dt[filt]['packaging'] ==\"Plastique\").sum()"
   ]
  },
  {
   "cell_type": "code",
   "execution_count": 322,
   "metadata": {
    "collapsed": false
   },
   "outputs": [
    {
     "data": {
      "text/plain": [
       "947"
      ]
     },
     "execution_count": 322,
     "metadata": {},
     "output_type": "execute_result"
    }
   ],
   "source": [
    "(dt[filt]['packaging'] ==\"Plastic\").sum()"
   ]
  },
  {
   "cell_type": "code",
   "execution_count": 323,
   "metadata": {
    "collapsed": false
   },
   "outputs": [
    {
     "data": {
      "text/plain": [
       "246"
      ]
     },
     "execution_count": 323,
     "metadata": {},
     "output_type": "execute_result"
    }
   ],
   "source": [
    "(dt[filt]['packaging'] ==\"plastic\").sum()"
   ]
  },
  {
   "cell_type": "code",
   "execution_count": 324,
   "metadata": {
    "collapsed": false
   },
   "outputs": [
    {
     "data": {
      "text/plain": [
       "1397"
      ]
     },
     "execution_count": 324,
     "metadata": {},
     "output_type": "execute_result"
    }
   ],
   "source": [
    "(dt[filt]['packaging'] ==\"Kunststoff\").sum()"
   ]
  },
  {
   "cell_type": "code",
   "execution_count": 325,
   "metadata": {
    "collapsed": true
   },
   "outputs": [],
   "source": [
    "plastic = ((dt[filt]['packaging'] ==\"Plastique\") | (dt[filt]['packaging'] ==\"Plastc\") |\n",
    "           (dt[filt]['packaging'] ==\"plastic\") | (dt[filt]['packaging'] ==\"Kunststoff\"))"
   ]
  },
  {
   "cell_type": "code",
   "execution_count": 326,
   "metadata": {
    "collapsed": false
   },
   "outputs": [
    {
     "name": "stderr",
     "output_type": "stream",
     "text": [
      "//anaconda/envs/exts-ada/lib/python3.6/site-packages/ipykernel_launcher.py:1: SettingWithCopyWarning: \n",
      "A value is trying to be set on a copy of a slice from a DataFrame.\n",
      "Try using .loc[row_indexer,col_indexer] = value instead\n",
      "\n",
      "See the caveats in the documentation: http://pandas.pydata.org/pandas-docs/stable/indexing.html#indexing-view-versus-copy\n",
      "  \"\"\"Entry point for launching an IPython kernel.\n"
     ]
    }
   ],
   "source": [
    "dt['count'] = 1"
   ]
  },
  {
   "cell_type": "code",
   "execution_count": 327,
   "metadata": {
    "collapsed": false
   },
   "outputs": [],
   "source": [
    "plastic_lovers = dt[filt & plastic].groupby(\"countries_en\").sum().sort_values('count', ascending=False)['count'][:5]"
   ]
  },
  {
   "cell_type": "code",
   "execution_count": 328,
   "metadata": {
    "collapsed": false
   },
   "outputs": [
    {
     "data": {
      "text/plain": [
       "<matplotlib.text.Text at 0x14533de48>"
      ]
     },
     "execution_count": 328,
     "metadata": {},
     "output_type": "execute_result"
    },
    {
     "data": {
      "image/png": "[encoded data removed]",
      "text/plain": [
       "<matplotlib.figure.Figure at 0x1a9ce1b0b8>"
      ]
     },
     "metadata": {},
     "output_type": "display_data"
    }
   ],
   "source": [
    "plastic_lovers.plot(kind='barh', color='pink', title=\"Plastic lovers\")\n",
    "plt.xlabel(\"# of hits\")"
   ]
  },
  {
   "cell_type": "markdown",
   "metadata": {},
   "source": [
    "__What is the most common packaging in Switzerland?__"
   ]
  },
  {
   "cell_type": "code",
   "execution_count": 329,
   "metadata": {
    "collapsed": false
   },
   "outputs": [],
   "source": [
    "grouped = dt[filt].groupby(\"countries_en\")"
   ]
  },
  {
   "cell_type": "code",
   "execution_count": 330,
   "metadata": {
    "collapsed": false
   },
   "outputs": [],
   "source": [
    "CH = grouped.get_group(\"Switzerland\")"
   ]
  },
  {
   "cell_type": "code",
   "execution_count": 331,
   "metadata": {
    "collapsed": false
   },
   "outputs": [
    {
     "data": {
      "text/plain": [
       "packaging\n",
       "Carton                        75\n",
       "Plastique                     68\n",
       "Barquette plastique           55\n",
       "Frais,Plastique               53\n",
       "Sachet,Plastique              51\n",
       "packung                       36\n",
       "Sachet plastique              32\n",
       "Carton,barquette plastique    31\n",
       "plastique                     24\n",
       "Carton/plastique              23\n",
       "Name: count, dtype: int64"
      ]
     },
     "execution_count": 331,
     "metadata": {},
     "output_type": "execute_result"
    }
   ],
   "source": [
    "CH.groupby('packaging').sum().sort_values('count', ascending=False)['count'][:10]"
   ]
  },
  {
   "cell_type": "markdown",
   "metadata": {},
   "source": [
    "# C. Text data"
   ]
  },
  {
   "cell_type": "code",
   "execution_count": 332,
   "metadata": {
    "collapsed": false
   },
   "outputs": [],
   "source": [
    "ingredients = data['ingredients_text'].dropna()"
   ]
  },
  {
   "cell_type": "code",
   "execution_count": 333,
   "metadata": {
    "collapsed": true
   },
   "outputs": [],
   "source": [
    "x = ingredients.str.cat(sep=', ')\n",
    "ing = x.split(',')\n",
    "ing = pd.DataFrame(ing)"
   ]
  },
  {
   "cell_type": "code",
   "execution_count": 334,
   "metadata": {
    "collapsed": false
   },
   "outputs": [],
   "source": [
    "ing['count'] = 1"
   ]
  },
  {
   "cell_type": "code",
   "execution_count": 335,
   "metadata": {
    "collapsed": false
   },
   "outputs": [
    {
     "data": {
      "text/html": [
       "<div>\n",
       "<style>\n",
       "    .dataframe thead tr:only-child th {\n",
       "        text-align: right;\n",
       "    }\n",
       "\n",
       "    .dataframe thead th {\n",
       "        text-align: left;\n",
       "    }\n",
       "\n",
       "    .dataframe tbody tr th {\n",
       "        vertical-align: top;\n",
       "    }\n",
       "</style>\n",
       "<table border=\"1\" class=\"dataframe\">\n",
       "  <thead>\n",
       "    <tr style=\"text-align: right;\">\n",
       "      <th></th>\n",
       "      <th>0</th>\n",
       "      <th>count</th>\n",
       "    </tr>\n",
       "  </thead>\n",
       "  <tbody>\n",
       "    <tr>\n",
       "      <th>0</th>\n",
       "      <td>Bananas</td>\n",
       "      <td>1</td>\n",
       "    </tr>\n",
       "    <tr>\n",
       "      <th>1</th>\n",
       "      <td>vegetable oil (coconut oil</td>\n",
       "      <td>1</td>\n",
       "    </tr>\n",
       "    <tr>\n",
       "      <th>2</th>\n",
       "      <td>corn oil and/or palm oil) sugar</td>\n",
       "      <td>1</td>\n",
       "    </tr>\n",
       "    <tr>\n",
       "      <th>3</th>\n",
       "      <td>natural banana flavor.</td>\n",
       "      <td>1</td>\n",
       "    </tr>\n",
       "    <tr>\n",
       "      <th>4</th>\n",
       "      <td>Peanuts</td>\n",
       "      <td>1</td>\n",
       "    </tr>\n",
       "  </tbody>\n",
       "</table>\n",
       "</div>"
      ],
      "text/plain": [
       "                                  0  count\n",
       "0                           Bananas      1\n",
       "1        vegetable oil (coconut oil      1\n",
       "2   corn oil and/or palm oil) sugar      1\n",
       "3            natural banana flavor.      1\n",
       "4                           Peanuts      1"
      ]
     },
     "execution_count": 335,
     "metadata": {},
     "output_type": "execute_result"
    }
   ],
   "source": [
    "ing.head()"
   ]
  },
  {
   "cell_type": "code",
   "execution_count": 336,
   "metadata": {
    "collapsed": false
   },
   "outputs": [
    {
     "data": {
      "text/html": [
       "<div>\n",
       "<style>\n",
       "    .dataframe thead tr:only-child th {\n",
       "        text-align: right;\n",
       "    }\n",
       "\n",
       "    .dataframe thead th {\n",
       "        text-align: left;\n",
       "    }\n",
       "\n",
       "    .dataframe tbody tr th {\n",
       "        vertical-align: top;\n",
       "    }\n",
       "</style>\n",
       "<table border=\"1\" class=\"dataframe\">\n",
       "  <thead>\n",
       "    <tr style=\"text-align: right;\">\n",
       "      <th></th>\n",
       "      <th>count</th>\n",
       "    </tr>\n",
       "    <tr>\n",
       "      <th>0</th>\n",
       "      <th></th>\n",
       "    </tr>\n",
       "  </thead>\n",
       "  <tbody>\n",
       "    <tr>\n",
       "      <th>salt</th>\n",
       "      <td>82543</td>\n",
       "    </tr>\n",
       "    <tr>\n",
       "      <th>sugar</th>\n",
       "      <td>52261</td>\n",
       "    </tr>\n",
       "    <tr>\n",
       "      <th>water</th>\n",
       "      <td>48434</td>\n",
       "    </tr>\n",
       "    <tr>\n",
       "      <th>sel</th>\n",
       "      <td>39887</td>\n",
       "    </tr>\n",
       "    <tr>\n",
       "      <th>sucre</th>\n",
       "      <td>28386</td>\n",
       "    </tr>\n",
       "  </tbody>\n",
       "</table>\n",
       "</div>"
      ],
      "text/plain": [
       "        count\n",
       "0            \n",
       " salt   82543\n",
       " sugar  52261\n",
       " water  48434\n",
       " sel    39887\n",
       " sucre  28386"
      ]
     },
     "execution_count": 336,
     "metadata": {},
     "output_type": "execute_result"
    }
   ],
   "source": [
    "ing.groupby(0).sum().sort_values('count', ascending=False).head()"
   ]
  },
  {
   "cell_type": "markdown",
   "metadata": {},
   "source": [
    "-------> salt, sugar and water are the most common ingredients"
   ]
  },
  {
   "cell_type": "markdown",
   "metadata": {},
   "source": [
    "# C. Time-series analysis\n",
    "\n",
    "*created_datetime* and *last_modified_datetime*. \n",
    "\n",
    "First, you will analyze the mean time difference between these two values. And then, you will analyze the mean number of created items per month over the timeline of the data. You will finally choose an appropriate method to visualize these findings."
   ]
  },
  {
   "cell_type": "code",
   "execution_count": 337,
   "metadata": {
    "collapsed": false
   },
   "outputs": [],
   "source": [
    "df = pd.DataFrame(data['created_datetime'])"
   ]
  },
  {
   "cell_type": "code",
   "execution_count": 338,
   "metadata": {
    "collapsed": false
   },
   "outputs": [],
   "source": [
    "df['last_modified_datetime'] = data['last_modified_datetime']"
   ]
  },
  {
   "cell_type": "code",
   "execution_count": 339,
   "metadata": {
    "collapsed": false
   },
   "outputs": [
    {
     "data": {
      "text/html": [
       "<div>\n",
       "<style>\n",
       "    .dataframe thead tr:only-child th {\n",
       "        text-align: right;\n",
       "    }\n",
       "\n",
       "    .dataframe thead th {\n",
       "        text-align: left;\n",
       "    }\n",
       "\n",
       "    .dataframe tbody tr th {\n",
       "        vertical-align: top;\n",
       "    }\n",
       "</style>\n",
       "<table border=\"1\" class=\"dataframe\">\n",
       "  <thead>\n",
       "    <tr style=\"text-align: right;\">\n",
       "      <th></th>\n",
       "      <th>created_datetime</th>\n",
       "      <th>last_modified_datetime</th>\n",
       "    </tr>\n",
       "  </thead>\n",
       "  <tbody>\n",
       "    <tr>\n",
       "      <th>0</th>\n",
       "      <td>2016-09-17T09:17:46Z</td>\n",
       "      <td>2016-09-17T09:18:13Z</td>\n",
       "    </tr>\n",
       "    <tr>\n",
       "      <th>1</th>\n",
       "      <td>2017-03-09T14:32:37Z</td>\n",
       "      <td>2017-03-09T14:32:37Z</td>\n",
       "    </tr>\n",
       "    <tr>\n",
       "      <th>2</th>\n",
       "      <td>2017-03-09T14:32:37Z</td>\n",
       "      <td>2017-03-09T14:32:37Z</td>\n",
       "    </tr>\n",
       "    <tr>\n",
       "      <th>3</th>\n",
       "      <td>2017-03-09T10:35:31Z</td>\n",
       "      <td>2017-03-09T10:35:31Z</td>\n",
       "    </tr>\n",
       "    <tr>\n",
       "      <th>4</th>\n",
       "      <td>2017-03-09T10:34:13Z</td>\n",
       "      <td>2017-03-09T10:34:13Z</td>\n",
       "    </tr>\n",
       "  </tbody>\n",
       "</table>\n",
       "</div>"
      ],
      "text/plain": [
       "       created_datetime last_modified_datetime\n",
       "0  2016-09-17T09:17:46Z   2016-09-17T09:18:13Z\n",
       "1  2017-03-09T14:32:37Z   2017-03-09T14:32:37Z\n",
       "2  2017-03-09T14:32:37Z   2017-03-09T14:32:37Z\n",
       "3  2017-03-09T10:35:31Z   2017-03-09T10:35:31Z\n",
       "4  2017-03-09T10:34:13Z   2017-03-09T10:34:13Z"
      ]
     },
     "execution_count": 339,
     "metadata": {},
     "output_type": "execute_result"
    }
   ],
   "source": [
    "df.head()"
   ]
  },
  {
   "cell_type": "code",
   "execution_count": 340,
   "metadata": {
    "collapsed": false
   },
   "outputs": [
    {
     "name": "stdout",
     "output_type": "stream",
     "text": [
      "<class 'pandas.core.frame.DataFrame'>\n",
      "RangeIndex: 356027 entries, 0 to 356026\n",
      "Data columns (total 2 columns):\n",
      "created_datetime          356017 non-null object\n",
      "last_modified_datetime    356027 non-null object\n",
      "dtypes: object(2)\n",
      "memory usage: 5.4+ MB\n"
     ]
    }
   ],
   "source": [
    "df.info()"
   ]
  },
  {
   "cell_type": "code",
   "execution_count": 341,
   "metadata": {
    "collapsed": false
   },
   "outputs": [],
   "source": [
    "df = pd.DataFrame(data=df, dtype=str)"
   ]
  },
  {
   "cell_type": "code",
   "execution_count": 342,
   "metadata": {
    "collapsed": false
   },
   "outputs": [
    {
     "name": "stdout",
     "output_type": "stream",
     "text": [
      "<class 'pandas.core.frame.DataFrame'>\n",
      "RangeIndex: 356027 entries, 0 to 356026\n",
      "Data columns (total 2 columns):\n",
      "created_datetime          356027 non-null object\n",
      "last_modified_datetime    356027 non-null object\n",
      "dtypes: object(2)\n",
      "memory usage: 5.4+ MB\n"
     ]
    }
   ],
   "source": [
    "df.info()"
   ]
  },
  {
   "cell_type": "code",
   "execution_count": 343,
   "metadata": {
    "collapsed": false
   },
   "outputs": [
    {
     "data": {
      "text/html": [
       "<div>\n",
       "<style>\n",
       "    .dataframe thead tr:only-child th {\n",
       "        text-align: right;\n",
       "    }\n",
       "\n",
       "    .dataframe thead th {\n",
       "        text-align: left;\n",
       "    }\n",
       "\n",
       "    .dataframe tbody tr th {\n",
       "        vertical-align: top;\n",
       "    }\n",
       "</style>\n",
       "<table border=\"1\" class=\"dataframe\">\n",
       "  <thead>\n",
       "    <tr style=\"text-align: right;\">\n",
       "      <th></th>\n",
       "      <th>created_datetime</th>\n",
       "      <th>last_modified_datetime</th>\n",
       "    </tr>\n",
       "  </thead>\n",
       "  <tbody>\n",
       "    <tr>\n",
       "      <th>0</th>\n",
       "      <td>2016-09-17T09:17:46Z</td>\n",
       "      <td>2016-09-17T09:18:13Z</td>\n",
       "    </tr>\n",
       "    <tr>\n",
       "      <th>1</th>\n",
       "      <td>2017-03-09T14:32:37Z</td>\n",
       "      <td>2017-03-09T14:32:37Z</td>\n",
       "    </tr>\n",
       "    <tr>\n",
       "      <th>2</th>\n",
       "      <td>2017-03-09T14:32:37Z</td>\n",
       "      <td>2017-03-09T14:32:37Z</td>\n",
       "    </tr>\n",
       "    <tr>\n",
       "      <th>3</th>\n",
       "      <td>2017-03-09T10:35:31Z</td>\n",
       "      <td>2017-03-09T10:35:31Z</td>\n",
       "    </tr>\n",
       "    <tr>\n",
       "      <th>4</th>\n",
       "      <td>2017-03-09T10:34:13Z</td>\n",
       "      <td>2017-03-09T10:34:13Z</td>\n",
       "    </tr>\n",
       "  </tbody>\n",
       "</table>\n",
       "</div>"
      ],
      "text/plain": [
       "       created_datetime last_modified_datetime\n",
       "0  2016-09-17T09:17:46Z   2016-09-17T09:18:13Z\n",
       "1  2017-03-09T14:32:37Z   2017-03-09T14:32:37Z\n",
       "2  2017-03-09T14:32:37Z   2017-03-09T14:32:37Z\n",
       "3  2017-03-09T10:35:31Z   2017-03-09T10:35:31Z\n",
       "4  2017-03-09T10:34:13Z   2017-03-09T10:34:13Z"
      ]
     },
     "execution_count": 343,
     "metadata": {},
     "output_type": "execute_result"
    }
   ],
   "source": [
    "df.head()"
   ]
  },
  {
   "cell_type": "code",
   "execution_count": 344,
   "metadata": {
    "collapsed": false
   },
   "outputs": [],
   "source": [
    "df.created_datetime = df.created_datetime.str.replace('T', ' ').str.replace('Z', '')"
   ]
  },
  {
   "cell_type": "code",
   "execution_count": 345,
   "metadata": {
    "collapsed": false
   },
   "outputs": [],
   "source": [
    "df.last_modified_datetime = df.last_modified_datetime.str.replace('T', ' ').str.replace('Z', '')"
   ]
  },
  {
   "cell_type": "code",
   "execution_count": 346,
   "metadata": {
    "collapsed": false
   },
   "outputs": [
    {
     "data": {
      "text/html": [
       "<div>\n",
       "<style>\n",
       "    .dataframe thead tr:only-child th {\n",
       "        text-align: right;\n",
       "    }\n",
       "\n",
       "    .dataframe thead th {\n",
       "        text-align: left;\n",
       "    }\n",
       "\n",
       "    .dataframe tbody tr th {\n",
       "        vertical-align: top;\n",
       "    }\n",
       "</style>\n",
       "<table border=\"1\" class=\"dataframe\">\n",
       "  <thead>\n",
       "    <tr style=\"text-align: right;\">\n",
       "      <th></th>\n",
       "      <th>created_datetime</th>\n",
       "      <th>last_modified_datetime</th>\n",
       "    </tr>\n",
       "  </thead>\n",
       "  <tbody>\n",
       "    <tr>\n",
       "      <th>0</th>\n",
       "      <td>2016-09-17 09:17:46</td>\n",
       "      <td>2016-09-17 09:18:13</td>\n",
       "    </tr>\n",
       "    <tr>\n",
       "      <th>1</th>\n",
       "      <td>2017-03-09 14:32:37</td>\n",
       "      <td>2017-03-09 14:32:37</td>\n",
       "    </tr>\n",
       "    <tr>\n",
       "      <th>2</th>\n",
       "      <td>2017-03-09 14:32:37</td>\n",
       "      <td>2017-03-09 14:32:37</td>\n",
       "    </tr>\n",
       "    <tr>\n",
       "      <th>3</th>\n",
       "      <td>2017-03-09 10:35:31</td>\n",
       "      <td>2017-03-09 10:35:31</td>\n",
       "    </tr>\n",
       "    <tr>\n",
       "      <th>4</th>\n",
       "      <td>2017-03-09 10:34:13</td>\n",
       "      <td>2017-03-09 10:34:13</td>\n",
       "    </tr>\n",
       "  </tbody>\n",
       "</table>\n",
       "</div>"
      ],
      "text/plain": [
       "      created_datetime last_modified_datetime\n",
       "0  2016-09-17 09:17:46    2016-09-17 09:18:13\n",
       "1  2017-03-09 14:32:37    2017-03-09 14:32:37\n",
       "2  2017-03-09 14:32:37    2017-03-09 14:32:37\n",
       "3  2017-03-09 10:35:31    2017-03-09 10:35:31\n",
       "4  2017-03-09 10:34:13    2017-03-09 10:34:13"
      ]
     },
     "execution_count": 346,
     "metadata": {},
     "output_type": "execute_result"
    }
   ],
   "source": [
    "df.head()"
   ]
  },
  {
   "cell_type": "code",
   "execution_count": 347,
   "metadata": {
    "collapsed": false
   },
   "outputs": [
    {
     "data": {
      "text/plain": [
       "str"
      ]
     },
     "execution_count": 347,
     "metadata": {},
     "output_type": "execute_result"
    }
   ],
   "source": [
    "type(df.loc[0,'created_datetime'])"
   ]
  },
  {
   "cell_type": "code",
   "execution_count": 348,
   "metadata": {
    "collapsed": false
   },
   "outputs": [],
   "source": [
    "df.created_datetime = pd.to_datetime(df.created_datetime, format=\"%Y-%m-%d %H:%M:%S\", errors='coerce') \n",
    "#drop entries that don't match the pattern"
   ]
  },
  {
   "cell_type": "code",
   "execution_count": 349,
   "metadata": {
    "collapsed": true
   },
   "outputs": [],
   "source": [
    "df.last_modified_datetime = pd.to_datetime(df.last_modified_datetime, format=\"%Y-%m-%d %H:%M:%S\", errors='coerce')"
   ]
  },
  {
   "cell_type": "code",
   "execution_count": 350,
   "metadata": {
    "collapsed": false
   },
   "outputs": [
    {
     "name": "stdout",
     "output_type": "stream",
     "text": [
      "<class 'pandas.core.frame.DataFrame'>\n",
      "RangeIndex: 356027 entries, 0 to 356026\n",
      "Data columns (total 2 columns):\n",
      "created_datetime          356000 non-null datetime64[ns]\n",
      "last_modified_datetime    356001 non-null datetime64[ns]\n",
      "dtypes: datetime64[ns](2)\n",
      "memory usage: 5.4 MB\n"
     ]
    }
   ],
   "source": [
    "df.info()"
   ]
  },
  {
   "cell_type": "code",
   "execution_count": 351,
   "metadata": {
    "collapsed": false
   },
   "outputs": [],
   "source": [
    "df.dropna(inplace=True)"
   ]
  },
  {
   "cell_type": "code",
   "execution_count": 352,
   "metadata": {
    "collapsed": false
   },
   "outputs": [
    {
     "name": "stdout",
     "output_type": "stream",
     "text": [
      "<class 'pandas.core.frame.DataFrame'>\n",
      "Int64Index: 356000 entries, 0 to 356026\n",
      "Data columns (total 2 columns):\n",
      "created_datetime          356000 non-null datetime64[ns]\n",
      "last_modified_datetime    356000 non-null datetime64[ns]\n",
      "dtypes: datetime64[ns](2)\n",
      "memory usage: 8.1 MB\n"
     ]
    }
   ],
   "source": [
    "df.info()"
   ]
  },
  {
   "cell_type": "code",
   "execution_count": 353,
   "metadata": {
    "collapsed": false
   },
   "outputs": [
    {
     "data": {
      "text/html": [
       "<div>\n",
       "<style>\n",
       "    .dataframe thead tr:only-child th {\n",
       "        text-align: right;\n",
       "    }\n",
       "\n",
       "    .dataframe thead th {\n",
       "        text-align: left;\n",
       "    }\n",
       "\n",
       "    .dataframe tbody tr th {\n",
       "        vertical-align: top;\n",
       "    }\n",
       "</style>\n",
       "<table border=\"1\" class=\"dataframe\">\n",
       "  <thead>\n",
       "    <tr style=\"text-align: right;\">\n",
       "      <th></th>\n",
       "      <th>created_datetime</th>\n",
       "      <th>last_modified_datetime</th>\n",
       "    </tr>\n",
       "  </thead>\n",
       "  <tbody>\n",
       "    <tr>\n",
       "      <th>0</th>\n",
       "      <td>2016-09-17 09:17:46</td>\n",
       "      <td>2016-09-17 09:18:13</td>\n",
       "    </tr>\n",
       "    <tr>\n",
       "      <th>1</th>\n",
       "      <td>2017-03-09 14:32:37</td>\n",
       "      <td>2017-03-09 14:32:37</td>\n",
       "    </tr>\n",
       "    <tr>\n",
       "      <th>2</th>\n",
       "      <td>2017-03-09 14:32:37</td>\n",
       "      <td>2017-03-09 14:32:37</td>\n",
       "    </tr>\n",
       "    <tr>\n",
       "      <th>3</th>\n",
       "      <td>2017-03-09 10:35:31</td>\n",
       "      <td>2017-03-09 10:35:31</td>\n",
       "    </tr>\n",
       "    <tr>\n",
       "      <th>4</th>\n",
       "      <td>2017-03-09 10:34:13</td>\n",
       "      <td>2017-03-09 10:34:13</td>\n",
       "    </tr>\n",
       "  </tbody>\n",
       "</table>\n",
       "</div>"
      ],
      "text/plain": [
       "     created_datetime last_modified_datetime\n",
       "0 2016-09-17 09:17:46    2016-09-17 09:18:13\n",
       "1 2017-03-09 14:32:37    2017-03-09 14:32:37\n",
       "2 2017-03-09 14:32:37    2017-03-09 14:32:37\n",
       "3 2017-03-09 10:35:31    2017-03-09 10:35:31\n",
       "4 2017-03-09 10:34:13    2017-03-09 10:34:13"
      ]
     },
     "execution_count": 353,
     "metadata": {},
     "output_type": "execute_result"
    }
   ],
   "source": [
    "df.head()"
   ]
  },
  {
   "cell_type": "code",
   "execution_count": 354,
   "metadata": {
    "collapsed": false
   },
   "outputs": [
    {
     "data": {
      "text/plain": [
       "Timedelta('108 days 03:35:07.638426')"
      ]
     },
     "execution_count": 354,
     "metadata": {},
     "output_type": "execute_result"
    }
   ],
   "source": [
    "#the mean time difference between these two values\n",
    "abs(df.created_datetime-df.last_modified_datetime).mean()"
   ]
  },
  {
   "cell_type": "markdown",
   "metadata": {},
   "source": [
    "Analyze the mean number of created items per month over the timeline of the data. "
   ]
  },
  {
   "cell_type": "code",
   "execution_count": 355,
   "metadata": {
    "collapsed": false
   },
   "outputs": [],
   "source": [
    "#accessing only months of all entries\n",
    "month = df['created_datetime'].dt.month"
   ]
  },
  {
   "cell_type": "code",
   "execution_count": 356,
   "metadata": {
    "collapsed": false
   },
   "outputs": [
    {
     "data": {
      "text/plain": [
       "<matplotlib.text.Text at 0x1af589ab00>"
      ]
     },
     "execution_count": 356,
     "metadata": {},
     "output_type": "execute_result"
    },
    {
     "data": {
      "image/png": "[encoded data removed]",
      "text/plain": [
       "<matplotlib.figure.Figure at 0x1a894374a8>"
      ]
     },
     "metadata": {},
     "output_type": "display_data"
    }
   ],
   "source": [
    "%matplotlib inline\n",
    "import matplotlib.pyplot as plt\n",
    "import seaborn as sn\n",
    "sn.set_style('darkgrid')\n",
    "month.hist(bins=12)\n",
    "plt.xlabel(\"Month\")\n",
    "plt.xlim(1,12)\n",
    "plt.title(\"Mean number of items created per month in general\")"
   ]
  },
  {
   "cell_type": "code",
   "execution_count": 357,
   "metadata": {
    "collapsed": false
   },
   "outputs": [],
   "source": [
    "df.created_datetime = pd.to_datetime(df.created_datetime)"
   ]
  },
  {
   "cell_type": "code",
   "execution_count": 358,
   "metadata": {
    "collapsed": true
   },
   "outputs": [],
   "source": [
    "df.last_modified_datetime = pd.to_datetime(df.last_modified_datetime)"
   ]
  },
  {
   "cell_type": "code",
   "execution_count": 359,
   "metadata": {
    "collapsed": false,
    "scrolled": true
   },
   "outputs": [
    {
     "name": "stdout",
     "output_type": "stream",
     "text": [
      "<class 'pandas.core.frame.DataFrame'>\n",
      "Int64Index: 356000 entries, 0 to 356026\n",
      "Data columns (total 2 columns):\n",
      "created_datetime          356000 non-null datetime64[ns]\n",
      "last_modified_datetime    356000 non-null datetime64[ns]\n",
      "dtypes: datetime64[ns](2)\n",
      "memory usage: 18.1 MB\n"
     ]
    }
   ],
   "source": [
    "df.info()"
   ]
  },
  {
   "cell_type": "code",
   "execution_count": 360,
   "metadata": {
    "collapsed": true
   },
   "outputs": [],
   "source": [
    "df['count']=1"
   ]
  },
  {
   "cell_type": "code",
   "execution_count": 361,
   "metadata": {
    "collapsed": false
   },
   "outputs": [
    {
     "data": {
      "text/plain": [
       "<matplotlib.axes._subplots.AxesSubplot at 0x1b31715c18>"
      ]
     },
     "execution_count": 361,
     "metadata": {},
     "output_type": "execute_result"
    },
    {
     "data": {
      "image/png": "[encoded data removed]",
      "text/plain": [
       "<matplotlib.figure.Figure at 0x1af58876d8>"
      ]
     },
     "metadata": {},
     "output_type": "display_data"
    }
   ],
   "source": [
    "df.resample('M', on='created_datetime').sum().plot(style='--')"
   ]
  },
  {
   "cell_type": "markdown",
   "metadata": {},
   "source": [
    "# D. Build a database\n",
    "You will build a database to hold your data. It is up to you to define appropriate tables and well as primary keys for connecting them. (The focus is definitely more on just using the basic methods/tools introduced in the course and not on building a complex database.) In particular you can follow the following list of steps:\n",
    "\n",
    "restrict your data to 1000 entries and 5 columns of your choice\n",
    "create a connection to an sqlite3 database\n",
    "create one or multiple tables, at least one of the tables should have a PRIMARY KEY\n",
    "fill the database with your data\n",
    "run at least one query to demonstrate that it works correctly"
   ]
  },
  {
   "cell_type": "code",
   "execution_count": 362,
   "metadata": {
    "collapsed": true
   },
   "outputs": [],
   "source": [
    "import sqlite3 as sq"
   ]
  },
  {
   "cell_type": "code",
   "execution_count": 363,
   "metadata": {
    "collapsed": false
   },
   "outputs": [],
   "source": [
    "db = sq.connect('foods.db')"
   ]
  },
  {
   "cell_type": "code",
   "execution_count": 364,
   "metadata": {
    "collapsed": false
   },
   "outputs": [
    {
     "name": "stdout",
     "output_type": "stream",
     "text": [
      "<class 'pandas.core.frame.DataFrame'>\n",
      "Int64Index: 313855 entries, 0 to 356026\n",
      "Data columns (total 11 columns):\n",
      "product_name             310021 non-null object\n",
      "categories_en            102289 non-null object\n",
      "packaging                89469 non-null object\n",
      "countries_en             313625 non-null object\n",
      "origins                  24911 non-null object\n",
      "manufacturing_places     41832 non-null object\n",
      "carbon-footprint_100g    278 non-null float64\n",
      "carbohydrates_100g       251757 non-null float64\n",
      "fat_100g                 252032 non-null float64\n",
      "proteins_100g            266561 non-null float64\n",
      "count                    313855 non-null int64\n",
      "dtypes: float64(4), int64(1), object(6)\n",
      "memory usage: 38.7+ MB\n"
     ]
    }
   ],
   "source": [
    "dt.info()"
   ]
  },
  {
   "cell_type": "code",
   "execution_count": 365,
   "metadata": {
    "collapsed": false
   },
   "outputs": [
    {
     "name": "stderr",
     "output_type": "stream",
     "text": [
      "//anaconda/envs/exts-ada/lib/python3.6/site-packages/ipykernel_launcher.py:2: SettingWithCopyWarning: \n",
      "A value is trying to be set on a copy of a slice from a DataFrame\n",
      "\n",
      "See the caveats in the documentation: http://pandas.pydata.org/pandas-docs/stable/indexing.html#indexing-view-versus-copy\n",
      "  \n"
     ]
    }
   ],
   "source": [
    "#remove rows which have more than 10 NaN entries\n",
    "dt.dropna(thresh=10, axis=0, inplace=True)"
   ]
  },
  {
   "cell_type": "code",
   "execution_count": 366,
   "metadata": {
    "collapsed": false
   },
   "outputs": [
    {
     "name": "stdout",
     "output_type": "stream",
     "text": [
      "<class 'pandas.core.frame.DataFrame'>\n",
      "Int64Index: 10566 entries, 176 to 355966\n",
      "Data columns (total 11 columns):\n",
      "product_name             10566 non-null object\n",
      "categories_en            10565 non-null object\n",
      "packaging                10566 non-null object\n",
      "countries_en             10566 non-null object\n",
      "origins                  10488 non-null object\n",
      "manufacturing_places     10528 non-null object\n",
      "carbon-footprint_100g    197 non-null float64\n",
      "carbohydrates_100g       10566 non-null float64\n",
      "fat_100g                 10566 non-null float64\n",
      "proteins_100g            10566 non-null float64\n",
      "count                    10566 non-null int64\n",
      "dtypes: float64(4), int64(1), object(6)\n",
      "memory usage: 990.6+ KB\n"
     ]
    }
   ],
   "source": [
    "dt.info()"
   ]
  },
  {
   "cell_type": "code",
   "execution_count": 369,
   "metadata": {
    "collapsed": false
   },
   "outputs": [
    {
     "name": "stderr",
     "output_type": "stream",
     "text": [
      "//anaconda/envs/exts-ada/lib/python3.6/site-packages/ipykernel_launcher.py:2: SettingWithCopyWarning: \n",
      "A value is trying to be set on a copy of a slice from a DataFrame\n",
      "\n",
      "See the caveats in the documentation: http://pandas.pydata.org/pandas-docs/stable/indexing.html#indexing-view-versus-copy\n",
      "  \n"
     ]
    }
   ],
   "source": [
    "#make sure product names are unique\n",
    "dt.drop_duplicates(['product_name'], inplace=True)"
   ]
  },
  {
   "cell_type": "code",
   "execution_count": 370,
   "metadata": {
    "collapsed": false
   },
   "outputs": [
    {
     "name": "stdout",
     "output_type": "stream",
     "text": [
      "<class 'pandas.core.frame.DataFrame'>\n",
      "Int64Index: 9620 entries, 176 to 355966\n",
      "Data columns (total 11 columns):\n",
      "product_name             9620 non-null object\n",
      "categories_en            9619 non-null object\n",
      "packaging                9620 non-null object\n",
      "countries_en             9620 non-null object\n",
      "origins                  9547 non-null object\n",
      "manufacturing_places     9585 non-null object\n",
      "carbon-footprint_100g    176 non-null float64\n",
      "carbohydrates_100g       9620 non-null float64\n",
      "fat_100g                 9620 non-null float64\n",
      "proteins_100g            9620 non-null float64\n",
      "count                    9620 non-null int64\n",
      "dtypes: float64(4), int64(1), object(6)\n",
      "memory usage: 901.9+ KB\n"
     ]
    }
   ],
   "source": [
    "dt.info()"
   ]
  },
  {
   "cell_type": "code",
   "execution_count": 371,
   "metadata": {
    "collapsed": true
   },
   "outputs": [],
   "source": [
    "to_db = dt[:1000]"
   ]
  },
  {
   "cell_type": "code",
   "execution_count": 372,
   "metadata": {
    "collapsed": false
   },
   "outputs": [
    {
     "name": "stdout",
     "output_type": "stream",
     "text": [
      "<class 'pandas.core.frame.DataFrame'>\n",
      "Int64Index: 1000 entries, 176 to 185535\n",
      "Data columns (total 11 columns):\n",
      "product_name             1000 non-null object\n",
      "categories_en            999 non-null object\n",
      "packaging                1000 non-null object\n",
      "countries_en             1000 non-null object\n",
      "origins                  995 non-null object\n",
      "manufacturing_places     1000 non-null object\n",
      "carbon-footprint_100g    10 non-null float64\n",
      "carbohydrates_100g       1000 non-null float64\n",
      "fat_100g                 1000 non-null float64\n",
      "proteins_100g            1000 non-null float64\n",
      "count                    1000 non-null int64\n",
      "dtypes: float64(4), int64(1), object(6)\n",
      "memory usage: 93.8+ KB\n"
     ]
    }
   ],
   "source": [
    "to_db.info()"
   ]
  },
  {
   "cell_type": "code",
   "execution_count": 373,
   "metadata": {
    "collapsed": true
   },
   "outputs": [],
   "source": [
    "def run_query(query):\n",
    "    return pd.read_sql_query(query,db)"
   ]
  },
  {
   "cell_type": "code",
   "execution_count": 374,
   "metadata": {
    "collapsed": true
   },
   "outputs": [],
   "source": [
    "cur = db.cursor()"
   ]
  },
  {
   "cell_type": "code",
   "execution_count": 375,
   "metadata": {
    "collapsed": false
   },
   "outputs": [
    {
     "data": {
      "text/html": [
       "<div>\n",
       "<style>\n",
       "    .dataframe thead tr:only-child th {\n",
       "        text-align: right;\n",
       "    }\n",
       "\n",
       "    .dataframe thead th {\n",
       "        text-align: left;\n",
       "    }\n",
       "\n",
       "    .dataframe tbody tr th {\n",
       "        vertical-align: top;\n",
       "    }\n",
       "</style>\n",
       "<table border=\"1\" class=\"dataframe\">\n",
       "  <thead>\n",
       "    <tr style=\"text-align: right;\">\n",
       "      <th></th>\n",
       "      <th>product_name</th>\n",
       "      <th>categories_en</th>\n",
       "      <th>packaging</th>\n",
       "      <th>countries_en</th>\n",
       "      <th>origins</th>\n",
       "      <th>manufacturing_places</th>\n",
       "      <th>carbon-footprint_100g</th>\n",
       "      <th>carbohydrates_100g</th>\n",
       "      <th>fat_100g</th>\n",
       "      <th>proteins_100g</th>\n",
       "      <th>count</th>\n",
       "    </tr>\n",
       "  </thead>\n",
       "  <tbody>\n",
       "    <tr>\n",
       "      <th>176</th>\n",
       "      <td>Salade Cesar</td>\n",
       "      <td>Plant-based foods and beverages,Plant-based fo...</td>\n",
       "      <td>Frais</td>\n",
       "      <td>Canada</td>\n",
       "      <td>Québec</td>\n",
       "      <td>Brossard Québec</td>\n",
       "      <td>NaN</td>\n",
       "      <td>23.0</td>\n",
       "      <td>12.0</td>\n",
       "      <td>22.00</td>\n",
       "      <td>1</td>\n",
       "    </tr>\n",
       "    <tr>\n",
       "      <th>177</th>\n",
       "      <td>Danoises à la cannelle roulées</td>\n",
       "      <td>Sugary snacks,Biscuits and cakes,Pastries</td>\n",
       "      <td>Frais</td>\n",
       "      <td>Canada</td>\n",
       "      <td>Québec</td>\n",
       "      <td>Brossard Québec</td>\n",
       "      <td>NaN</td>\n",
       "      <td>54.1</td>\n",
       "      <td>14.4</td>\n",
       "      <td>4.79</td>\n",
       "      <td>1</td>\n",
       "    </tr>\n",
       "  </tbody>\n",
       "</table>\n",
       "</div>"
      ],
      "text/plain": [
       "                       product_name  \\\n",
       "176                    Salade Cesar   \n",
       "177  Danoises à la cannelle roulées   \n",
       "\n",
       "                                         categories_en packaging countries_en  \\\n",
       "176  Plant-based foods and beverages,Plant-based fo...     Frais       Canada   \n",
       "177          Sugary snacks,Biscuits and cakes,Pastries     Frais       Canada   \n",
       "\n",
       "    origins manufacturing_places  carbon-footprint_100g  carbohydrates_100g  \\\n",
       "176  Québec      Brossard Québec                    NaN                23.0   \n",
       "177  Québec      Brossard Québec                    NaN                54.1   \n",
       "\n",
       "     fat_100g  proteins_100g  count  \n",
       "176      12.0          22.00      1  \n",
       "177      14.4           4.79      1  "
      ]
     },
     "execution_count": 375,
     "metadata": {},
     "output_type": "execute_result"
    }
   ],
   "source": [
    "to_db.head(2)"
   ]
  },
  {
   "cell_type": "code",
   "execution_count": 376,
   "metadata": {
    "collapsed": false
   },
   "outputs": [],
   "source": [
    "to_db.columns = ['product_name', 'categories_en', 'packaging', 'countries_en', 'origins',\n",
    "       'manufacturing_places', \"carbon_footprint_100g\", 'carbohydrates_100g',\n",
    "       'fat_100g', 'proteins_100g', 'count']"
   ]
  },
  {
   "cell_type": "code",
   "execution_count": 377,
   "metadata": {
    "collapsed": true
   },
   "outputs": [],
   "source": [
    "query= \"\"\"CREATE TABLE project_data (product_name TEXT PRIMARY KEY, categories_en TEXT, packaging TEXT, \n",
    "countries_en TEXT, origins TEXT, manufacturing_places TEXT, carbon_footprint_100g FLOAT,\n",
    "carbohydrates_100g FLOAT, fat_100g FLOAT, proteins_100g FLOAT, count INTEGER);\"\"\"\n"
   ]
  },
  {
   "cell_type": "code",
   "execution_count": 378,
   "metadata": {
    "collapsed": false
   },
   "outputs": [
    {
     "ename": "OperationalError",
     "evalue": "table project_data already exists",
     "output_type": "error",
     "traceback": [
      "\u001b[0;31m---------------------------------------------------------------------------\u001b[0m",
      "\u001b[0;31mOperationalError\u001b[0m                          Traceback (most recent call last)",
      "\u001b[0;32m<ipython-input-378-61b7d4f88579>\u001b[0m in \u001b[0;36m<module>\u001b[0;34m()\u001b[0m\n\u001b[0;32m----> 1\u001b[0;31m \u001b[0mcur\u001b[0m\u001b[0;34m.\u001b[0m\u001b[0mexecute\u001b[0m\u001b[0;34m(\u001b[0m\u001b[0mquery\u001b[0m\u001b[0;34m)\u001b[0m\u001b[0;34m\u001b[0m\u001b[0m\n\u001b[0m",
      "\u001b[0;31mOperationalError\u001b[0m: table project_data already exists"
     ]
    }
   ],
   "source": [
    "cur.execute(query)"
   ]
  },
  {
   "cell_type": "code",
   "execution_count": 379,
   "metadata": {
    "collapsed": false
   },
   "outputs": [],
   "source": [
    "to_db.to_sql(name='project_data', con=db, if_exists='append', index=False)"
   ]
  },
  {
   "cell_type": "code",
   "execution_count": 382,
   "metadata": {
    "collapsed": false
   },
   "outputs": [
    {
     "name": "stdout",
     "output_type": "stream",
     "text": [
      "[('Salade Cesar', 'Plant-based foods and beverages,Plant-based foods,Fresh foods,Fruits and vegetables based foods,Fresh plant-based foods,Vegetables based foods,Fresh vegetables,Leaf vegetables', 'Frais', 'Canada', 'Québec', 'Brossard Québec', None, 23.0, 12.0, 22.0, 1), ('Danoises à la cannelle roulées', 'Sugary snacks,Biscuits and cakes,Pastries', 'Frais', 'Canada', 'Québec', 'Brossard Québec', None, 54.1, 14.4, 4.79, 1), ('Chaussons tressés aux pommes', 'Sugary snacks,Biscuits and cakes,Pastries', 'Frais', 'Canada', 'Québec', 'Brossard Québec', None, 38.7, 10.7, 3.33, 1), ('Pain Burger Artisan', 'fr:Boulange', 'Frais,plastique', 'Canada', 'Québec', 'Brossard,Québec', None, 53.3, 1.11, 10.0, 1), ('Quiche Lorraine', 'Meals,Pizzas pies and quiches,Quiches,fr:Quiches lorraines', 'Frai', 'Canada', 'Québec', 'Brossard,Québec', None, 7.86, 6.79, 5.36, 1), ('Pâté au poulet', 'Meats,Poultries,Chickens,Cooked chicken', 'Frais', 'Canada', 'Québec', 'Brossard Québec', None, 16.6, 10.2, 33.9, 1), ('Mehrkomponeneten Protein 90 C6 Haselnuß', 'Dietary supplements,Bodybuilding supplements,Protein powders', 'bucket', 'Germany', 'Germany', 'Germany', None, 2.5, 1.0, 85.5, 1), ('Mehrkomponeneten Protein 90 C6 Schoko', 'Dietary supplements,Bodybuilding supplements,Protein powders', 'bucket', 'Germany', 'Germany', 'Germany', None, 2.5, 1.0, 85.5, 1), ('Mehrkomponeneten Protein 90 C6 Banane', 'Dietary supplements,Bodybuilding supplements,Protein powders', 'bucket', 'Germany', 'Germany', 'Germany', None, 2.5, 1.0, 85.5, 1), ('Whey Protein aus Molke Vanilla', 'Dietary supplements,Bodybuilding supplements,Protein powders', 'can', 'Germany', 'Germany', 'Germany', None, 8.8, 4.6, 78.05, 1)]\n"
     ]
    }
   ],
   "source": [
    "#testing\n",
    "cursor.execute(\"SELECT * FROM project_data;\")\n",
    "results = cursor.fetchall()\n",
    "print(results[:10])"
   ]
  },
  {
   "cell_type": "markdown",
   "metadata": {},
   "source": [
    "# F. Finding correlations\n",
    "You will try to find correlations between the different data fields. Your goal is to identify the variables which most affect the nutritional score and provide some insight into which factors cause both a low or a high nutritional score."
   ]
  },
  {
   "cell_type": "code",
   "execution_count": 384,
   "metadata": {
    "collapsed": false
   },
   "outputs": [
    {
     "data": {
      "text/plain": [
       "Index(['code', 'url', 'creator', 'created_t', 'created_datetime',\n",
       "       'last_modified_t', 'last_modified_datetime', 'product_name',\n",
       "       'generic_name', 'quantity',\n",
       "       ...\n",
       "       'fruits-vegetables-nuts_100g', 'fruits-vegetables-nuts-estimate_100g',\n",
       "       'collagen-meat-protein-ratio_100g', 'cocoa_100g', 'chlorophyl_100g',\n",
       "       'carbon-footprint_100g', 'nutrition-score-fr_100g',\n",
       "       'nutrition-score-uk_100g', 'glycemic-index_100g',\n",
       "       'water-hardness_100g'],\n",
       "      dtype='object', length=163)"
      ]
     },
     "execution_count": 384,
     "metadata": {},
     "output_type": "execute_result"
    }
   ],
   "source": [
    "data.columns"
   ]
  },
  {
   "cell_type": "markdown",
   "metadata": {},
   "source": [
    "I choose the following data fields for the experiment:\n",
    "- additives_n\n",
    "- saturated-fat_100g\n",
    "- omega-3-fat_100g\n",
    "- trans-fat_100g\n",
    "- sugars_100g\n",
    "- cholesterol_100g\n",
    "- fiber_100g\n",
    "- proteins_100g\n",
    "- fruits-vegetables-nuts_100g\n",
    "- caffeine_100g\n",
    "- taurine_100g\n",
    "\n",
    "and will calculate the correlation between the nutrition score and each of them."
   ]
  },
  {
   "cell_type": "code",
   "execution_count": 388,
   "metadata": {
    "collapsed": false
   },
   "outputs": [
    {
     "data": {
      "text/plain": [
       "40.0"
      ]
     },
     "execution_count": 388,
     "metadata": {},
     "output_type": "execute_result"
    }
   ],
   "source": [
    "data['nutrition-score-uk_100g'].max()"
   ]
  },
  {
   "cell_type": "code",
   "execution_count": 392,
   "metadata": {
    "collapsed": true
   },
   "outputs": [],
   "source": [
    "keep_columns = ['nutrition-score-uk_100g', \"additives_n\", \"saturated-fat_100g\", \"omega-3-fat_100g\",\n",
    "                \"trans-fat_100g\", \"sugars_100g\", \"cholesterol_100g\", \"fiber_100g\", \"proteins_100g\",\n",
    "                \"fruits-vegetables-nuts_100g\", \"caffeine_100g\",\"taurine_100g\"]\n",
    "dt = data[keep_columns]"
   ]
  },
  {
   "cell_type": "code",
   "execution_count": 400,
   "metadata": {
    "collapsed": false
   },
   "outputs": [
    {
     "name": "stderr",
     "output_type": "stream",
     "text": [
      "//anaconda/envs/exts-ada/lib/python3.6/site-packages/ipykernel_launcher.py:1: SettingWithCopyWarning: \n",
      "A value is trying to be set on a copy of a slice from a DataFrame\n",
      "\n",
      "See the caveats in the documentation: http://pandas.pydata.org/pandas-docs/stable/indexing.html#indexing-view-versus-copy\n",
      "  \"\"\"Entry point for launching an IPython kernel.\n"
     ]
    }
   ],
   "source": [
    "dt.dropna(thresh=8, axis=0, inplace=True)"
   ]
  },
  {
   "cell_type": "code",
   "execution_count": 403,
   "metadata": {
    "collapsed": false
   },
   "outputs": [
    {
     "data": {
      "text/plain": [
       "0.15614832229327041"
      ]
     },
     "execution_count": 403,
     "metadata": {},
     "output_type": "execute_result"
    }
   ],
   "source": [
    "dt['nutrition-score-uk_100g'].corr(dt['additives_n'])"
   ]
  },
  {
   "cell_type": "code",
   "execution_count": 407,
   "metadata": {
    "collapsed": false
   },
   "outputs": [
    {
     "name": "stdout",
     "output_type": "stream",
     "text": [
      "Correlation with additives_n: 0.156148\n",
      "Correlation with saturated-fat_100g: 0.662242\n",
      "Correlation with omega-3-fat_100g: 0.251718\n",
      "Correlation with trans-fat_100g: 0.021225\n",
      "Correlation with sugars_100g: 0.475982\n",
      "Correlation with cholesterol_100g: 0.035422\n",
      "Correlation with fiber_100g: -0.163036\n",
      "Correlation with proteins_100g: 0.118168\n",
      "Correlation with fruits-vegetables-nuts_100g: -0.094698\n",
      "Correlation with caffeine_100g: 0.330392\n",
      "Correlation with taurine_100g: -0.559017\n"
     ]
    }
   ],
   "source": [
    "#correlation between two columns df['X'].corr(df['Y'])\n",
    "for i in keep_columns[1:]:\n",
    "    corr = dt['nutrition-score-uk_100g'].corr(dt[i])\n",
    "    print(\"Correlation with %s: %f\" %(i,corr))"
   ]
  },
  {
   "cell_type": "markdown",
   "metadata": {},
   "source": [
    "To conclude, high nutrition score is caused by saturated fats, sugars; low nutritions score by taurine, a bit by caffeine; proteins, additives, omega-3, trans-fat, cholesterol, fiber, or fruit content are not correlated."
   ]
  },
  {
   "cell_type": "code",
   "execution_count": null,
   "metadata": {
    "collapsed": true
   },
   "outputs": [],
   "source": []
  }
 ],
 "metadata": {
  "anaconda-cloud": {},
  "kernelspec": {
   "display_name": "Python (exts-ada)",
   "language": "python",
   "name": "exts-ada"
  },
  "language_info": {
   "codemirror_mode": {
    "name": "ipython",
    "version": 3
   },
   "file_extension": ".py",
   "mimetype": "text/x-python",
   "name": "python",
   "nbconvert_exporter": "python",
   "pygments_lexer": "ipython3",
   "version": "3.6.2"
  }
 },
 "nbformat": 4,
 "nbformat_minor": 2
}
