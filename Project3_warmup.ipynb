{
 "cells": [
  {
   "cell_type": "markdown",
   "metadata": {},
   "source": [
    "# Part 1: warm-up"
   ]
  },
  {
   "cell_type": "markdown",
   "metadata": {},
   "source": [
    "#### Task 1\n",
    "\n",
    "- Fit the equation using polyfit() and print the a , b parameters\n",
    "- Plot your model with the 50 data points, i.e., the curve that corresponds to the equation from above.\n",
    "- Compute and print the R^2 coefficient using Numpy.\n",
    "- Explain how the polyfit() function  nds the optimal parameters. (1-2 sentences)\n",
    "- Give two differences between this method and the gradient descent one. Write a short sentence for each one."
   ]
  },
  {
   "cell_type": "code",
   "execution_count": 165,
   "metadata": {},
   "outputs": [
    {
     "data": {
      "text/html": [
       "<div>\n",
       "<style scoped>\n",
       "    .dataframe tbody tr th:only-of-type {\n",
       "        vertical-align: middle;\n",
       "    }\n",
       "\n",
       "    .dataframe tbody tr th {\n",
       "        vertical-align: top;\n",
       "    }\n",
       "\n",
       "    .dataframe thead th {\n",
       "        text-align: right;\n",
       "    }\n",
       "</style>\n",
       "<table border=\"1\" class=\"dataframe\">\n",
       "  <thead>\n",
       "    <tr style=\"text-align: right;\">\n",
       "      <th></th>\n",
       "      <th>x</th>\n",
       "      <th>y</th>\n",
       "    </tr>\n",
       "  </thead>\n",
       "  <tbody>\n",
       "    <tr>\n",
       "      <th>0</th>\n",
       "      <td>10.529</td>\n",
       "      <td>39.105</td>\n",
       "    </tr>\n",
       "    <tr>\n",
       "      <th>1</th>\n",
       "      <td>10.799</td>\n",
       "      <td>40.584</td>\n",
       "    </tr>\n",
       "  </tbody>\n",
       "</table>\n",
       "</div>"
      ],
      "text/plain": [
       "        x       y\n",
       "0  10.529  39.105\n",
       "1  10.799  40.584"
      ]
     },
     "execution_count": 165,
     "metadata": {},
     "output_type": "execute_result"
    }
   ],
   "source": [
    "#fit y=alog(x)+b\n",
    "import pandas as pd\n",
    "data = pd.read_csv(\"warm-up/task-1.csv\")\n",
    "data.head(2)"
   ]
  },
  {
   "cell_type": "code",
   "execution_count": 166,
   "metadata": {},
   "outputs": [],
   "source": [
    "import numpy as np\n",
    "x = data.x.values\n",
    "y = data.y.values\n",
    "xlog = np.log(x)\n",
    "a,b = np.polyfit(xlog, y, deg=1)"
   ]
  },
  {
   "cell_type": "code",
   "execution_count": 167,
   "metadata": {},
   "outputs": [
    {
     "name": "stdout",
     "output_type": "stream",
     "text": [
      "Coefficient a= 3.390241, coefficient b= 31.529201\n"
     ]
    }
   ],
   "source": [
    "print(\"Coefficient a= %f, coefficient b= %f\" %(a,b))"
   ]
  },
  {
   "cell_type": "code",
   "execution_count": 168,
   "metadata": {},
   "outputs": [
    {
     "data": {
      "text/plain": [
       "<matplotlib.legend.Legend at 0x1a2a864fd0>"
      ]
     },
     "execution_count": 168,
     "metadata": {},
     "output_type": "execute_result"
    },
    {
     "data": {
      "image/png": "[encoded data removed]",
      "text/plain": [
       "<matplotlib.figure.Figure at 0x1a2a56f518>"
      ]
     },
     "metadata": {},
     "output_type": "display_data"
    }
   ],
   "source": [
    "#plot\n",
    "import matplotlib.pyplot as plt\n",
    "%matplotlib inline\n",
    "plt.scatter(xlog,y, label=\"data\")\n",
    "plt.plot(xlog, a*xlog+b, label=\"pol deg=1\")\n",
    "plt.xlabel('log(x)')\n",
    "plt.ylabel('y')\n",
    "plt.legend()\n"
   ]
  },
  {
   "cell_type": "code",
   "execution_count": 169,
   "metadata": {},
   "outputs": [
    {
     "name": "stdout",
     "output_type": "stream",
     "text": [
      "0.9411567093138288\n"
     ]
    }
   ],
   "source": [
    "#R^2 coefficient\n",
    "def RSS(y, y_pred):\n",
    "    return np.sum(np.square(np.subtract(y,y_pred)))\n",
    "coefs=[a,b]\n",
    "y_pred = np.polyval(coefs, xlog)\n",
    "\n",
    "#1-rss_model/rss_baseline\n",
    "R_score = 1-RSS(y,y_pred)/RSS(y,y.mean())\n",
    "print(R_score)"
   ]
  },
  {
   "cell_type": "markdown",
   "metadata": {},
   "source": [
    "Q | A\n",
    "--|:--\n",
    "How the polyfit() function finds the optimal parameters? | ```polyfit()``` fits a polynomial of a given degree to a set of points and then uses least squares method to find an optimal solution.\n",
    "Give two differences between this method and the gradient descent one. Write a short sentence for each one. | 1. OLS is analytical, while GD is iterative. 2. Unlike the OLS method, GD is very generic and can optimize many different cost functions\n",
    "\n",
    "Least Squares | Gradient Descent\n",
    "-- |: --\n",
    "Least Squares minimizes the squared error of $\\sum_{j=0}^k (p(x_j)-y(x_j))^2$. This is an analytical solution, and it is suitable for linear regressions with the RSS cost functions. LSS looks for a point in the parameter space of (a,b), which has a derivative of RSS of zero in all directions, i.e. computes the gradient of the cost function. | Gradient Descent is an iterative algorithm, which can be used more generically with various models and cost functions. It also uses a gradient of a cost function to minimize it. The cost function, however, must be convex, otherwise the algorithm can return sub-optimal solutions. It is good to use if there is no analytical solution. \n",
    "\n"
   ]
  },
  {
   "cell_type": "markdown",
   "metadata": {},
   "source": [
    "#### Task 2"
   ]
  },
  {
   "cell_type": "markdown",
   "metadata": {},
   "source": [
    "- Load and split the data into 80-20 train/test sets using train_test_split(). Set the random_state to zero.\n",
    "- Fit and evaluate a linear regression using the train/test set methodology. \n",
    "- Print the mean absolute error (MAE) on the test set.\n",
    "- Improve your test MAE by removing outliers from the train set.\n",
    "- Fit a linear regression with Huber loss (using the train points with outliers). Print its MAE on the test set."
   ]
  },
  {
   "cell_type": "code",
   "execution_count": 170,
   "metadata": {},
   "outputs": [
    {
     "data": {
      "text/html": [
       "<div>\n",
       "<style scoped>\n",
       "    .dataframe tbody tr th:only-of-type {\n",
       "        vertical-align: middle;\n",
       "    }\n",
       "\n",
       "    .dataframe tbody tr th {\n",
       "        vertical-align: top;\n",
       "    }\n",
       "\n",
       "    .dataframe thead th {\n",
       "        text-align: right;\n",
       "    }\n",
       "</style>\n",
       "<table border=\"1\" class=\"dataframe\">\n",
       "  <thead>\n",
       "    <tr style=\"text-align: right;\">\n",
       "      <th></th>\n",
       "      <th>x1</th>\n",
       "      <th>x2</th>\n",
       "      <th>x3</th>\n",
       "      <th>y</th>\n",
       "    </tr>\n",
       "  </thead>\n",
       "  <tbody>\n",
       "    <tr>\n",
       "      <th>0</th>\n",
       "      <td>7.892</td>\n",
       "      <td>318.818</td>\n",
       "      <td>162.970</td>\n",
       "      <td>2112.420</td>\n",
       "    </tr>\n",
       "    <tr>\n",
       "      <th>1</th>\n",
       "      <td>8.830</td>\n",
       "      <td>303.180</td>\n",
       "      <td>181.399</td>\n",
       "      <td>2096.231</td>\n",
       "    </tr>\n",
       "  </tbody>\n",
       "</table>\n",
       "</div>"
      ],
      "text/plain": [
       "      x1       x2       x3         y\n",
       "0  7.892  318.818  162.970  2112.420\n",
       "1  8.830  303.180  181.399  2096.231"
      ]
     },
     "execution_count": 170,
     "metadata": {},
     "output_type": "execute_result"
    }
   ],
   "source": [
    "data = pd.read_csv(\"warm-up/task-2.csv\")\n",
    "data.head(2)"
   ]
  },
  {
   "cell_type": "code",
   "execution_count": 171,
   "metadata": {},
   "outputs": [],
   "source": [
    "X = data.drop(['y'], axis=1)"
   ]
  },
  {
   "cell_type": "code",
   "execution_count": 172,
   "metadata": {},
   "outputs": [],
   "source": [
    "y = data.y"
   ]
  },
  {
   "cell_type": "code",
   "execution_count": 173,
   "metadata": {},
   "outputs": [],
   "source": [
    "#split train-test\n",
    "from sklearn.model_selection import train_test_split\n",
    "X_tr, X_te, y_tr, y_te = train_test_split?"
   ]
  },
  {
   "cell_type": "code",
   "execution_count": null,
   "metadata": {},
   "outputs": [],
   "source": [
    "X_tr, X_te, y_tr, y_te = train_test_split"
   ]
  },
  {
   "cell_type": "code",
   "execution_count": 174,
   "metadata": {},
   "outputs": [
    {
     "name": "stderr",
     "output_type": "stream",
     "text": [
      "/anaconda3/envs/exts-aml1/lib/python3.6/site-packages/sklearn/model_selection/_split.py:2026: FutureWarning: From version 0.21, test_size will always complement train_size unless both are specified.\n",
      "  FutureWarning)\n"
     ]
    }
   ],
   "source": [
    "X_tr, X_te, y_tr, y_te= train_test_split(X, y, train_size=0.8, random_state = 0)"
   ]
  },
  {
   "cell_type": "code",
   "execution_count": 175,
   "metadata": {},
   "outputs": [
    {
     "data": {
      "text/plain": [
       "(800, 3)"
      ]
     },
     "execution_count": 175,
     "metadata": {},
     "output_type": "execute_result"
    }
   ],
   "source": [
    "X_tr.shape"
   ]
  },
  {
   "cell_type": "code",
   "execution_count": 176,
   "metadata": {},
   "outputs": [
    {
     "data": {
      "text/plain": [
       "(800,)"
      ]
     },
     "execution_count": 176,
     "metadata": {},
     "output_type": "execute_result"
    }
   ],
   "source": [
    "y_tr.shape"
   ]
  },
  {
   "cell_type": "code",
   "execution_count": 177,
   "metadata": {},
   "outputs": [
    {
     "data": {
      "text/plain": [
       "LinearRegression(copy_X=True, fit_intercept=True, n_jobs=1, normalize=False)"
      ]
     },
     "execution_count": 177,
     "metadata": {},
     "output_type": "execute_result"
    }
   ],
   "source": [
    "#fit linear regression\n",
    "from sklearn.linear_model import LinearRegression\n",
    "lr = LinearRegression()\n",
    "lr.fit(X_tr, y_tr)"
   ]
  },
  {
   "cell_type": "code",
   "execution_count": 178,
   "metadata": {},
   "outputs": [],
   "source": [
    "y_pred = lr.predict?"
   ]
  },
  {
   "cell_type": "code",
   "execution_count": null,
   "metadata": {},
   "outputs": [],
   "source": [
    "y_pred = lr.predict"
   ]
  },
  {
   "cell_type": "code",
   "execution_count": 179,
   "metadata": {},
   "outputs": [],
   "source": [
    "y_pred = lr.predict(X_te)"
   ]
  },
  {
   "cell_type": "code",
   "execution_count": 180,
   "metadata": {},
   "outputs": [],
   "source": [
    "def MAE(y, y_pred):\n",
    "    return (np.sum(np.abs(y-y_pred))/len(y))"
   ]
  },
  {
   "cell_type": "code",
   "execution_count": 181,
   "metadata": {},
   "outputs": [
    {
     "name": "stdout",
     "output_type": "stream",
     "text": [
      "Model MAE is 104.788433\n",
      "Baseline MAE is 115.002600\n"
     ]
    }
   ],
   "source": [
    "print(\"Model MAE is %f\" %MAE(y_te, y_pred))\n",
    "print(\"Baseline MAE is %f\" %MAE(y_te, np.median(y_te)))\n"
   ]
  },
  {
   "cell_type": "markdown",
   "metadata": {},
   "source": [
    "Model is better than the baseline."
   ]
  },
  {
   "cell_type": "code",
   "execution_count": 182,
   "metadata": {},
   "outputs": [],
   "source": [
    "#removing outliers with z-score, i.e. those with more than 2 std dev away\n",
    "z_scores = (y_tr - y_tr.mean()) / y_tr.std()\n",
    "z_scores_te = (y_te - y_te.mean()) / y_te.std()"
   ]
  },
  {
   "cell_type": "code",
   "execution_count": 183,
   "metadata": {},
   "outputs": [],
   "source": [
    "idx = np.abs(z_scores)>2\n",
    "idx_te = np.abs(z_scores_te)>2"
   ]
  },
  {
   "cell_type": "code",
   "execution_count": 184,
   "metadata": {},
   "outputs": [
    {
     "name": "stdout",
     "output_type": "stream",
     "text": [
      "Model MAE is 104.788433\n",
      "Baseline MAE is 115.002600\n",
      "No outliers MAE is 97.953490\n"
     ]
    }
   ],
   "source": [
    "lr.fit(X_tr[~idx], y_tr[~idx])\n",
    "y_pred2 = lr.predict(X_te[~idx_te])\n",
    "print(\"Model MAE is %f\" %MAE(y_te, y_pred))\n",
    "print(\"Baseline MAE is %f\" %MAE(y_te, np.median(y_te)))\n",
    "print(\"No outliers MAE is %f\" %MAE(y_te[~idx_te], y_pred2))"
   ]
  },
  {
   "cell_type": "code",
   "execution_count": 185,
   "metadata": {},
   "outputs": [
    {
     "name": "stdout",
     "output_type": "stream",
     "text": [
      "Model MAE is 104.788433\n",
      "Baseline MAE is 115.002600\n",
      "No outliers MAE is 97.953490\n",
      "Huber regression MAE is 83.908124\n"
     ]
    }
   ],
   "source": [
    "#Huber loss\n",
    "from sklearn.linear_model import HuberRegressor\n",
    "hub = HuberRegressor()\n",
    "hub.fit(X_tr,y_tr)\n",
    "y_predh = hub.predict(X_te)\n",
    "print(\"Model MAE is %f\" %MAE(y_te, y_pred))\n",
    "print(\"Baseline MAE is %f\" %MAE(y_te, np.median(y_te)))\n",
    "print(\"No outliers MAE is %f\" %MAE(y_te[~idx_te], y_pred2))\n",
    "print(\"Huber regression MAE is %f\" %MAE(y_te, y_predh))\n"
   ]
  },
  {
   "cell_type": "markdown",
   "metadata": {},
   "source": [
    "#### Task 3\n",
    "\n",
    "\n",
    "- Split data into 50-50 train/test sets using . Set the to zero.\n",
    "- Fit a polynomial of degree 10 to the train set. Print its residual sum of squares (RSS) on the train/test sets. Does your model overfit?\n",
    "- Plot your model with the 50 data points, i.e., the curve that corresponds to your polynomial regression.\n",
    "- Apply regularization using ridge regression. Tune the regularization strength using grid search.\n",
    "- Compute the train/test RSS of your (tuned) ridge regression model and plot the new curve."
   ]
  },
  {
   "cell_type": "code",
   "execution_count": 186,
   "metadata": {},
   "outputs": [
    {
     "data": {
      "text/html": [
       "<div>\n",
       "<style scoped>\n",
       "    .dataframe tbody tr th:only-of-type {\n",
       "        vertical-align: middle;\n",
       "    }\n",
       "\n",
       "    .dataframe tbody tr th {\n",
       "        vertical-align: top;\n",
       "    }\n",
       "\n",
       "    .dataframe thead th {\n",
       "        text-align: right;\n",
       "    }\n",
       "</style>\n",
       "<table border=\"1\" class=\"dataframe\">\n",
       "  <thead>\n",
       "    <tr style=\"text-align: right;\">\n",
       "      <th></th>\n",
       "      <th>x</th>\n",
       "      <th>y</th>\n",
       "    </tr>\n",
       "  </thead>\n",
       "  <tbody>\n",
       "    <tr>\n",
       "      <th>0</th>\n",
       "      <td>3.588</td>\n",
       "      <td>0.473</td>\n",
       "    </tr>\n",
       "    <tr>\n",
       "      <th>1</th>\n",
       "      <td>3.551</td>\n",
       "      <td>0.784</td>\n",
       "    </tr>\n",
       "  </tbody>\n",
       "</table>\n",
       "</div>"
      ],
      "text/plain": [
       "       x      y\n",
       "0  3.588  0.473\n",
       "1  3.551  0.784"
      ]
     },
     "execution_count": 186,
     "metadata": {},
     "output_type": "execute_result"
    }
   ],
   "source": [
    "data = pd.read_csv(\"./warm-up/task-3.csv\")\n",
    "data.head(2)"
   ]
  },
  {
   "cell_type": "code",
   "execution_count": 187,
   "metadata": {},
   "outputs": [
    {
     "name": "stderr",
     "output_type": "stream",
     "text": [
      "/anaconda3/envs/exts-aml1/lib/python3.6/site-packages/sklearn/model_selection/_split.py:2026: FutureWarning: From version 0.21, test_size will always complement train_size unless both are specified.\n",
      "  FutureWarning)\n"
     ]
    }
   ],
   "source": [
    "x = data.x.values\n",
    "y = data.y.values\n",
    "#split\n",
    "x_tr, x_te, y_tr, y_te = train_test_split(x, y, train_size=0.5, random_state=0)"
   ]
  },
  {
   "cell_type": "code",
   "execution_count": 188,
   "metadata": {},
   "outputs": [
    {
     "data": {
      "text/plain": [
       "25"
      ]
     },
     "execution_count": 188,
     "metadata": {},
     "output_type": "execute_result"
    }
   ],
   "source": [
    "len(y_te)"
   ]
  },
  {
   "cell_type": "code",
   "execution_count": 189,
   "metadata": {},
   "outputs": [],
   "source": [
    "#fit a polynomial\n",
    "coeff = np.polyfit(x_tr,y_tr, deg=10)\n",
    "y_val_tr= np.polyval(coeff,x_tr)\n",
    "y_val_te= np.polyval(coeff,x_te)\n",
    "\n",
    "def RSS(y, y_pred):\n",
    "    return np.sum(np.square((y-y_pred)))"
   ]
  },
  {
   "cell_type": "code",
   "execution_count": 190,
   "metadata": {},
   "outputs": [
    {
     "name": "stdout",
     "output_type": "stream",
     "text": [
      "Train set: 0.636766\n",
      "Test set: 1.397276\n"
     ]
    }
   ],
   "source": [
    "#RSS on the train/test sets\n",
    "print(\"Train set: %f\" %RSS(y_tr, y_val_tr))\n",
    "print(\"Test set: %f\" %RSS(y_te, y_val_te))"
   ]
  },
  {
   "cell_type": "markdown",
   "metadata": {},
   "source": [
    "The model strongly overfits."
   ]
  },
  {
   "cell_type": "code",
   "execution_count": 191,
   "metadata": {},
   "outputs": [
    {
     "data": {
      "text/plain": [
       "<matplotlib.legend.Legend at 0x1a2a9e5f60>"
      ]
     },
     "execution_count": 191,
     "metadata": {},
     "output_type": "execute_result"
    },
    {
     "data": {
      "image/png": "[encoded data removed]",
      "text/plain": [
       "<matplotlib.figure.Figure at 0x1a2a62a400>"
      ]
     },
     "metadata": {},
     "output_type": "display_data"
    }
   ],
   "source": [
    "#plot model\n",
    "x_plot = np.arange(np.min(x), np.max(x), 0.01)\n",
    "y_plot = np.polyval(coeff,x_plot)\n",
    "plt.plot(x_plot, y_plot, label=\"model\")\n",
    "plt.scatter(x_te, y_te, label=\"test data\")\n",
    "plt.scatter(x_tr, y_tr, label=\"train data\")\n",
    "plt.legend()"
   ]
  },
  {
   "cell_type": "markdown",
   "metadata": {},
   "source": [
    "- Apply regularization using ridge regression. Tune the regularization strength using grid search.\n",
    "- Compute the train/test RSS of your (tuned) ridge regression model and plot the new curve."
   ]
  },
  {
   "cell_type": "code",
   "execution_count": 192,
   "metadata": {},
   "outputs": [],
   "source": [
    "#polynomial features\n",
    "from sklearn.preprocessing import PolynomialFeatures\n",
    "poly_obj = PolynomialFeatures(degree=10, include_bias=False)\n",
    "X = poly_obj.fit_transform(x[:,np.newaxis],y)\n",
    "x_values = np.linspace(min(x), max(x), num=100)\n",
    "x_values_poly = poly_obj.transform(x_values[:, np.newaxis])"
   ]
  },
  {
   "cell_type": "code",
   "execution_count": 193,
   "metadata": {},
   "outputs": [],
   "source": [
    "X_tr, X_te, y_tr, y_te = train_test_split(X, y, test_size=0.5, random_state=0)"
   ]
  },
  {
   "cell_type": "code",
   "execution_count": 194,
   "metadata": {},
   "outputs": [
    {
     "data": {
      "text/plain": [
       "Ridge(alpha=1.0, copy_X=True, fit_intercept=True, max_iter=None,\n",
       "   normalize=False, random_state=None, solver='auto', tol=0.001)"
      ]
     },
     "execution_count": 194,
     "metadata": {},
     "output_type": "execute_result"
    }
   ],
   "source": [
    "#ridge regression with default alpha\n",
    "from sklearn.linear_model import Ridge\n",
    "ridge = Ridge()\n",
    "ridge.fit(X_tr, y_tr)"
   ]
  },
  {
   "cell_type": "code",
   "execution_count": 195,
   "metadata": {},
   "outputs": [
    {
     "name": "stdout",
     "output_type": "stream",
     "text": [
      "RSS of test set is 0.917074\n",
      "RSS of train set is 1.123992\n"
     ]
    },
    {
     "data": {
      "text/plain": [
       "<matplotlib.legend.Legend at 0x1a2aa82748>"
      ]
     },
     "execution_count": 195,
     "metadata": {},
     "output_type": "execute_result"
    },
    {
     "data": {
      "image/png": "[encoded data removed]",
      "text/plain": [
       "<matplotlib.figure.Figure at 0x1a2a9cca58>"
      ]
     },
     "metadata": {},
     "output_type": "display_data"
    }
   ],
   "source": [
    "y_val_rg = ridge.predict(x_values_poly) \n",
    "y_pred_rg = ridge.predict(X_te)\n",
    "print(\"RSS of test set is %f\" %RSS(y_pred_rg, y_te))\n",
    "y_pred_rg = ridge.predict(X_tr)\n",
    "print(\"RSS of train set is %f\" %RSS(y_pred_rg, y_tr))\n",
    "\n",
    "plt.plot(x_values, y_val_rg, label=\"alpha=1\")\n",
    "#plt.scatter(x_te, y_te)\n",
    "plt.scatter(X_tr[:, 0], y_tr, label='train set', color='green')\n",
    "plt.scatter(X_te[:, 0], y_te, label='test set', color='orange')\n",
    "plt.legend()"
   ]
  },
  {
   "cell_type": "code",
   "execution_count": 196,
   "metadata": {},
   "outputs": [],
   "source": [
    "#tuning the regularization strength\n",
    "alphas = np.logspace(-20, 10, num=100)"
   ]
  },
  {
   "cell_type": "code",
   "execution_count": 197,
   "metadata": {},
   "outputs": [
    {
     "name": "stderr",
     "output_type": "stream",
     "text": [
      "/anaconda3/envs/exts-aml1/lib/python3.6/site-packages/scipy/linalg/basic.py:40: RuntimeWarning: scipy.linalg.solve\n",
      "Ill-conditioned matrix detected. Result is not guaranteed to be accurate.\n",
      "Reciprocal condition number/precision: 2.223259610884488e-22 / 1.1102230246251565e-16\n",
      "  RuntimeWarning)\n",
      "/anaconda3/envs/exts-aml1/lib/python3.6/site-packages/scipy/linalg/basic.py:40: RuntimeWarning: scipy.linalg.solve\n",
      "Ill-conditioned matrix detected. Result is not guaranteed to be accurate.\n",
      "Reciprocal condition number/precision: 3.9288482305254113e-22 / 1.1102230246251565e-16\n",
      "  RuntimeWarning)\n",
      "/anaconda3/envs/exts-aml1/lib/python3.6/site-packages/scipy/linalg/basic.py:40: RuntimeWarning: scipy.linalg.solve\n",
      "Ill-conditioned matrix detected. Result is not guaranteed to be accurate.\n",
      "Reciprocal condition number/precision: 8.992148268779153e-22 / 1.1102230246251565e-16\n",
      "  RuntimeWarning)\n",
      "/anaconda3/envs/exts-aml1/lib/python3.6/site-packages/scipy/linalg/basic.py:40: RuntimeWarning: scipy.linalg.solve\n",
      "Ill-conditioned matrix detected. Result is not guaranteed to be accurate.\n",
      "Reciprocal condition number/precision: 1.8438407751317866e-21 / 1.1102230246251565e-16\n",
      "  RuntimeWarning)\n",
      "/anaconda3/envs/exts-aml1/lib/python3.6/site-packages/scipy/linalg/basic.py:40: RuntimeWarning: scipy.linalg.solve\n",
      "Ill-conditioned matrix detected. Result is not guaranteed to be accurate.\n",
      "Reciprocal condition number/precision: 3.893012258648733e-21 / 1.1102230246251565e-16\n",
      "  RuntimeWarning)\n",
      "/anaconda3/envs/exts-aml1/lib/python3.6/site-packages/scipy/linalg/basic.py:40: RuntimeWarning: scipy.linalg.solve\n",
      "Ill-conditioned matrix detected. Result is not guaranteed to be accurate.\n",
      "Reciprocal condition number/precision: 8.275060802952814e-21 / 1.1102230246251565e-16\n",
      "  RuntimeWarning)\n",
      "/anaconda3/envs/exts-aml1/lib/python3.6/site-packages/scipy/linalg/basic.py:40: RuntimeWarning: scipy.linalg.solve\n",
      "Ill-conditioned matrix detected. Result is not guaranteed to be accurate.\n",
      "Reciprocal condition number/precision: 1.5850185568129788e-20 / 1.1102230246251565e-16\n",
      "  RuntimeWarning)\n",
      "/anaconda3/envs/exts-aml1/lib/python3.6/site-packages/scipy/linalg/basic.py:40: RuntimeWarning: scipy.linalg.solve\n",
      "Ill-conditioned matrix detected. Result is not guaranteed to be accurate.\n",
      "Reciprocal condition number/precision: 4.678763338320464e-20 / 1.1102230246251565e-16\n",
      "  RuntimeWarning)\n",
      "/anaconda3/envs/exts-aml1/lib/python3.6/site-packages/scipy/linalg/basic.py:40: RuntimeWarning: scipy.linalg.solve\n",
      "Ill-conditioned matrix detected. Result is not guaranteed to be accurate.\n",
      "Reciprocal condition number/precision: 6.762055950588711e-20 / 1.1102230246251565e-16\n",
      "  RuntimeWarning)\n",
      "/anaconda3/envs/exts-aml1/lib/python3.6/site-packages/scipy/linalg/basic.py:40: RuntimeWarning: scipy.linalg.solve\n",
      "Ill-conditioned matrix detected. Result is not guaranteed to be accurate.\n",
      "Reciprocal condition number/precision: 1.3239602703197194e-19 / 1.1102230246251565e-16\n",
      "  RuntimeWarning)\n",
      "/anaconda3/envs/exts-aml1/lib/python3.6/site-packages/scipy/linalg/basic.py:40: RuntimeWarning: scipy.linalg.solve\n",
      "Ill-conditioned matrix detected. Result is not guaranteed to be accurate.\n",
      "Reciprocal condition number/precision: 2.610630986025917e-19 / 1.1102230246251565e-16\n",
      "  RuntimeWarning)\n",
      "/anaconda3/envs/exts-aml1/lib/python3.6/site-packages/scipy/linalg/basic.py:40: RuntimeWarning: scipy.linalg.solve\n",
      "Ill-conditioned matrix detected. Result is not guaranteed to be accurate.\n",
      "Reciprocal condition number/precision: 5.200353526143654e-19 / 1.1102230246251565e-16\n",
      "  RuntimeWarning)\n",
      "/anaconda3/envs/exts-aml1/lib/python3.6/site-packages/scipy/linalg/basic.py:40: RuntimeWarning: scipy.linalg.solve\n",
      "Ill-conditioned matrix detected. Result is not guaranteed to be accurate.\n",
      "Reciprocal condition number/precision: 1.0405982422361057e-18 / 1.1102230246251565e-16\n",
      "  RuntimeWarning)\n",
      "/anaconda3/envs/exts-aml1/lib/python3.6/site-packages/scipy/linalg/basic.py:40: RuntimeWarning: scipy.linalg.solve\n",
      "Ill-conditioned matrix detected. Result is not guaranteed to be accurate.\n",
      "Reciprocal condition number/precision: 2.091950447259539e-18 / 1.1102230246251565e-16\n",
      "  RuntimeWarning)\n",
      "/anaconda3/envs/exts-aml1/lib/python3.6/site-packages/scipy/linalg/basic.py:40: RuntimeWarning: scipy.linalg.solve\n",
      "Ill-conditioned matrix detected. Result is not guaranteed to be accurate.\n",
      "Reciprocal condition number/precision: 4.223901356470203e-18 / 1.1102230246251565e-16\n",
      "  RuntimeWarning)\n",
      "/anaconda3/envs/exts-aml1/lib/python3.6/site-packages/scipy/linalg/basic.py:40: RuntimeWarning: scipy.linalg.solve\n",
      "Ill-conditioned matrix detected. Result is not guaranteed to be accurate.\n",
      "Reciprocal condition number/precision: 8.583703876455789e-18 / 1.1102230246251565e-16\n",
      "  RuntimeWarning)\n",
      "/anaconda3/envs/exts-aml1/lib/python3.6/site-packages/scipy/linalg/basic.py:40: RuntimeWarning: scipy.linalg.solve\n",
      "Ill-conditioned matrix detected. Result is not guaranteed to be accurate.\n",
      "Reciprocal condition number/precision: 1.7631328847531925e-17 / 1.1102230246251565e-16\n",
      "  RuntimeWarning)\n",
      "/anaconda3/envs/exts-aml1/lib/python3.6/site-packages/scipy/linalg/basic.py:40: RuntimeWarning: scipy.linalg.solve\n",
      "Ill-conditioned matrix detected. Result is not guaranteed to be accurate.\n",
      "Reciprocal condition number/precision: 3.584523462152494e-17 / 1.1102230246251565e-16\n",
      "  RuntimeWarning)\n",
      "/anaconda3/envs/exts-aml1/lib/python3.6/site-packages/scipy/linalg/basic.py:40: RuntimeWarning: scipy.linalg.solve\n",
      "Ill-conditioned matrix detected. Result is not guaranteed to be accurate.\n",
      "Reciprocal condition number/precision: 1.0473964163776388e-16 / 1.1102230246251565e-16\n",
      "  RuntimeWarning)\n"
     ]
    }
   ],
   "source": [
    "from sklearn.metrics import mean_squared_error as mse\n",
    "#save errors\n",
    "train_sets = []\n",
    "test_sets = []\n",
    "\n",
    "# grid search\n",
    "for alpha in alphas:\n",
    "    ridge = Ridge(alpha=alpha)\n",
    "    ridge.fit(X_tr, y_tr)\n",
    "    y_val_rg_tr = ridge.predict(X_tr)\n",
    "    train_sets.append(mse(y_tr, y_val_rg_tr))\n",
    "    \n",
    "    y_val_rg_te = ridge.predict(X_te)\n",
    "    test_sets.append(mse(y_te,y_val_rg_te))\n"
   ]
  },
  {
   "cell_type": "code",
   "execution_count": 198,
   "metadata": {},
   "outputs": [
    {
     "data": {
      "image/png": "[encoded data removed]",
      "text/plain": [
       "<matplotlib.figure.Figure at 0x1a2aa82668>"
      ]
     },
     "metadata": {},
     "output_type": "display_data"
    }
   ],
   "source": [
    "%matplotlib inline\n",
    "import matplotlib.pyplot as plt\n",
    "plt.semilogx(alphas, train_sets, label='train curve')\n",
    "plt.semilogx(alphas, test_sets, label='test curve')\n",
    "plt.legend()\n",
    "plt.show()"
   ]
  },
  {
   "cell_type": "code",
   "execution_count": 199,
   "metadata": {},
   "outputs": [],
   "source": [
    "numb = abs(np.array(test_sets)-np.array(train_sets)).min()"
   ]
  },
  {
   "cell_type": "code",
   "execution_count": 200,
   "metadata": {},
   "outputs": [],
   "source": [
    "idx = np.where((np.array(test_scores)-np.array(train_scores))==numb)[0]"
   ]
  },
  {
   "cell_type": "code",
   "execution_count": 201,
   "metadata": {},
   "outputs": [
    {
     "data": {
      "text/plain": [
       "array([27])"
      ]
     },
     "execution_count": 201,
     "metadata": {},
     "output_type": "execute_result"
    }
   ],
   "source": [
    "idx"
   ]
  },
  {
   "cell_type": "code",
   "execution_count": 202,
   "metadata": {},
   "outputs": [
    {
     "data": {
      "text/plain": [
       "array([1.51991108e-12])"
      ]
     },
     "execution_count": 202,
     "metadata": {},
     "output_type": "execute_result"
    }
   ],
   "source": [
    "alphas[idx]"
   ]
  },
  {
   "cell_type": "code",
   "execution_count": 204,
   "metadata": {},
   "outputs": [
    {
     "name": "stdout",
     "output_type": "stream",
     "text": [
      "RSS of test set is 1.012426\n",
      "RSS of train set is 1.008358\n"
     ]
    },
    {
     "data": {
      "text/plain": [
       "<matplotlib.legend.Legend at 0x1a2b1c15f8>"
      ]
     },
     "execution_count": 204,
     "metadata": {},
     "output_type": "execute_result"
    },
    {
     "data": {
      "image/png": "[encoded data removed]",
      "text/plain": [
       "<matplotlib.figure.Figure at 0x1a2b0db940>"
      ]
     },
     "metadata": {},
     "output_type": "display_data"
    }
   ],
   "source": [
    "#new ridge regression\n",
    "ridge = Ridge(alpha=alphas[idx])\n",
    "ridge.fit(X_tr, y_tr)\n",
    "y_val_rg = ridge.predict(x_values_poly) \n",
    "y_pred_rg = ridge.predict(X_te)\n",
    "print(\"RSS of test set is %f\" %RSS(y_pred_rg, y_te))\n",
    "\n",
    "y_pred_rg = ridge.predict(X_tr)\n",
    "print(\"RSS of train set is %f\" %RSS(y_pred_rg, y_tr))\n",
    "plt.plot(x_values, y_val_rg, label=\"alpha=1e-12\")\n",
    "#plt.scatter(x_te, y_te)\n",
    "plt.scatter(X_tr[:, 0], y_tr, label='train set', color='green')\n",
    "plt.scatter(X_te[:, 0], y_te, label='test set', color='orange')\n",
    "plt.legend()"
   ]
  },
  {
   "cell_type": "code",
   "execution_count": null,
   "metadata": {},
   "outputs": [],
   "source": []
  }
 ],
 "metadata": {
  "kernelspec": {
   "display_name": "Python (ML1)",
   "language": "python",
   "name": "myenv"
  }
 },
 "nbformat": 4,
 "nbformat_minor": 2
}
